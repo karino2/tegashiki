{
  "nbformat": 4,
  "nbformat_minor": 0,
  "metadata": {
    "colab": {
      "name": "TFLite.ipynb",
      "version": "0.3.2",
      "provenance": [],
      "collapsed_sections": [],
      "toc_visible": true,
      "include_colab_link": true
    },
    "kernelspec": {
      "name": "python3",
      "display_name": "Python 3"
    }
  },
  "cells": [
    {
      "cell_type": "markdown",
      "metadata": {
        "id": "view-in-github",
        "colab_type": "text"
      },
      "source": [
        "<a href=\"https://colab.research.google.com/github/karino2/tegashiki/blob/master/TFLite.ipynb\" target=\"_parent\"><img src=\"https://colab.research.google.com/assets/colab-badge.svg\" alt=\"Open In Colab\"/></a>"
      ]
    },
    {
      "cell_type": "code",
      "metadata": {
        "id": "MGZvop3CJGck",
        "colab_type": "code",
        "colab": {}
      },
      "source": [
        "# !pip install tensorflow==2.0.0-beta0"
      ],
      "execution_count": 0,
      "outputs": []
    },
    {
      "cell_type": "code",
      "metadata": {
        "id": "rvCKjvmkD0z4",
        "colab_type": "code",
        "colab": {}
      },
      "source": [
        "# !pip install tf-nightly"
      ],
      "execution_count": 0,
      "outputs": []
    },
    {
      "cell_type": "code",
      "metadata": {
        "id": "LL_UsFzfybFW",
        "colab_type": "code",
        "colab": {}
      },
      "source": [
        "# today tensorflow seems update and batchnormalization name scope is changed. I downgrade for a while\n",
        "# !pip install tensorflow==1.13.1"
      ],
      "execution_count": 0,
      "outputs": []
    },
    {
      "cell_type": "code",
      "metadata": {
        "id": "icvd57NEyMGq",
        "colab_type": "code",
        "colab": {}
      },
      "source": [
        "import tensorflow as tf"
      ],
      "execution_count": 0,
      "outputs": []
    },
    {
      "cell_type": "code",
      "metadata": {
        "id": "XnC7Ev9Ry6ix",
        "colab_type": "code",
        "colab": {}
      },
      "source": [
        "# from tensorflow.contrib import lite"
      ],
      "execution_count": 0,
      "outputs": []
    },
    {
      "cell_type": "code",
      "metadata": {
        "id": "vm9V_horyUR6",
        "colab_type": "code",
        "outputId": "f6e9b562-d10e-474e-b2be-dbcab43a2923",
        "colab": {
          "base_uri": "https://localhost:8080/",
          "height": 35
        }
      },
      "source": [
        "print(tf.VERSION)\n",
        "# print(tf.__version__)"
      ],
      "execution_count": 2,
      "outputs": [
        {
          "output_type": "stream",
          "text": [
            "1.14.0\n"
          ],
          "name": "stdout"
        }
      ]
    },
    {
      "cell_type": "code",
      "metadata": {
        "id": "JhI5KB1qJoft",
        "colab_type": "code",
        "colab": {}
      },
      "source": [
        "from google.colab import auth\n",
        "auth.authenticate_user()"
      ],
      "execution_count": 0,
      "outputs": []
    },
    {
      "cell_type": "code",
      "metadata": {
        "id": "WPuINWuNV6Sq",
        "colab_type": "code",
        "colab": {}
      },
      "source": [
        "# tf.keras.backend.clear_session()\n",
        "# tf.keras.backend.set_learning_phase(0) "
      ],
      "execution_count": 0,
      "outputs": []
    },
    {
      "cell_type": "code",
      "metadata": {
        "id": "Pp1sPSKyJkOf",
        "colab_type": "code",
        "colab": {}
      },
      "source": [
        "# MODEL_DIR=\"gs://karino2-tegashiki/models/exports/export_expgen_rnn_small_dropout05_fixshape/1560480405/\"\n",
        "# MODEL_DIR=\"gs://karino2-tegashiki/models/exports/export_expgen_rnn_small_dropout05_trainflaghandle/1560556738/\"\n",
        "# MODEL_DIR=\"gs://karino2-tegashiki/models/exports/export_expgen_convencdec_posfc/1560866662\"\n",
        "# MODEL_DIR=\"gs://karino2-tegashiki/models/exports/expgen_convencdec_myembed/1560903469\"\n",
        "# MODEL_DIR=\"gs://karino2-tegashiki/models/exports/expgen_convencdec_myembed2/1560910035\"\n",
        "# MODEL_DIR=\"gs://karino2-tegashiki/models/exports/expgen_convencdec_myembed2/1560933034\"\n",
        "# MODEL_DIR=\"gs://karino2-tegashiki/models/exports/expgen_convencdec_myembed2/1560943781\"\n",
        "# MODEL_DIR=\"gs://karino2-tegashiki/models/exports/expgen_convencdec_myembed_small/1560974897\"\n",
        "#MODEL_DIR=\"gs://karino2-tegashiki/models/exports/expgen_convencdec_fixfutureleak/1561197058\"\n",
        "# MODEL_DIR=\"gs://karino2-tegashiki/models/exports/expgen_convencdec_enc256x13dec128x5/1561326828\"\n",
        "# MODEL_DIR=\"gs://karino2-tegashiki/models/exports/expgen_plain_dechidden256_fefix/1562225530\"\n",
        "\n",
        "MODEL_DIR=\"gs://karino2-tegashiki/models/exports/expgen_plain_encdecatten_pat2_trainopfix/1563243864\""
      ],
      "execution_count": 0,
      "outputs": []
    },
    {
      "cell_type": "code",
      "metadata": {
        "id": "zBD9lkcYlZVM",
        "colab_type": "code",
        "colab": {}
      },
      "source": [
        "LITE = tf.lite\n",
        "# LITE = lite"
      ],
      "execution_count": 0,
      "outputs": []
    },
    {
      "cell_type": "code",
      "metadata": {
        "id": "S7d6uFkobz1H",
        "colab_type": "code",
        "colab": {}
      },
      "source": [
        "# !gsutil ls {MODLE_DIR}"
      ],
      "execution_count": 0,
      "outputs": []
    },
    {
      "cell_type": "markdown",
      "metadata": {
        "id": "f-f56rUfldP4",
        "colab_type": "text"
      },
      "source": [
        "### Convert to TFLite"
      ]
    },
    {
      "cell_type": "code",
      "metadata": {
        "id": "LvifOoiV3bZt",
        "colab_type": "code",
        "colab": {}
      },
      "source": [
        "MAX_STROKE_NUM=22\n",
        "MAX_ONE_STROKE_LEN=50\n",
        "INPUT_TYPE_DIM=3"
      ],
      "execution_count": 0,
      "outputs": []
    },
    {
      "cell_type": "code",
      "metadata": {
        "id": "fjxZojtez8my",
        "colab_type": "code",
        "outputId": "5e7b393f-f81b-46da-a30e-4a08ee536fa0",
        "colab": {
          "base_uri": "https://localhost:8080/",
          "height": 293
        }
      },
      "source": [
        "# converter = LITE.TFLiteConverter.from_saved_model(MODEL_DIR, input_shapes={\"stroke_input\" : [MAX_STROKE_NUM, MAX_ONE_STROKE_LEN, INPUT_TYPE_DIM]})\n",
        "converter = LITE.TFLiteConverter.from_saved_model(MODEL_DIR)\n",
        "# workaround https://github.com/tensorflow/tensorflow/issues/26413\n",
        "# converter.post_training_quantize=True\n",
        "converter.optimizations = [LITE.Optimize.OPTIMIZE_FOR_SIZE]\n",
        "\n",
        "tflite_quant_model = converter.convert()\n",
        "open(\"converted_model.tflite\", \"wb\").write(tflite_quant_model)"
      ],
      "execution_count": 8,
      "outputs": [
        {
          "output_type": "stream",
          "text": [
            "WARNING: Logging before flag parsing goes to stderr.\n",
            "W0716 02:30:01.340767 140673038223232 deprecation.py:323] From /usr/local/lib/python3.6/dist-packages/tensorflow/lite/python/convert_saved_model.py:60: load (from tensorflow.python.saved_model.loader_impl) is deprecated and will be removed in a future version.\n",
            "Instructions for updating:\n",
            "This function will only be available through the v1 compatibility library as tf.compat.v1.saved_model.loader.load or tf.compat.v1.saved_model.load. There will be a new function for importing SavedModels in Tensorflow 2.0.\n",
            "W0716 02:30:03.082570 140673038223232 deprecation.py:323] From /usr/local/lib/python3.6/dist-packages/tensorflow/python/training/saver.py:1276: checkpoint_exists (from tensorflow.python.training.checkpoint_management) is deprecated and will be removed in a future version.\n",
            "Instructions for updating:\n",
            "Use standard file APIs to check for files with this prefix.\n",
            "W0716 02:30:08.209443 140673038223232 deprecation.py:323] From /usr/local/lib/python3.6/dist-packages/tensorflow/lite/python/util.py:238: convert_variables_to_constants (from tensorflow.python.framework.graph_util_impl) is deprecated and will be removed in a future version.\n",
            "Instructions for updating:\n",
            "Use `tf.compat.v1.graph_util.convert_variables_to_constants`\n",
            "W0716 02:30:08.211029 140673038223232 deprecation.py:323] From /usr/local/lib/python3.6/dist-packages/tensorflow/python/framework/graph_util_impl.py:270: extract_sub_graph (from tensorflow.python.framework.graph_util_impl) is deprecated and will be removed in a future version.\n",
            "Instructions for updating:\n",
            "Use `tf.compat.v1.graph_util.extract_sub_graph`\n"
          ],
          "name": "stderr"
        },
        {
          "output_type": "execute_result",
          "data": {
            "text/plain": [
              "22985992"
            ]
          },
          "metadata": {
            "tags": []
          },
          "execution_count": 8
        }
      ]
    },
    {
      "cell_type": "code",
      "metadata": {
        "id": "LQltPhhwWOAM",
        "colab_type": "code",
        "colab": {}
      },
      "source": [
        "# TFLITE_MODEL_NAME=\"convencdec_enc256x13dec128x5.tflite\"\n",
        "# TFLITE_MODEL_NAME=\"plain_dechidden256_fefix.tflite\"\n",
        "\n",
        "TFLITE_MODEL_NAME=\"plain_encdecatten_pat2_trainopfix.tflite\""
      ],
      "execution_count": 0,
      "outputs": []
    },
    {
      "cell_type": "code",
      "metadata": {
        "id": "mxUbdMie3qdG",
        "colab_type": "code",
        "outputId": "708f56a1-0e3f-42f4-fe2d-f935060042c5",
        "colab": {
          "base_uri": "https://localhost:8080/",
          "height": 92
        }
      },
      "source": [
        "!cp converted_model.tflite {TFLITE_MODEL_NAME}\n",
        "!gsutil cp {TFLITE_MODEL_NAME} gs://karino2-tegashiki/models/mobile/"
      ],
      "execution_count": 10,
      "outputs": [
        {
          "output_type": "stream",
          "text": [
            "Copying file://plain_encdecatten_pat2_trainopfix.tflite [Content-Type=application/octet-stream]...\n",
            "-\n",
            "Operation completed over 1 objects/21.9 MiB.                                     \n"
          ],
          "name": "stdout"
        }
      ]
    },
    {
      "cell_type": "code",
      "metadata": {
        "id": "35Welxzh31ym",
        "colab_type": "code",
        "outputId": "0479d108-78df-4c19-e5ae-2741322777dd",
        "colab": {
          "base_uri": "https://localhost:8080/",
          "height": 90
        }
      },
      "source": [
        "!gsutil ls gs://karino2-tegashiki/models/mobile/"
      ],
      "execution_count": 0,
      "outputs": [
        {
          "output_type": "stream",
          "text": [
            "gs://karino2-tegashiki/models/mobile/convencdec_enc256x13dec128x5.tflite\n",
            "gs://karino2-tegashiki/models/mobile/convencdec_fixfutureleak.tflite\n",
            "gs://karino2-tegashiki/models/mobile/convencdec_myembed2.tflite\n",
            "gs://karino2-tegashiki/models/mobile/convencdec_myembed_small.tflite\n"
          ],
          "name": "stdout"
        }
      ]
    },
    {
      "cell_type": "markdown",
      "metadata": {
        "id": "lfww6-4WaxKA",
        "colab_type": "text"
      },
      "source": [
        "### Test"
      ]
    },
    {
      "cell_type": "code",
      "metadata": {
        "id": "I87hDpU14NTt",
        "colab_type": "code",
        "colab": {}
      },
      "source": [
        "import numpy as np\n",
        "import tensorflow as tf"
      ],
      "execution_count": 0,
      "outputs": []
    },
    {
      "cell_type": "code",
      "metadata": {
        "id": "0hH7y6ei3UGh",
        "colab_type": "code",
        "colab": {}
      },
      "source": [
        "BEGIN_OF_SEQ = 113\n",
        "MAX_STROKE_NUM=22\n",
        "MAX_TOKEN_LEN=10+2\n"
      ],
      "execution_count": 0,
      "outputs": []
    },
    {
      "cell_type": "code",
      "metadata": {
        "id": "5zLpsHAA4NFg",
        "colab_type": "code",
        "colab": {}
      },
      "source": [
        "# MODEL_FILE=\"convencdec_myembed2.tflite\"\n",
        "MODEL_FILE=\"converted_model.tflite\"\n",
        "interpreter = tf.lite.Interpreter(model_path=MODEL_FILE)"
      ],
      "execution_count": 0,
      "outputs": []
    },
    {
      "cell_type": "code",
      "metadata": {
        "id": "fb5QpA6Sb7e5",
        "colab_type": "code",
        "colab": {}
      },
      "source": [
        "interpreter.allocate_tensors()"
      ],
      "execution_count": 0,
      "outputs": []
    },
    {
      "cell_type": "code",
      "metadata": {
        "id": "Suj__mAGa9w0",
        "colab_type": "code",
        "outputId": "47af3bec-d0fb-49a2-e202-574f343e6cd5",
        "colab": {
          "base_uri": "https://localhost:8080/",
          "height": 200
        }
      },
      "source": [
        "interpreter.get_input_details()"
      ],
      "execution_count": 14,
      "outputs": [
        {
          "output_type": "execute_result",
          "data": {
            "text/plain": [
              "[{'dtype': numpy.int32,\n",
              "  'index': 209,\n",
              "  'name': 'input_decoder',\n",
              "  'quantization': (0.0, 0),\n",
              "  'shape': array([ 1, 12], dtype=int32)},\n",
              " {'dtype': numpy.int32,\n",
              "  'index': 213,\n",
              "  'name': 'stroke_input',\n",
              "  'quantization': (0.0, 0),\n",
              "  'shape': array([ 1, 22, 50,  3], dtype=int32)}]"
            ]
          },
          "metadata": {
            "tags": []
          },
          "execution_count": 14
        }
      ]
    },
    {
      "cell_type": "code",
      "metadata": {
        "id": "8chFeWS_bJu0",
        "colab_type": "code",
        "outputId": "0a48420d-b94d-42c7-a36d-77959199ead0",
        "colab": {
          "base_uri": "https://localhost:8080/",
          "height": 108
        }
      },
      "source": [
        "interpreter.get_output_details()"
      ],
      "execution_count": 15,
      "outputs": [
        {
          "output_type": "execute_result",
          "data": {
            "text/plain": [
              "[{'dtype': numpy.float32,\n",
              "  'index': 226,\n",
              "  'name': 'time_distributed/Reshape_1',\n",
              "  'quantization': (0.0, 0),\n",
              "  'shape': array([  1,  12, 115], dtype=int32)}]"
            ]
          },
          "metadata": {
            "tags": []
          },
          "execution_count": 15
        }
      ]
    },
    {
      "cell_type": "code",
      "metadata": {
        "id": "W1-FF19s1qfu",
        "colab_type": "code",
        "colab": {}
      },
      "source": [
        "DECODER_INPUT_ID=209\n",
        "STROKE_INPUT_ID=213\n",
        "OUTPUT_ID=226"
      ],
      "execution_count": 0,
      "outputs": []
    },
    {
      "cell_type": "code",
      "metadata": {
        "id": "IffXSDyg02O8",
        "colab_type": "code",
        "colab": {}
      },
      "source": [
        "def predict(interpreter, inputst, inputdec):\n",
        "  \n",
        "  interpreter.set_tensor(DECODER_INPUT_ID, inputdec.astype(np.int32).reshape([1, MAX_TOKEN_LEN]))\n",
        "  interpreter.set_tensor(STROKE_INPUT_ID, inputst.astype(np.int32).reshape([1, MAX_STROKE_NUM, 50, 3]))\n",
        "  interpreter.invoke()\n",
        "  inference_res = interpreter.get_tensor(OUTPUT_ID)\n",
        "  return [inference_res[0, i, :].argmax() for i in range(MAX_TOKEN_LEN)]"
      ],
      "execution_count": 0,
      "outputs": []
    },
    {
      "cell_type": "code",
      "metadata": {
        "id": "3-EpWN-L01-A",
        "colab_type": "code",
        "colab": {}
      },
      "source": [
        "import json"
      ],
      "execution_count": 0,
      "outputs": []
    },
    {
      "cell_type": "code",
      "metadata": {
        "id": "vqze3dWC033W",
        "colab_type": "code",
        "colab": {}
      },
      "source": [
        "JSON_FILE=\"20190716_12013337.json\""
      ],
      "execution_count": 0,
      "outputs": []
    },
    {
      "cell_type": "code",
      "metadata": {
        "id": "fpk2bc8A01p1",
        "colab_type": "code",
        "colab": {}
      },
      "source": [
        "with open(JSON_FILE) as f:\n",
        "  data = json.load(f)"
      ],
      "execution_count": 0,
      "outputs": []
    },
    {
      "cell_type": "code",
      "metadata": {
        "id": "Yypg2m9808n0",
        "colab_type": "code",
        "colab": {}
      },
      "source": [
        "normalized = np.array(data[1]).reshape(MAX_STROKE_NUM, 50, 3)"
      ],
      "execution_count": 0,
      "outputs": []
    },
    {
      "cell_type": "code",
      "metadata": {
        "id": "BAlypJx-2o6v",
        "colab_type": "code",
        "colab": {}
      },
      "source": [
        ""
      ],
      "execution_count": 0,
      "outputs": []
    },
    {
      "cell_type": "code",
      "metadata": {
        "id": "moHfwkX42ohU",
        "colab_type": "code",
        "colab": {
          "base_uri": "https://localhost:8080/",
          "height": 35
        },
        "outputId": "81fe57b3-b830-472d-82ca-bc2ad6a4f20d"
      },
      "source": [
        "predict(interpreter, normalized,  np.array([BEGIN_OF_SEQ, 0, 0, 0, 0, 0, 0, 0, 0, 0, 0, 0]))"
      ],
      "execution_count": 32,
      "outputs": [
        {
          "output_type": "execute_result",
          "data": {
            "text/plain": [
              "[37, 75, 34, 34, 34]"
            ]
          },
          "metadata": {
            "tags": []
          },
          "execution_count": 32
        }
      ]
    },
    {
      "cell_type": "code",
      "metadata": {
        "id": "LQCVs25m3FE2",
        "colab_type": "code",
        "colab": {
          "base_uri": "https://localhost:8080/",
          "height": 35
        },
        "outputId": "4b10dcfb-b2f6-4fef-8639-722125f50336"
      },
      "source": [
        "predict(interpreter, normalized,  np.array([BEGIN_OF_SEQ, 37, 0, 0, 0, 0, 0, 0, 0, 0, 0, 0]))"
      ],
      "execution_count": 33,
      "outputs": [
        {
          "output_type": "execute_result",
          "data": {
            "text/plain": [
              "[37, 29, 34, 34, 34]"
            ]
          },
          "metadata": {
            "tags": []
          },
          "execution_count": 33
        }
      ]
    },
    {
      "cell_type": "code",
      "metadata": {
        "id": "FgV3cfMV3pvd",
        "colab_type": "code",
        "colab": {
          "base_uri": "https://localhost:8080/",
          "height": 35
        },
        "outputId": "0e791bcc-3003-48eb-e180-8e707b770c4d"
      },
      "source": [
        "predict(interpreter, normalized,  np.array([BEGIN_OF_SEQ, 37, 29, 0, 0, 0, 0, 0, 0, 0, 0, 0]))"
      ],
      "execution_count": 35,
      "outputs": [
        {
          "output_type": "execute_result",
          "data": {
            "text/plain": [
              "[37, 29, 34, 34, 34, 34, 34, 34, 47, 114, 114, 114]"
            ]
          },
          "metadata": {
            "tags": []
          },
          "execution_count": 35
        }
      ]
    },
    {
      "cell_type": "code",
      "metadata": {
        "id": "8xNknq_Q3pbq",
        "colab_type": "code",
        "colab": {
          "base_uri": "https://localhost:8080/",
          "height": 35
        },
        "outputId": "a9a921e6-b625-4825-99a9-e2fdfade0842"
      },
      "source": [
        "predict(interpreter, normalized,  np.array([BEGIN_OF_SEQ, 37, 29, 34, 0, 0, 0, 0, 0, 0, 0, 0]))"
      ],
      "execution_count": 36,
      "outputs": [
        {
          "output_type": "execute_result",
          "data": {
            "text/plain": [
              "[37, 29, 34, 109, 47, 114, 114, 114, 114, 114, 114, 114]"
            ]
          },
          "metadata": {
            "tags": []
          },
          "execution_count": 36
        }
      ]
    },
    {
      "cell_type": "code",
      "metadata": {
        "id": "F3PS8Gj33pGq",
        "colab_type": "code",
        "colab": {
          "base_uri": "https://localhost:8080/",
          "height": 35
        },
        "outputId": "a3716e23-7799-4653-de1f-289c5f785fc4"
      },
      "source": [
        "predict(interpreter, normalized,  np.array([BEGIN_OF_SEQ, 37, 29, 34, 109, 0, 0, 0, 0, 0, 0, 0]))"
      ],
      "execution_count": 37,
      "outputs": [
        {
          "output_type": "execute_result",
          "data": {
            "text/plain": [
              "[37, 29, 34, 109, 114, 114, 114, 114, 114, 114, 114, 114]"
            ]
          },
          "metadata": {
            "tags": []
          },
          "execution_count": 37
        }
      ]
    },
    {
      "cell_type": "code",
      "metadata": {
        "id": "SH5u7G6M7dKG",
        "colab_type": "code",
        "colab": {}
      },
      "source": [
        ""
      ],
      "execution_count": 0,
      "outputs": []
    },
    {
      "cell_type": "code",
      "metadata": {
        "id": "0_anePGm5OsO",
        "colab_type": "code",
        "colab": {
          "base_uri": "https://localhost:8080/",
          "height": 35
        },
        "outputId": "39b1918a-1c5e-4cee-d889-cadf97f09f8a"
      },
      "source": [
        "predict(interpreter, normalized,  np.array([BEGIN_OF_SEQ, 37, 31, 47, 54, 0, 0, 0, 0, 0, 0, 0]))"
      ],
      "execution_count": 41,
      "outputs": [
        {
          "output_type": "execute_result",
          "data": {
            "text/plain": [
              "[37, 29, 34, 102, 34, 34, 34, 34, 47, 114, 114, 114]"
            ]
          },
          "metadata": {
            "tags": []
          },
          "execution_count": 41
        }
      ]
    },
    {
      "cell_type": "code",
      "metadata": {
        "id": "Vvs0RsKB7N8r",
        "colab_type": "code",
        "colab": {
          "base_uri": "https://localhost:8080/",
          "height": 35
        },
        "outputId": "1864569d-e041-4e34-e833-8f180173aadd"
      },
      "source": [
        "predict(interpreter, normalized, np.array([113, 37, 29, 47, 52, 62, 52, 114, 0, 0, 0, 0]))"
      ],
      "execution_count": 42,
      "outputs": [
        {
          "output_type": "execute_result",
          "data": {
            "text/plain": [
              "[37, 29, 47, 52, 89, 29, 114, 0, 114, 80, 80, 35]"
            ]
          },
          "metadata": {
            "tags": []
          },
          "execution_count": 42
        }
      ]
    },
    {
      "cell_type": "code",
      "metadata": {
        "id": "eG6rtEH73Ek2",
        "colab_type": "code",
        "colab": {
          "base_uri": "https://localhost:8080/",
          "height": 35
        },
        "outputId": "ef4ef3f8-eb70-4ed2-8d27-ae5bc7cb4fae"
      },
      "source": [
        "!ls -l converted_model.tflite"
      ],
      "execution_count": 39,
      "outputs": [
        {
          "output_type": "stream",
          "text": [
            "-rw-r--r-- 1 root root 22985992 Jul 16 02:30 converted_model.tflite\n"
          ],
          "name": "stdout"
        }
      ]
    },
    {
      "cell_type": "code",
      "metadata": {
        "id": "LqFlK4HV4Ec_",
        "colab_type": "code",
        "colab": {}
      },
      "source": [
        ""
      ],
      "execution_count": 0,
      "outputs": []
    },
    {
      "cell_type": "code",
      "metadata": {
        "id": "m86fJjnsYEok",
        "colab_type": "code",
        "colab": {}
      },
      "source": [
        "decoder_input = np.array([112,  76,  75,  76, 113], dtype=np.int32)\n",
        "stroke_input = np.array([[[94, 1155, 1], [147, 1145, 1], [207, 1151, 1], [273, 1179, 1], [340, 1218, 1], [407, 1275, 1], [467, 1349, 1], [510, 1425, 1], [543, 1508, 1], [564, 1588, 1], [573, 1667, 1], [567, 1738, 1], [550, 1798, 1], [530, 1848, 1], [501, 1895, 1], [467, 1928, 1], [427, 1961, 1], [384, 1981, 1], [340, 1998, 1], [297, 2004, 1], [257, 2008, 1], [221, 2008, 1], [188, 2004, 1], [157, 2000, 1], [134, 1991, 1], [114, 1987, 1], [101, 1974, 1], [94, 1967, 1], [88, 1951, 1], [84, 1941, 1], [88, 1928, 1], [84, 1908, 1], [0, 0, 0], [0, 0, 0], [0, 0, 0], [0, 0, 0], [0, 0, 0], [0, 0, 0], [0, 0, 0], [0, 0, 0], [0, 0, 0], [0, 0, 0], [0, 0, 0], [0, 0, 0], [0, 0, 0], [0, 0, 0], [0, 0, 0], [0, 0, 0], [0, 0, 0], [0, 0, 0]], [[7, 263, 1], [11, 276, 1], [14, 319, 1], [18, 382, 1], [21, 472, 1], [24, 579, 1], [24, 709, 1], [27, 842, 1], [27, 981, 1], [24, 1114, 1], [21, 1238, 1], [21, 1349, 1], [18, 1451, 1], [14, 1534, 1], [11, 1608, 1], [7, 1667, 1], [7, 1715, 1], [11, 1754, 1], [14, 1782, 1], [21, 1788, 1], [0, 0, 0], [0, 0, 0], [0, 0, 0], [0, 0, 0], [0, 0, 0], [0, 0, 0], [0, 0, 0], [0, 0, 0], [0, 0, 0], [0, 0, 0], [0, 0, 0], [0, 0, 0], [0, 0, 0], [0, 0, 0], [0, 0, 0], [0, 0, 0], [0, 0, 0], [0, 0, 0], [0, 0, 0], [0, 0, 0], [0, 0, 0], [0, 0, 0], [0, 0, 0], [0, 0, 0], [0, 0, 0], [0, 0, 0], [0, 0, 0], [0, 0, 0], [0, 0, 0], [0, 0, 0]], [[681, 8, 1], [667, 26, 1], [615, 520, 1], [615, 516, 1], [615, 511, 1], [615, 492, 1], [615, 483, 1], [620, 446, 1], [629, 427, 1], [653, 395, 1], [662, 381, 1], [699, 353, 1], [709, 348, 1], [755, 348, 1], [765, 348, 1], [806, 353, 1], [816, 357, 1], [839, 390, 1], [839, 404, 1], [839, 436, 1], [834, 450, 1], [802, 483, 1], [788, 492, 1], [741, 516, 1], [727, 520, 1], [681, 530, 1], [667, 530, 1], [643, 525, 1], [639, 520, 1], [629, 506, 1], [629, 502, 1], [629, 497, 1], [0, 0, 0], [0, 0, 0], [0, 0, 0], [0, 0, 0], [0, 0, 0], [0, 0, 0], [0, 0, 0], [0, 0, 0], [0, 0, 0], [0, 0, 0], [0, 0, 0], [0, 0, 0], [0, 0, 0], [0, 0, 0], [0, 0, 0], [0, 0, 0], [0, 0, 0], [0, 0, 0]], [[0, 0, 0], [0, 0, 0], [0, 0, 0], [0, 0, 0], [0, 0, 0], [0, 0, 0], [0, 0, 0], [0, 0, 0], [0, 0, 0], [0, 0, 0], [0, 0, 0], [0, 0, 0], [0, 0, 0], [0, 0, 0], [0, 0, 0], [0, 0, 0], [0, 0, 0], [0, 0, 0], [0, 0, 0], [0, 0, 0], [0, 0, 0], [0, 0, 0], [0, 0, 0], [0, 0, 0], [0, 0, 0], [0, 0, 0], [0, 0, 0], [0, 0, 0], [0, 0, 0], [0, 0, 0], [0, 0, 0], [0, 0, 0], [0, 0, 0], [0, 0, 0], [0, 0, 0], [0, 0, 0], [0, 0, 0], [0, 0, 0], [0, 0, 0], [0, 0, 0], [0, 0, 0], [0, 0, 0], [0, 0, 0], [0, 0, 0], [0, 0, 0], [0, 0, 0], [0, 0, 0], [0, 0, 0], [0, 0, 0], [0, 0, 0]], [[0, 0, 0], [0, 0, 0], [0, 0, 0], [0, 0, 0], [0, 0, 0], [0, 0, 0], [0, 0, 0], [0, 0, 0], [0, 0, 0], [0, 0, 0], [0, 0, 0], [0, 0, 0], [0, 0, 0], [0, 0, 0], [0, 0, 0], [0, 0, 0], [0, 0, 0], [0, 0, 0], [0, 0, 0], [0, 0, 0], [0, 0, 0], [0, 0, 0], [0, 0, 0], [0, 0, 0], [0, 0, 0], [0, 0, 0], [0, 0, 0], [0, 0, 0], [0, 0, 0], [0, 0, 0], [0, 0, 0], [0, 0, 0], [0, 0, 0], [0, 0, 0], [0, 0, 0], [0, 0, 0], [0, 0, 0], [0, 0, 0], [0, 0, 0], [0, 0, 0], [0, 0, 0], [0, 0, 0], [0, 0, 0], [0, 0, 0], [0, 0, 0], [0, 0, 0], [0, 0, 0], [0, 0, 0], [0, 0, 0], [0, 0, 0]], [[0, 0, 0], [0, 0, 0], [0, 0, 0], [0, 0, 0], [0, 0, 0], [0, 0, 0], [0, 0, 0], [0, 0, 0], [0, 0, 0], [0, 0, 0], [0, 0, 0], [0, 0, 0], [0, 0, 0], [0, 0, 0], [0, 0, 0], [0, 0, 0], [0, 0, 0], [0, 0, 0], [0, 0, 0], [0, 0, 0], [0, 0, 0], [0, 0, 0], [0, 0, 0], [0, 0, 0], [0, 0, 0], [0, 0, 0], [0, 0, 0], [0, 0, 0], [0, 0, 0], [0, 0, 0], [0, 0, 0], [0, 0, 0], [0, 0, 0], [0, 0, 0], [0, 0, 0], [0, 0, 0], [0, 0, 0], [0, 0, 0], [0, 0, 0], [0, 0, 0], [0, 0, 0], [0, 0, 0], [0, 0, 0], [0, 0, 0], [0, 0, 0], [0, 0, 0], [0, 0, 0], [0, 0, 0], [0, 0, 0], [0, 0, 0]], [[0, 0, 0], [0, 0, 0], [0, 0, 0], [0, 0, 0], [0, 0, 0], [0, 0, 0], [0, 0, 0], [0, 0, 0], [0, 0, 0], [0, 0, 0], [0, 0, 0], [0, 0, 0], [0, 0, 0], [0, 0, 0], [0, 0, 0], [0, 0, 0], [0, 0, 0], [0, 0, 0], [0, 0, 0], [0, 0, 0], [0, 0, 0], [0, 0, 0], [0, 0, 0], [0, 0, 0], [0, 0, 0], [0, 0, 0], [0, 0, 0], [0, 0, 0], [0, 0, 0], [0, 0, 0], [0, 0, 0], [0, 0, 0], [0, 0, 0], [0, 0, 0], [0, 0, 0], [0, 0, 0], [0, 0, 0], [0, 0, 0], [0, 0, 0], [0, 0, 0], [0, 0, 0], [0, 0, 0], [0, 0, 0], [0, 0, 0], [0, 0, 0], [0, 0, 0], [0, 0, 0], [0, 0, 0], [0, 0, 0], [0, 0, 0]], [[0, 0, 0], [0, 0, 0], [0, 0, 0], [0, 0, 0], [0, 0, 0], [0, 0, 0], [0, 0, 0], [0, 0, 0], [0, 0, 0], [0, 0, 0], [0, 0, 0], [0, 0, 0], [0, 0, 0], [0, 0, 0], [0, 0, 0], [0, 0, 0], [0, 0, 0], [0, 0, 0], [0, 0, 0], [0, 0, 0], [0, 0, 0], [0, 0, 0], [0, 0, 0], [0, 0, 0], [0, 0, 0], [0, 0, 0], [0, 0, 0], [0, 0, 0], [0, 0, 0], [0, 0, 0], [0, 0, 0], [0, 0, 0], [0, 0, 0], [0, 0, 0], [0, 0, 0], [0, 0, 0], [0, 0, 0], [0, 0, 0], [0, 0, 0], [0, 0, 0], [0, 0, 0], [0, 0, 0], [0, 0, 0], [0, 0, 0], [0, 0, 0], [0, 0, 0], [0, 0, 0], [0, 0, 0], [0, 0, 0], [0, 0, 0]], [[0, 0, 0], [0, 0, 0], [0, 0, 0], [0, 0, 0], [0, 0, 0], [0, 0, 0], [0, 0, 0], [0, 0, 0], [0, 0, 0], [0, 0, 0], [0, 0, 0], [0, 0, 0], [0, 0, 0], [0, 0, 0], [0, 0, 0], [0, 0, 0], [0, 0, 0], [0, 0, 0], [0, 0, 0], [0, 0, 0], [0, 0, 0], [0, 0, 0], [0, 0, 0], [0, 0, 0], [0, 0, 0], [0, 0, 0], [0, 0, 0], [0, 0, 0], [0, 0, 0], [0, 0, 0], [0, 0, 0], [0, 0, 0], [0, 0, 0], [0, 0, 0], [0, 0, 0], [0, 0, 0], [0, 0, 0], [0, 0, 0], [0, 0, 0], [0, 0, 0], [0, 0, 0], [0, 0, 0], [0, 0, 0], [0, 0, 0], [0, 0, 0], [0, 0, 0], [0, 0, 0], [0, 0, 0], [0, 0, 0], [0, 0, 0]], [[0, 0, 0], [0, 0, 0], [0, 0, 0], [0, 0, 0], [0, 0, 0], [0, 0, 0], [0, 0, 0], [0, 0, 0], [0, 0, 0], [0, 0, 0], [0, 0, 0], [0, 0, 0], [0, 0, 0], [0, 0, 0], [0, 0, 0], [0, 0, 0], [0, 0, 0], [0, 0, 0], [0, 0, 0], [0, 0, 0], [0, 0, 0], [0, 0, 0], [0, 0, 0], [0, 0, 0], [0, 0, 0], [0, 0, 0], [0, 0, 0], [0, 0, 0], [0, 0, 0], [0, 0, 0], [0, 0, 0], [0, 0, 0], [0, 0, 0], [0, 0, 0], [0, 0, 0], [0, 0, 0], [0, 0, 0], [0, 0, 0], [0, 0, 0], [0, 0, 0], [0, 0, 0], [0, 0, 0], [0, 0, 0], [0, 0, 0], [0, 0, 0], [0, 0, 0], [0, 0, 0], [0, 0, 0], [0, 0, 0], [0, 0, 0]], [[0, 0, 0], [0, 0, 0], [0, 0, 0], [0, 0, 0], [0, 0, 0], [0, 0, 0], [0, 0, 0], [0, 0, 0], [0, 0, 0], [0, 0, 0], [0, 0, 0], [0, 0, 0], [0, 0, 0], [0, 0, 0], [0, 0, 0], [0, 0, 0], [0, 0, 0], [0, 0, 0], [0, 0, 0], [0, 0, 0], [0, 0, 0], [0, 0, 0], [0, 0, 0], [0, 0, 0], [0, 0, 0], [0, 0, 0], [0, 0, 0], [0, 0, 0], [0, 0, 0], [0, 0, 0], [0, 0, 0], [0, 0, 0], [0, 0, 0], [0, 0, 0], [0, 0, 0], [0, 0, 0], [0, 0, 0], [0, 0, 0], [0, 0, 0], [0, 0, 0], [0, 0, 0], [0, 0, 0], [0, 0, 0], [0, 0, 0], [0, 0, 0], [0, 0, 0], [0, 0, 0], [0, 0, 0], [0, 0, 0], [0, 0, 0]], [[0, 0, 0], [0, 0, 0], [0, 0, 0], [0, 0, 0], [0, 0, 0], [0, 0, 0], [0, 0, 0], [0, 0, 0], [0, 0, 0], [0, 0, 0], [0, 0, 0], [0, 0, 0], [0, 0, 0], [0, 0, 0], [0, 0, 0], [0, 0, 0], [0, 0, 0], [0, 0, 0], [0, 0, 0], [0, 0, 0], [0, 0, 0], [0, 0, 0], [0, 0, 0], [0, 0, 0], [0, 0, 0], [0, 0, 0], [0, 0, 0], [0, 0, 0], [0, 0, 0], [0, 0, 0], [0, 0, 0], [0, 0, 0], [0, 0, 0], [0, 0, 0], [0, 0, 0], [0, 0, 0], [0, 0, 0], [0, 0, 0], [0, 0, 0], [0, 0, 0], [0, 0, 0], [0, 0, 0], [0, 0, 0], [0, 0, 0], [0, 0, 0], [0, 0, 0], [0, 0, 0], [0, 0, 0], [0, 0, 0], [0, 0, 0]], [[0, 0, 0], [0, 0, 0], [0, 0, 0], [0, 0, 0], [0, 0, 0], [0, 0, 0], [0, 0, 0], [0, 0, 0], [0, 0, 0], [0, 0, 0], [0, 0, 0], [0, 0, 0], [0, 0, 0], [0, 0, 0], [0, 0, 0], [0, 0, 0], [0, 0, 0], [0, 0, 0], [0, 0, 0], [0, 0, 0], [0, 0, 0], [0, 0, 0], [0, 0, 0], [0, 0, 0], [0, 0, 0], [0, 0, 0], [0, 0, 0], [0, 0, 0], [0, 0, 0], [0, 0, 0], [0, 0, 0], [0, 0, 0], [0, 0, 0], [0, 0, 0], [0, 0, 0], [0, 0, 0], [0, 0, 0], [0, 0, 0], [0, 0, 0], [0, 0, 0], [0, 0, 0], [0, 0, 0], [0, 0, 0], [0, 0, 0], [0, 0, 0], [0, 0, 0], [0, 0, 0], [0, 0, 0], [0, 0, 0], [0, 0, 0]]],\n",
        "                       dtype=np.int32)"
      ],
      "execution_count": 0,
      "outputs": []
    },
    {
      "cell_type": "code",
      "metadata": {
        "id": "19gNLpk0Yge7",
        "colab_type": "code",
        "colab": {}
      },
      "source": [
        ""
      ],
      "execution_count": 0,
      "outputs": []
    },
    {
      "cell_type": "code",
      "metadata": {
        "colab_type": "code",
        "id": "q_PzdATuYn1s",
        "colab": {}
      },
      "source": [
        "interpreter.set_tensor(136, decoder_input.reshape([1, 5]))\n",
        "interpreter.set_tensor(140, stroke_input.reshape([1, 13, 50, 3]))"
      ],
      "execution_count": 0,
      "outputs": []
    },
    {
      "cell_type": "code",
      "metadata": {
        "colab_type": "code",
        "id": "VgGG-vV-Yn17",
        "colab": {}
      },
      "source": [
        "interpreter.invoke()"
      ],
      "execution_count": 0,
      "outputs": []
    },
    {
      "cell_type": "code",
      "metadata": {
        "colab_type": "code",
        "id": "TLVQGMlDYn1-",
        "colab": {}
      },
      "source": [
        "inference_res = interpreter.get_tensor(153)"
      ],
      "execution_count": 0,
      "outputs": []
    },
    {
      "cell_type": "code",
      "metadata": {
        "colab_type": "code",
        "outputId": "5f6f61c1-0db0-4553-8d8f-c79b5bcd0f75",
        "id": "Vs70qEKrYn2C",
        "colab": {
          "base_uri": "https://localhost:8080/",
          "height": 35
        }
      },
      "source": [
        "inference_res.shape"
      ],
      "execution_count": 0,
      "outputs": [
        {
          "output_type": "execute_result",
          "data": {
            "text/plain": [
              "(1, 5, 114)"
            ]
          },
          "metadata": {
            "tags": []
          },
          "execution_count": 22
        }
      ]
    },
    {
      "cell_type": "code",
      "metadata": {
        "colab_type": "code",
        "outputId": "4e89e400-c59d-42ff-bcbb-d4ae7c66700e",
        "id": "hB7Jx_sCYn2H",
        "colab": {
          "base_uri": "https://localhost:8080/",
          "height": 35
        }
      },
      "source": [
        "[inference_res[0, i, :].argmax() for i in range(5)]"
      ],
      "execution_count": 0,
      "outputs": [
        {
          "output_type": "execute_result",
          "data": {
            "text/plain": [
              "[76, 76, 76, 113, 0]"
            ]
          },
          "metadata": {
            "tags": []
          },
          "execution_count": 23
        }
      ]
    },
    {
      "cell_type": "markdown",
      "metadata": {
        "id": "HnwIrysuZTyJ",
        "colab_type": "text"
      },
      "source": [
        "- inference_res: bbb\n",
        "- label b^b"
      ]
    },
    {
      "cell_type": "code",
      "metadata": {
        "id": "990703ldYgRS",
        "colab_type": "code",
        "colab": {}
      },
      "source": [
        ""
      ],
      "execution_count": 0,
      "outputs": []
    },
    {
      "cell_type": "code",
      "metadata": {
        "id": "S6znj_e0YgCy",
        "colab_type": "code",
        "colab": {}
      },
      "source": [
        ""
      ],
      "execution_count": 0,
      "outputs": []
    },
    {
      "cell_type": "code",
      "metadata": {
        "id": "RR_H_PieYEZ_",
        "colab_type": "code",
        "colab": {}
      },
      "source": [
        ""
      ],
      "execution_count": 0,
      "outputs": []
    },
    {
      "cell_type": "code",
      "metadata": {
        "id": "eqD587b5jk34",
        "colab_type": "code",
        "colab": {}
      },
      "source": [
        "DATA_DIR=\"gs://karino2-tegashiki/dataset\"\n",
        "TF_RECORD_FILE=\"{}/crohme2019_onesupsubtwo_train.tfrecord.gz\".format(DATA_DIR)\n",
        "TF_VALID_RECORD_FILE=\"{}/crohme2019_onesupsubtwo_valid.tfrecord.gz\".format(DATA_DIR)"
      ],
      "execution_count": 0,
      "outputs": []
    },
    {
      "cell_type": "code",
      "metadata": {
        "id": "1FM8sGGSkIC7",
        "colab_type": "code",
        "colab": {}
      },
      "source": [
        "MAX_TOKEN_LEN=3+2"
      ],
      "execution_count": 0,
      "outputs": []
    },
    {
      "cell_type": "code",
      "metadata": {
        "id": "Fe6ZoO80jsAu",
        "colab_type": "code",
        "colab": {}
      },
      "source": [
        "def parser(serialized_example):\n",
        "  featurelen = MAX_STROKE_NUM*MAX_ONE_STROKE_LEN\n",
        "  \n",
        "  features = tf.parse_single_example(\n",
        "      serialized_example,\n",
        "      features={\n",
        "      'input_x': tf.FixedLenFeature([featurelen], tf.int64),\n",
        "      'input_y': tf.FixedLenFeature([featurelen], tf.int64),\n",
        "      'input_type': tf.FixedLenFeature([featurelen], tf.int64),\n",
        "      'decoder_input':tf.FixedLenFeature([MAX_TOKEN_LEN], tf.int64),\n",
        "      'decoder_labels':tf.FixedLenFeature([MAX_TOKEN_LEN], tf.int64)}          \n",
        "  )\n",
        "  \n",
        "  input_x, input_y, input_type = [tf.reshape(tf.cast(features[fname], tf.int32), [MAX_STROKE_NUM, MAX_ONE_STROKE_LEN]) for fname in ['input_x', 'input_y', 'input_type']]\n",
        "  one_sample_stroke = tf.stack([input_x, input_y, input_type], 2)\n",
        "  decoder_input = tf.cast(features[\"decoder_input\"], tf.int32)\n",
        "  decoder_labels = tf.cast(features[\"decoder_labels\"], tf.int32)\n",
        "  \n",
        "  return {\"input_stroke\": one_sample_stroke, \"input_decoder\": decoder_input} , decoder_labels"
      ],
      "execution_count": 0,
      "outputs": []
    },
    {
      "cell_type": "code",
      "metadata": {
        "id": "zNo1GddMj5XT",
        "colab_type": "code",
        "colab": {}
      },
      "source": [
        "dataset = tf.data.TFRecordDataset(TF_RECORD_FILE, \"GZIP\")\n",
        "dataset = dataset.map(parser)"
      ],
      "execution_count": 0,
      "outputs": []
    },
    {
      "cell_type": "code",
      "metadata": {
        "id": "zbZ9eVc2ktMA",
        "colab_type": "code",
        "colab": {}
      },
      "source": [
        "sess = tf.InteractiveSession()"
      ],
      "execution_count": 0,
      "outputs": []
    },
    {
      "cell_type": "code",
      "metadata": {
        "id": "ToYZzZn8kJ1x",
        "colab_type": "code",
        "outputId": "c3771527-66a0-4036-a465-652c4e563773",
        "colab": {
          "base_uri": "https://localhost:8080/",
          "height": 92
        }
      },
      "source": [
        "res = []\n",
        "iterator = dataset.make_one_shot_iterator()\n",
        "next_element = iterator.get_next()\n",
        "\n",
        "for i in range(100):\n",
        "  res.append(sess.run(next_element))"
      ],
      "execution_count": 0,
      "outputs": [
        {
          "output_type": "stream",
          "text": [
            "W0623 22:32:47.301916 140320814720896 deprecation.py:323] From <ipython-input-29-8879d7b4ade6>:2: DatasetV1.make_one_shot_iterator (from tensorflow.python.data.ops.dataset_ops) is deprecated and will be removed in a future version.\n",
            "Instructions for updating:\n",
            "Use `for ... in dataset:` to iterate over a dataset. If using `tf.estimator`, return the `Dataset` object directly from your input function. As a last resort, you can use `tf.compat.v1.data.make_one_shot_iterator(dataset)`.\n"
          ],
          "name": "stderr"
        }
      ]
    },
    {
      "cell_type": "code",
      "metadata": {
        "id": "qSyfOGgzekQZ",
        "colab_type": "code",
        "colab": {}
      },
      "source": [
        ""
      ],
      "execution_count": 0,
      "outputs": []
    },
    {
      "cell_type": "code",
      "metadata": {
        "id": "ucFfP6pG2D4Y",
        "colab_type": "code",
        "colab": {}
      },
      "source": [
        ""
      ],
      "execution_count": 0,
      "outputs": []
    },
    {
      "cell_type": "code",
      "metadata": {
        "id": "BeocId--f-a_",
        "colab_type": "code",
        "outputId": "32589b21-5748-482e-a17b-ed721cf75281",
        "colab": {
          "base_uri": "https://localhost:8080/",
          "height": 35
        }
      },
      "source": [
        ""
      ],
      "execution_count": 0,
      "outputs": [
        {
          "output_type": "execute_result",
          "data": {
            "text/plain": [
              "[109, 79, 113, 113, 0]"
            ]
          },
          "metadata": {
            "tags": []
          },
          "execution_count": 49
        }
      ]
    },
    {
      "cell_type": "code",
      "metadata": {
        "id": "IjbkY-E4fNsO",
        "colab_type": "code",
        "colab": {}
      },
      "source": [
        "stroke = np.array([[[133, 444, 1],\n",
        "  [174, 362, 1],\n",
        "  [174, 321, 1],\n",
        "  [174, 280, 1],\n",
        "  [338, 979, 1],\n",
        "  [380, 1021, 1],\n",
        "  [462, 1062, 1],\n",
        "  [544, 1062, 1],\n",
        "  [627, 1062, 1],\n",
        "  [709, 979, 1],\n",
        "  [750, 938, 1],\n",
        "  [832, 856, 1],\n",
        "  [874, 774, 1],\n",
        "  [874, 691, 1],\n",
        "  [874, 609, 1],\n",
        "  [874, 527, 1],\n",
        "  [874, 485, 1],\n",
        "  [874, 444, 1],\n",
        "  [874, 403, 1],\n",
        "  [874, 444, 1],\n",
        "  [874, 527, 1],\n",
        "  [874, 609, 1],\n",
        "  [915, 691, 1],\n",
        "  [915, 856, 1],\n",
        "  [915, 979, 1],\n",
        "  [915, 1144, 1],\n",
        "  [915, 1350, 1],\n",
        "  [874, 1514, 1],\n",
        "  [791, 1638, 1],\n",
        "  [750, 1761, 1],\n",
        "  [627, 1885, 1],\n",
        "  [503, 1967, 1],\n",
        "  [421, 2008, 1],\n",
        "  [297, 2008, 1],\n",
        "  [174, 2008, 1],\n",
        "  [91, 2008, 1],\n",
        "  [50, 2008, 1],\n",
        "  [9, 1967, 1],\n",
        "  [9, 1926, 1],\n",
        "  [9, 1885, 1],\n",
        "  [9, 1844, 1],\n",
        "  [0, 0, 0],\n",
        "  [0, 0, 0],\n",
        "  [0, 0, 0],\n",
        "  [0, 0, 0],\n",
        "  [0, 0, 0],\n",
        "  [0, 0, 0],\n",
        "  [0, 0, 0],\n",
        "  [0, 0, 0],\n",
        "  [0, 0, 0]],\n",
        " [[953, 35, 1],\n",
        "  [953, 88, 1],\n",
        "  [953, 168, 1],\n",
        "  [953, 221, 1],\n",
        "  [980, 327, 1],\n",
        "  [980, 353, 1],\n",
        "  [980, 380, 1],\n",
        "  [980, 433, 1],\n",
        "  [980, 459, 1],\n",
        "  [980, 486, 1],\n",
        "  [980, 513, 1],\n",
        "  [980, 539, 1],\n",
        "  [1006, 513, 1],\n",
        "  [1006, 486, 1],\n",
        "  [1033, 406, 1],\n",
        "  [1033, 353, 1],\n",
        "  [1033, 300, 1],\n",
        "  [1059, 221, 1],\n",
        "  [1086, 194, 1],\n",
        "  [1086, 141, 1],\n",
        "  [1112, 88, 1],\n",
        "  [1192, 35, 1],\n",
        "  [1245, 8, 1],\n",
        "  [1272, 8, 1],\n",
        "  [1298, 8, 1],\n",
        "  [1325, 8, 1],\n",
        "  [1351, 8, 1],\n",
        "  [1378, 8, 1],\n",
        "  [1404, 88, 1],\n",
        "  [1404, 115, 1],\n",
        "  [1404, 168, 1],\n",
        "  [1404, 194, 1],\n",
        "  [1404, 221, 1],\n",
        "  [1404, 247, 1],\n",
        "  [1404, 274, 1],\n",
        "  [1404, 300, 1],\n",
        "  [1404, 327, 1],\n",
        "  [1404, 380, 1],\n",
        "  [1404, 406, 1],\n",
        "  [1404, 433, 1],\n",
        "  [0, 0, 0],\n",
        "  [0, 0, 0],\n",
        "  [0, 0, 0],\n",
        "  [0, 0, 0],\n",
        "  [0, 0, 0],\n",
        "  [0, 0, 0],\n",
        "  [0, 0, 0],\n",
        "  [0, 0, 0],\n",
        "  [0, 0, 0],\n",
        "  [0, 0, 0]],\n",
        " [[0, 0, 0],\n",
        "  [0, 0, 0],\n",
        "  [0, 0, 0],\n",
        "  [0, 0, 0],\n",
        "  [0, 0, 0],\n",
        "  [0, 0, 0],\n",
        "  [0, 0, 0],\n",
        "  [0, 0, 0],\n",
        "  [0, 0, 0],\n",
        "  [0, 0, 0],\n",
        "  [0, 0, 0],\n",
        "  [0, 0, 0],\n",
        "  [0, 0, 0],\n",
        "  [0, 0, 0],\n",
        "  [0, 0, 0],\n",
        "  [0, 0, 0],\n",
        "  [0, 0, 0],\n",
        "  [0, 0, 0],\n",
        "  [0, 0, 0],\n",
        "  [0, 0, 0],\n",
        "  [0, 0, 0],\n",
        "  [0, 0, 0],\n",
        "  [0, 0, 0],\n",
        "  [0, 0, 0],\n",
        "  [0, 0, 0],\n",
        "  [0, 0, 0],\n",
        "  [0, 0, 0],\n",
        "  [0, 0, 0],\n",
        "  [0, 0, 0],\n",
        "  [0, 0, 0],\n",
        "  [0, 0, 0],\n",
        "  [0, 0, 0],\n",
        "  [0, 0, 0],\n",
        "  [0, 0, 0],\n",
        "  [0, 0, 0],\n",
        "  [0, 0, 0],\n",
        "  [0, 0, 0],\n",
        "  [0, 0, 0],\n",
        "  [0, 0, 0],\n",
        "  [0, 0, 0],\n",
        "  [0, 0, 0],\n",
        "  [0, 0, 0],\n",
        "  [0, 0, 0],\n",
        "  [0, 0, 0],\n",
        "  [0, 0, 0],\n",
        "  [0, 0, 0],\n",
        "  [0, 0, 0],\n",
        "  [0, 0, 0],\n",
        "  [0, 0, 0],\n",
        "  [0, 0, 0]],\n",
        " [[0, 0, 0],\n",
        "  [0, 0, 0],\n",
        "  [0, 0, 0],\n",
        "  [0, 0, 0],\n",
        "  [0, 0, 0],\n",
        "  [0, 0, 0],\n",
        "  [0, 0, 0],\n",
        "  [0, 0, 0],\n",
        "  [0, 0, 0],\n",
        "  [0, 0, 0],\n",
        "  [0, 0, 0],\n",
        "  [0, 0, 0],\n",
        "  [0, 0, 0],\n",
        "  [0, 0, 0],\n",
        "  [0, 0, 0],\n",
        "  [0, 0, 0],\n",
        "  [0, 0, 0],\n",
        "  [0, 0, 0],\n",
        "  [0, 0, 0],\n",
        "  [0, 0, 0],\n",
        "  [0, 0, 0],\n",
        "  [0, 0, 0],\n",
        "  [0, 0, 0],\n",
        "  [0, 0, 0],\n",
        "  [0, 0, 0],\n",
        "  [0, 0, 0],\n",
        "  [0, 0, 0],\n",
        "  [0, 0, 0],\n",
        "  [0, 0, 0],\n",
        "  [0, 0, 0],\n",
        "  [0, 0, 0],\n",
        "  [0, 0, 0],\n",
        "  [0, 0, 0],\n",
        "  [0, 0, 0],\n",
        "  [0, 0, 0],\n",
        "  [0, 0, 0],\n",
        "  [0, 0, 0],\n",
        "  [0, 0, 0],\n",
        "  [0, 0, 0],\n",
        "  [0, 0, 0],\n",
        "  [0, 0, 0],\n",
        "  [0, 0, 0],\n",
        "  [0, 0, 0],\n",
        "  [0, 0, 0],\n",
        "  [0, 0, 0],\n",
        "  [0, 0, 0],\n",
        "  [0, 0, 0],\n",
        "  [0, 0, 0],\n",
        "  [0, 0, 0],\n",
        "  [0, 0, 0]],\n",
        " [[0, 0, 0],\n",
        "  [0, 0, 0],\n",
        "  [0, 0, 0],\n",
        "  [0, 0, 0],\n",
        "  [0, 0, 0],\n",
        "  [0, 0, 0],\n",
        "  [0, 0, 0],\n",
        "  [0, 0, 0],\n",
        "  [0, 0, 0],\n",
        "  [0, 0, 0],\n",
        "  [0, 0, 0],\n",
        "  [0, 0, 0],\n",
        "  [0, 0, 0],\n",
        "  [0, 0, 0],\n",
        "  [0, 0, 0],\n",
        "  [0, 0, 0],\n",
        "  [0, 0, 0],\n",
        "  [0, 0, 0],\n",
        "  [0, 0, 0],\n",
        "  [0, 0, 0],\n",
        "  [0, 0, 0],\n",
        "  [0, 0, 0],\n",
        "  [0, 0, 0],\n",
        "  [0, 0, 0],\n",
        "  [0, 0, 0],\n",
        "  [0, 0, 0],\n",
        "  [0, 0, 0],\n",
        "  [0, 0, 0],\n",
        "  [0, 0, 0],\n",
        "  [0, 0, 0],\n",
        "  [0, 0, 0],\n",
        "  [0, 0, 0],\n",
        "  [0, 0, 0],\n",
        "  [0, 0, 0],\n",
        "  [0, 0, 0],\n",
        "  [0, 0, 0],\n",
        "  [0, 0, 0],\n",
        "  [0, 0, 0],\n",
        "  [0, 0, 0],\n",
        "  [0, 0, 0],\n",
        "  [0, 0, 0],\n",
        "  [0, 0, 0],\n",
        "  [0, 0, 0],\n",
        "  [0, 0, 0],\n",
        "  [0, 0, 0],\n",
        "  [0, 0, 0],\n",
        "  [0, 0, 0],\n",
        "  [0, 0, 0],\n",
        "  [0, 0, 0],\n",
        "  [0, 0, 0]],\n",
        " [[0, 0, 0],\n",
        "  [0, 0, 0],\n",
        "  [0, 0, 0],\n",
        "  [0, 0, 0],\n",
        "  [0, 0, 0],\n",
        "  [0, 0, 0],\n",
        "  [0, 0, 0],\n",
        "  [0, 0, 0],\n",
        "  [0, 0, 0],\n",
        "  [0, 0, 0],\n",
        "  [0, 0, 0],\n",
        "  [0, 0, 0],\n",
        "  [0, 0, 0],\n",
        "  [0, 0, 0],\n",
        "  [0, 0, 0],\n",
        "  [0, 0, 0],\n",
        "  [0, 0, 0],\n",
        "  [0, 0, 0],\n",
        "  [0, 0, 0],\n",
        "  [0, 0, 0],\n",
        "  [0, 0, 0],\n",
        "  [0, 0, 0],\n",
        "  [0, 0, 0],\n",
        "  [0, 0, 0],\n",
        "  [0, 0, 0],\n",
        "  [0, 0, 0],\n",
        "  [0, 0, 0],\n",
        "  [0, 0, 0],\n",
        "  [0, 0, 0],\n",
        "  [0, 0, 0],\n",
        "  [0, 0, 0],\n",
        "  [0, 0, 0],\n",
        "  [0, 0, 0],\n",
        "  [0, 0, 0],\n",
        "  [0, 0, 0],\n",
        "  [0, 0, 0],\n",
        "  [0, 0, 0],\n",
        "  [0, 0, 0],\n",
        "  [0, 0, 0],\n",
        "  [0, 0, 0],\n",
        "  [0, 0, 0],\n",
        "  [0, 0, 0],\n",
        "  [0, 0, 0],\n",
        "  [0, 0, 0],\n",
        "  [0, 0, 0],\n",
        "  [0, 0, 0],\n",
        "  [0, 0, 0],\n",
        "  [0, 0, 0],\n",
        "  [0, 0, 0],\n",
        "  [0, 0, 0]],\n",
        " [[0, 0, 0],\n",
        "  [0, 0, 0],\n",
        "  [0, 0, 0],\n",
        "  [0, 0, 0],\n",
        "  [0, 0, 0],\n",
        "  [0, 0, 0],\n",
        "  [0, 0, 0],\n",
        "  [0, 0, 0],\n",
        "  [0, 0, 0],\n",
        "  [0, 0, 0],\n",
        "  [0, 0, 0],\n",
        "  [0, 0, 0],\n",
        "  [0, 0, 0],\n",
        "  [0, 0, 0],\n",
        "  [0, 0, 0],\n",
        "  [0, 0, 0],\n",
        "  [0, 0, 0],\n",
        "  [0, 0, 0],\n",
        "  [0, 0, 0],\n",
        "  [0, 0, 0],\n",
        "  [0, 0, 0],\n",
        "  [0, 0, 0],\n",
        "  [0, 0, 0],\n",
        "  [0, 0, 0],\n",
        "  [0, 0, 0],\n",
        "  [0, 0, 0],\n",
        "  [0, 0, 0],\n",
        "  [0, 0, 0],\n",
        "  [0, 0, 0],\n",
        "  [0, 0, 0],\n",
        "  [0, 0, 0],\n",
        "  [0, 0, 0],\n",
        "  [0, 0, 0],\n",
        "  [0, 0, 0],\n",
        "  [0, 0, 0],\n",
        "  [0, 0, 0],\n",
        "  [0, 0, 0],\n",
        "  [0, 0, 0],\n",
        "  [0, 0, 0],\n",
        "  [0, 0, 0],\n",
        "  [0, 0, 0],\n",
        "  [0, 0, 0],\n",
        "  [0, 0, 0],\n",
        "  [0, 0, 0],\n",
        "  [0, 0, 0],\n",
        "  [0, 0, 0],\n",
        "  [0, 0, 0],\n",
        "  [0, 0, 0],\n",
        "  [0, 0, 0],\n",
        "  [0, 0, 0]],\n",
        " [[0, 0, 0],\n",
        "  [0, 0, 0],\n",
        "  [0, 0, 0],\n",
        "  [0, 0, 0],\n",
        "  [0, 0, 0],\n",
        "  [0, 0, 0],\n",
        "  [0, 0, 0],\n",
        "  [0, 0, 0],\n",
        "  [0, 0, 0],\n",
        "  [0, 0, 0],\n",
        "  [0, 0, 0],\n",
        "  [0, 0, 0],\n",
        "  [0, 0, 0],\n",
        "  [0, 0, 0],\n",
        "  [0, 0, 0],\n",
        "  [0, 0, 0],\n",
        "  [0, 0, 0],\n",
        "  [0, 0, 0],\n",
        "  [0, 0, 0],\n",
        "  [0, 0, 0],\n",
        "  [0, 0, 0],\n",
        "  [0, 0, 0],\n",
        "  [0, 0, 0],\n",
        "  [0, 0, 0],\n",
        "  [0, 0, 0],\n",
        "  [0, 0, 0],\n",
        "  [0, 0, 0],\n",
        "  [0, 0, 0],\n",
        "  [0, 0, 0],\n",
        "  [0, 0, 0],\n",
        "  [0, 0, 0],\n",
        "  [0, 0, 0],\n",
        "  [0, 0, 0],\n",
        "  [0, 0, 0],\n",
        "  [0, 0, 0],\n",
        "  [0, 0, 0],\n",
        "  [0, 0, 0],\n",
        "  [0, 0, 0],\n",
        "  [0, 0, 0],\n",
        "  [0, 0, 0],\n",
        "  [0, 0, 0],\n",
        "  [0, 0, 0],\n",
        "  [0, 0, 0],\n",
        "  [0, 0, 0],\n",
        "  [0, 0, 0],\n",
        "  [0, 0, 0],\n",
        "  [0, 0, 0],\n",
        "  [0, 0, 0],\n",
        "  [0, 0, 0],\n",
        "  [0, 0, 0]],\n",
        " [[0, 0, 0],\n",
        "  [0, 0, 0],\n",
        "  [0, 0, 0],\n",
        "  [0, 0, 0],\n",
        "  [0, 0, 0],\n",
        "  [0, 0, 0],\n",
        "  [0, 0, 0],\n",
        "  [0, 0, 0],\n",
        "  [0, 0, 0],\n",
        "  [0, 0, 0],\n",
        "  [0, 0, 0],\n",
        "  [0, 0, 0],\n",
        "  [0, 0, 0],\n",
        "  [0, 0, 0],\n",
        "  [0, 0, 0],\n",
        "  [0, 0, 0],\n",
        "  [0, 0, 0],\n",
        "  [0, 0, 0],\n",
        "  [0, 0, 0],\n",
        "  [0, 0, 0],\n",
        "  [0, 0, 0],\n",
        "  [0, 0, 0],\n",
        "  [0, 0, 0],\n",
        "  [0, 0, 0],\n",
        "  [0, 0, 0],\n",
        "  [0, 0, 0],\n",
        "  [0, 0, 0],\n",
        "  [0, 0, 0],\n",
        "  [0, 0, 0],\n",
        "  [0, 0, 0],\n",
        "  [0, 0, 0],\n",
        "  [0, 0, 0],\n",
        "  [0, 0, 0],\n",
        "  [0, 0, 0],\n",
        "  [0, 0, 0],\n",
        "  [0, 0, 0],\n",
        "  [0, 0, 0],\n",
        "  [0, 0, 0],\n",
        "  [0, 0, 0],\n",
        "  [0, 0, 0],\n",
        "  [0, 0, 0],\n",
        "  [0, 0, 0],\n",
        "  [0, 0, 0],\n",
        "  [0, 0, 0],\n",
        "  [0, 0, 0],\n",
        "  [0, 0, 0],\n",
        "  [0, 0, 0],\n",
        "  [0, 0, 0],\n",
        "  [0, 0, 0],\n",
        "  [0, 0, 0]],\n",
        " [[0, 0, 0],\n",
        "  [0, 0, 0],\n",
        "  [0, 0, 0],\n",
        "  [0, 0, 0],\n",
        "  [0, 0, 0],\n",
        "  [0, 0, 0],\n",
        "  [0, 0, 0],\n",
        "  [0, 0, 0],\n",
        "  [0, 0, 0],\n",
        "  [0, 0, 0],\n",
        "  [0, 0, 0],\n",
        "  [0, 0, 0],\n",
        "  [0, 0, 0],\n",
        "  [0, 0, 0],\n",
        "  [0, 0, 0],\n",
        "  [0, 0, 0],\n",
        "  [0, 0, 0],\n",
        "  [0, 0, 0],\n",
        "  [0, 0, 0],\n",
        "  [0, 0, 0],\n",
        "  [0, 0, 0],\n",
        "  [0, 0, 0],\n",
        "  [0, 0, 0],\n",
        "  [0, 0, 0],\n",
        "  [0, 0, 0],\n",
        "  [0, 0, 0],\n",
        "  [0, 0, 0],\n",
        "  [0, 0, 0],\n",
        "  [0, 0, 0],\n",
        "  [0, 0, 0],\n",
        "  [0, 0, 0],\n",
        "  [0, 0, 0],\n",
        "  [0, 0, 0],\n",
        "  [0, 0, 0],\n",
        "  [0, 0, 0],\n",
        "  [0, 0, 0],\n",
        "  [0, 0, 0],\n",
        "  [0, 0, 0],\n",
        "  [0, 0, 0],\n",
        "  [0, 0, 0],\n",
        "  [0, 0, 0],\n",
        "  [0, 0, 0],\n",
        "  [0, 0, 0],\n",
        "  [0, 0, 0],\n",
        "  [0, 0, 0],\n",
        "  [0, 0, 0],\n",
        "  [0, 0, 0],\n",
        "  [0, 0, 0],\n",
        "  [0, 0, 0],\n",
        "  [0, 0, 0]],\n",
        " [[0, 0, 0],\n",
        "  [0, 0, 0],\n",
        "  [0, 0, 0],\n",
        "  [0, 0, 0],\n",
        "  [0, 0, 0],\n",
        "  [0, 0, 0],\n",
        "  [0, 0, 0],\n",
        "  [0, 0, 0],\n",
        "  [0, 0, 0],\n",
        "  [0, 0, 0],\n",
        "  [0, 0, 0],\n",
        "  [0, 0, 0],\n",
        "  [0, 0, 0],\n",
        "  [0, 0, 0],\n",
        "  [0, 0, 0],\n",
        "  [0, 0, 0],\n",
        "  [0, 0, 0],\n",
        "  [0, 0, 0],\n",
        "  [0, 0, 0],\n",
        "  [0, 0, 0],\n",
        "  [0, 0, 0],\n",
        "  [0, 0, 0],\n",
        "  [0, 0, 0],\n",
        "  [0, 0, 0],\n",
        "  [0, 0, 0],\n",
        "  [0, 0, 0],\n",
        "  [0, 0, 0],\n",
        "  [0, 0, 0],\n",
        "  [0, 0, 0],\n",
        "  [0, 0, 0],\n",
        "  [0, 0, 0],\n",
        "  [0, 0, 0],\n",
        "  [0, 0, 0],\n",
        "  [0, 0, 0],\n",
        "  [0, 0, 0],\n",
        "  [0, 0, 0],\n",
        "  [0, 0, 0],\n",
        "  [0, 0, 0],\n",
        "  [0, 0, 0],\n",
        "  [0, 0, 0],\n",
        "  [0, 0, 0],\n",
        "  [0, 0, 0],\n",
        "  [0, 0, 0],\n",
        "  [0, 0, 0],\n",
        "  [0, 0, 0],\n",
        "  [0, 0, 0],\n",
        "  [0, 0, 0],\n",
        "  [0, 0, 0],\n",
        "  [0, 0, 0],\n",
        "  [0, 0, 0]],\n",
        " [[0, 0, 0],\n",
        "  [0, 0, 0],\n",
        "  [0, 0, 0],\n",
        "  [0, 0, 0],\n",
        "  [0, 0, 0],\n",
        "  [0, 0, 0],\n",
        "  [0, 0, 0],\n",
        "  [0, 0, 0],\n",
        "  [0, 0, 0],\n",
        "  [0, 0, 0],\n",
        "  [0, 0, 0],\n",
        "  [0, 0, 0],\n",
        "  [0, 0, 0],\n",
        "  [0, 0, 0],\n",
        "  [0, 0, 0],\n",
        "  [0, 0, 0],\n",
        "  [0, 0, 0],\n",
        "  [0, 0, 0],\n",
        "  [0, 0, 0],\n",
        "  [0, 0, 0],\n",
        "  [0, 0, 0],\n",
        "  [0, 0, 0],\n",
        "  [0, 0, 0],\n",
        "  [0, 0, 0],\n",
        "  [0, 0, 0],\n",
        "  [0, 0, 0],\n",
        "  [0, 0, 0],\n",
        "  [0, 0, 0],\n",
        "  [0, 0, 0],\n",
        "  [0, 0, 0],\n",
        "  [0, 0, 0],\n",
        "  [0, 0, 0],\n",
        "  [0, 0, 0],\n",
        "  [0, 0, 0],\n",
        "  [0, 0, 0],\n",
        "  [0, 0, 0],\n",
        "  [0, 0, 0],\n",
        "  [0, 0, 0],\n",
        "  [0, 0, 0],\n",
        "  [0, 0, 0],\n",
        "  [0, 0, 0],\n",
        "  [0, 0, 0],\n",
        "  [0, 0, 0],\n",
        "  [0, 0, 0],\n",
        "  [0, 0, 0],\n",
        "  [0, 0, 0],\n",
        "  [0, 0, 0],\n",
        "  [0, 0, 0],\n",
        "  [0, 0, 0],\n",
        "  [0, 0, 0]],\n",
        " [[0, 0, 0],\n",
        "  [0, 0, 0],\n",
        "  [0, 0, 0],\n",
        "  [0, 0, 0],\n",
        "  [0, 0, 0],\n",
        "  [0, 0, 0],\n",
        "  [0, 0, 0],\n",
        "  [0, 0, 0],\n",
        "  [0, 0, 0],\n",
        "  [0, 0, 0],\n",
        "  [0, 0, 0],\n",
        "  [0, 0, 0],\n",
        "  [0, 0, 0],\n",
        "  [0, 0, 0],\n",
        "  [0, 0, 0],\n",
        "  [0, 0, 0],\n",
        "  [0, 0, 0],\n",
        "  [0, 0, 0],\n",
        "  [0, 0, 0],\n",
        "  [0, 0, 0],\n",
        "  [0, 0, 0],\n",
        "  [0, 0, 0],\n",
        "  [0, 0, 0],\n",
        "  [0, 0, 0],\n",
        "  [0, 0, 0],\n",
        "  [0, 0, 0],\n",
        "  [0, 0, 0],\n",
        "  [0, 0, 0],\n",
        "  [0, 0, 0],\n",
        "  [0, 0, 0],\n",
        "  [0, 0, 0],\n",
        "  [0, 0, 0],\n",
        "  [0, 0, 0],\n",
        "  [0, 0, 0],\n",
        "  [0, 0, 0],\n",
        "  [0, 0, 0],\n",
        "  [0, 0, 0],\n",
        "  [0, 0, 0],\n",
        "  [0, 0, 0],\n",
        "  [0, 0, 0],\n",
        "  [0, 0, 0],\n",
        "  [0, 0, 0],\n",
        "  [0, 0, 0],\n",
        "  [0, 0, 0],\n",
        "  [0, 0, 0],\n",
        "  [0, 0, 0],\n",
        "  [0, 0, 0],\n",
        "  [0, 0, 0],\n",
        "  [0, 0, 0],\n",
        "  [0, 0, 0]]])"
      ],
      "execution_count": 0,
      "outputs": []
    },
    {
      "cell_type": "code",
      "metadata": {
        "id": "Jr_ei8MUe8Iu",
        "colab_type": "code",
        "outputId": "22ee29ec-f4a6-4f58-985e-040944ff3895",
        "colab": {
          "base_uri": "https://localhost:8080/",
          "height": 35
        }
      },
      "source": [
        "predict(interpreter, stroke, np.array([112, 0, 0, 0, 0]))"
      ],
      "execution_count": 0,
      "outputs": [
        {
          "output_type": "execute_result",
          "data": {
            "text/plain": [
              "[109, 79, 113, 113, 0]"
            ]
          },
          "metadata": {
            "tags": []
          },
          "execution_count": 50
        }
      ]
    },
    {
      "cell_type": "code",
      "metadata": {
        "id": "UoX9wU2Nfb7d",
        "colab_type": "code",
        "outputId": "cb444238-2eff-43e8-c65c-ed49d938aeea",
        "colab": {
          "base_uri": "https://localhost:8080/",
          "height": 35
        }
      },
      "source": [
        "predict(interpreter, stroke, np.array([112, 109, 0, 0, 0]))"
      ],
      "execution_count": 0,
      "outputs": [
        {
          "output_type": "execute_result",
          "data": {
            "text/plain": [
              "[109, 75, 113, 113, 0]"
            ]
          },
          "metadata": {
            "tags": []
          },
          "execution_count": 51
        }
      ]
    },
    {
      "cell_type": "code",
      "metadata": {
        "id": "xTX2H_-kgbRP",
        "colab_type": "code",
        "outputId": "865abc59-54e0-4c25-e4c6-6df585341b12",
        "colab": {
          "base_uri": "https://localhost:8080/",
          "height": 35
        }
      },
      "source": [
        "predict(interpreter, stroke, np.array([112, 109, 75, 0, 0]))"
      ],
      "execution_count": 0,
      "outputs": [
        {
          "output_type": "execute_result",
          "data": {
            "text/plain": [
              "[109, 75, 79, 113, 0]"
            ]
          },
          "metadata": {
            "tags": []
          },
          "execution_count": 52
        }
      ]
    },
    {
      "cell_type": "code",
      "metadata": {
        "id": "vm8ji2gVghU4",
        "colab_type": "code",
        "outputId": "7e1bf05c-525f-47e8-857c-6342d94ba57f",
        "colab": {
          "base_uri": "https://localhost:8080/",
          "height": 35
        }
      },
      "source": [
        "predict(interpreter, stroke, np.array([112, 109, 75, 79, 0]))"
      ],
      "execution_count": 0,
      "outputs": [
        {
          "output_type": "execute_result",
          "data": {
            "text/plain": [
              "[109, 75, 79, 113, 0]"
            ]
          },
          "metadata": {
            "tags": []
          },
          "execution_count": 53
        }
      ]
    },
    {
      "cell_type": "code",
      "metadata": {
        "id": "0MFgRENNgaNB",
        "colab_type": "code",
        "colab": {}
      },
      "source": [
        ""
      ],
      "execution_count": 0,
      "outputs": []
    },
    {
      "cell_type": "code",
      "metadata": {
        "id": "scj3NQhClAz6",
        "colab_type": "code",
        "colab": {}
      },
      "source": [
        "interpreter.set_tensor(136, res[4][0]['input_decoder'].reshape([1, 5]))\n",
        "interpreter.set_tensor(140, res[4][0]['input_stroke'].reshape([1, 13, 50, 3]))"
      ],
      "execution_count": 0,
      "outputs": []
    },
    {
      "cell_type": "code",
      "metadata": {
        "id": "XbPSXLSJl1GO",
        "colab_type": "code",
        "colab": {}
      },
      "source": [
        "interpreter.invoke()"
      ],
      "execution_count": 0,
      "outputs": []
    },
    {
      "cell_type": "code",
      "metadata": {
        "id": "sn0h5dCcl04g",
        "colab_type": "code",
        "colab": {}
      },
      "source": [
        "inference_res = interpreter.get_tensor(153)"
      ],
      "execution_count": 0,
      "outputs": []
    },
    {
      "cell_type": "code",
      "metadata": {
        "id": "apX9E6K2mZYf",
        "colab_type": "code",
        "outputId": "1b8cb284-f69d-4378-81c1-c829b487c91f",
        "colab": {
          "base_uri": "https://localhost:8080/",
          "height": 35
        }
      },
      "source": [
        "[inference_res[0, i, :].argmax() for i in range(5)]"
      ],
      "execution_count": 0,
      "outputs": [
        {
          "output_type": "execute_result",
          "data": {
            "text/plain": [
              "[35, 75, 10, 113, 0]"
            ]
          },
          "metadata": {
            "tags": []
          },
          "execution_count": 36
        }
      ]
    },
    {
      "cell_type": "code",
      "metadata": {
        "id": "so_dpvbMkPgD",
        "colab_type": "code",
        "outputId": "d0b417d5-7a5c-4a7a-c365-5a3e1ef35197",
        "colab": {
          "base_uri": "https://localhost:8080/",
          "height": 35
        }
      },
      "source": [
        "interpreter.set_tensor(136, np.array([112, 0, 0, 0, 0]).astype(np.int32).reshape([1, 5]))\n",
        "interpreter.invoke()\n",
        "inference_res = interpreter.get_tensor(153)\n",
        "[inference_res[0, i, :].argmax() for i in range(5)]\n"
      ],
      "execution_count": 0,
      "outputs": [
        {
          "output_type": "execute_result",
          "data": {
            "text/plain": [
              "[109, 79, 113, 113, 0]"
            ]
          },
          "metadata": {
            "tags": []
          },
          "execution_count": 56
        }
      ]
    },
    {
      "cell_type": "code",
      "metadata": {
        "id": "QspMhRuVkzoe",
        "colab_type": "code",
        "outputId": "207af25a-9735-4226-9338-1701a0087507",
        "colab": {
          "base_uri": "https://localhost:8080/",
          "height": 35
        }
      },
      "source": [
        "interpreter.set_tensor(136, np.array([112, 109, 0, 0, 0]).astype(np.int32).reshape([1, 5]))\n",
        "interpreter.invoke()\n",
        "inference_res = interpreter.get_tensor(153)\n",
        "[inference_res[0, i, :].argmax() for i in range(5)]\n"
      ],
      "execution_count": 0,
      "outputs": [
        {
          "output_type": "execute_result",
          "data": {
            "text/plain": [
              "[109, 75, 113, 113, 0]"
            ]
          },
          "metadata": {
            "tags": []
          },
          "execution_count": 57
        }
      ]
    },
    {
      "cell_type": "code",
      "metadata": {
        "id": "39_FSv7hkymy",
        "colab_type": "code",
        "colab": {}
      },
      "source": [
        ""
      ],
      "execution_count": 0,
      "outputs": []
    },
    {
      "cell_type": "code",
      "metadata": {
        "id": "mi5EXvyGkwRv",
        "colab_type": "code",
        "outputId": "201d379c-8118-4122-9934-22764fc6ffde",
        "colab": {
          "base_uri": "https://localhost:8080/",
          "height": 35
        }
      },
      "source": [
        "res[4][0]['input_decoder']"
      ],
      "execution_count": 0,
      "outputs": [
        {
          "output_type": "execute_result",
          "data": {
            "text/plain": [
              "array([112,  35,  75,  80, 113], dtype=int32)"
            ]
          },
          "metadata": {
            "tags": []
          },
          "execution_count": 37
        }
      ]
    },
    {
      "cell_type": "code",
      "metadata": {
        "id": "1q88gTsioGXR",
        "colab_type": "code",
        "colab": {}
      },
      "source": [
        "import json"
      ],
      "execution_count": 0,
      "outputs": []
    },
    {
      "cell_type": "code",
      "metadata": {
        "id": "mj2O-7UcoHQ_",
        "colab_type": "code",
        "colab": {}
      },
      "source": [
        "strokelst = res[0][0]['input_stroke'].tolist()"
      ],
      "execution_count": 0,
      "outputs": []
    },
    {
      "cell_type": "code",
      "metadata": {
        "id": "jXQQAhH_oOk4",
        "colab_type": "code",
        "outputId": "108558a5-8197-4737-a612-019592328fbd",
        "colab": {
          "base_uri": "https://localhost:8080/",
          "height": 35
        }
      },
      "source": [
        "len(strokelst)"
      ],
      "execution_count": 0,
      "outputs": [
        {
          "output_type": "execute_result",
          "data": {
            "text/plain": [
              "13"
            ]
          },
          "metadata": {
            "tags": []
          },
          "execution_count": 58
        }
      ]
    },
    {
      "cell_type": "code",
      "metadata": {
        "id": "4wu3OCsmoP7v",
        "colab_type": "code",
        "colab": {}
      },
      "source": [
        "with open(\"stroke.json\", 'w', encoding='utf-8') as f:\n",
        "  json.dump(strokelst, f)"
      ],
      "execution_count": 0,
      "outputs": []
    },
    {
      "cell_type": "code",
      "metadata": {
        "id": "WSLzpL7fhFjO",
        "colab_type": "code",
        "colab": {}
      },
      "source": [
        "def get_if_necessary(fname):\n",
        "  if os.path.exists(fname):\n",
        "    return\n",
        "  !gsutil cp gs://karino2-tegashiki/dataset/{fname} {fname}\n",
        "\n",
        "def get_and_load(fname):\n",
        "  get_if_necessary(fname)\n",
        "  with gzip.open(fname,'rb') as f:\n",
        "    return pickle.load(f)  \n",
        "  \n",
        "def send_file(fname):\n",
        "  !gsutil cp {fname} gs://karino2-tegashiki/dataset/\n",
        "    \n",
        "def dump_and_send(obj, fname):\n",
        "  with gzip.open(fname,'wb') as f:\n",
        "    pickle.dump(obj, f)\n",
        "  send_file(fname)"
      ],
      "execution_count": 0,
      "outputs": []
    },
    {
      "cell_type": "code",
      "metadata": {
        "id": "3my9yhWUhKpG",
        "colab_type": "code",
        "colab": {}
      },
      "source": [
        ""
      ],
      "execution_count": 0,
      "outputs": []
    },
    {
      "cell_type": "code",
      "metadata": {
        "id": "c5ibKfBpbJfr",
        "colab_type": "code",
        "colab": {}
      },
      "source": [
        ""
      ],
      "execution_count": 0,
      "outputs": []
    },
    {
      "cell_type": "markdown",
      "metadata": {
        "id": "CUPLzZDoo_lX",
        "colab_type": "text"
      },
      "source": [
        "### Misc"
      ]
    },
    {
      "cell_type": "code",
      "metadata": {
        "id": "Mnb2b4sUQdC7",
        "colab_type": "code",
        "colab": {}
      },
      "source": [
        "import numpy as np"
      ],
      "execution_count": 0,
      "outputs": []
    },
    {
      "cell_type": "code",
      "metadata": {
        "id": "mcqgq35SQmGN",
        "colab_type": "code",
        "colab": {}
      },
      "source": [
        "stroke_input = np.array([[[207, 1151, 1], [273, 1179, 1], [340, 1218, 1], [407, 1275, 1], [467, 1349, 1], [510, 1425, 1], [543, 1508, 1], [564, 1588, 1], [573, 1667, 1], [567, 1738, 1], [550, 1798, 1], [530, 1848, 1], [501, 1895, 1], [467, 1928, 1], [427, 1961, 1], [384, 1981, 1], [340, 1998, 1], [297, 2004, 1], [257, 2008, 1], [221, 2008, 1], [188, 2004, 1], [157, 2000, 1], [134, 1991, 1], [114, 1987, 1], [101, 1974, 1], [94, 1967, 1], [88, 1951, 1], [84, 1941, 1], [88, 1928, 1], [84, 1908, 1], [0, 0, 0], [0, 0, 0], [0, 0, 0], [0, 0, 0], [0, 0, 0], [0, 0, 0], [0, 0, 0], [0, 0, 0], [0, 0, 0], [0, 0, 0], [0, 0, 0], [0, 0, 0], [0, 0, 0], [0, 0, 0], [0, 0, 0], [0, 0, 0], [0, 0, 0], [0, 0, 0]],\n",
        "                         [[7, 263, 1], [11, 276, 1], [14, 319, 1], [18, 382, 1], [21, 472, 1], [24, 579, 1], [24, 709, 1], [27, 842, 1], [27, 981, 1], [24, 1114, 1], [21, 1238, 1], [21, 1349, 1], [18, 1451, 1], [14, 1534, 1], [11, 1608, 1], [7, 1667, 1], [7, 1715, 1], [11, 1754, 1], [14, 1782, 1], [21, 1788, 1], [0, 0, 0], [0, 0, 0], [0, 0, 0], [0, 0, 0], [0, 0, 0], [0, 0, 0], [0, 0, 0], [0, 0, 0], [0, 0, 0], [0, 0, 0], [0, 0, 0], [0, 0, 0], [0, 0, 0], [0, 0, 0], [0, 0, 0], [0, 0, 0], [0, 0, 0], [0, 0, 0], [0, 0, 0], [0, 0, 0], [0, 0, 0], [0, 0, 0], [0, 0, 0], [0, 0, 0], [0, 0, 0], [0, 0, 0], [0, 0, 0], [0, 0, 0], [0, 0, 0], [0, 0, 0]], \n",
        "                         [[681, 8, 1], [667, 26, 1], [615, 520, 1], [615, 516, 1], [615, 511, 1], [615, 492, 1], [615, 483, 1], [620, 446, 1], [629, 427, 1], [653, 395, 1], [662, 381, 1], [699, 353, 1], [709, 348, 1], [755, 348, 1], [765, 348, 1], [806, 353, 1], [816, 357, 1], [839, 390, 1], [839, 404, 1], [839, 436, 1], [834, 450, 1], [802, 483, 1], [788, 492, 1], [741, 516, 1], [727, 520, 1], [681, 530, 1], [667, 530, 1], [643, 525, 1], [639, 520, 1], [629, 506, 1], [629, 502, 1], [629, 497, 1], [0, 0, 0], [0, 0, 0], [0, 0, 0], [0, 0, 0], [0, 0, 0], [0, 0, 0], [0, 0, 0], [0, 0, 0], [0, 0, 0], [0, 0, 0], [0, 0, 0], [0, 0, 0], [0, 0, 0], [0, 0, 0], [0, 0, 0], [0, 0, 0], [0, 0, 0], [0, 0, 0]], \n",
        "                         [[0, 0, 0], [0, 0, 0], [0, 0, 0], [0, 0, 0], [0, 0, 0], [0, 0, 0], [0, 0, 0], [0, 0, 0], [0, 0, 0], [0, 0, 0], [0, 0, 0], [0, 0, 0], [0, 0, 0], [0, 0, 0], [0, 0, 0], [0, 0, 0], [0, 0, 0], [0, 0, 0], [0, 0, 0], [0, 0, 0], [0, 0, 0], [0, 0, 0], [0, 0, 0], [0, 0, 0], [0, 0, 0], [0, 0, 0], [0, 0, 0], [0, 0, 0], [0, 0, 0], [0, 0, 0], [0, 0, 0], [0, 0, 0], [0, 0, 0], [0, 0, 0], [0, 0, 0], [0, 0, 0], [0, 0, 0], [0, 0, 0], [0, 0, 0], [0, 0, 0], [0, 0, 0], [0, 0, 0], [0, 0, 0], [0, 0, 0], [0, 0, 0], [0, 0, 0], [0, 0, 0], [0, 0, 0], [0, 0, 0], [0, 0, 0]],\n",
        "                         [[0, 0, 0], [0, 0, 0], [0, 0, 0], [0, 0, 0], [0, 0, 0], [0, 0, 0], [0, 0, 0], [0, 0, 0], [0, 0, 0], [0, 0, 0], [0, 0, 0], [0, 0, 0], [0, 0, 0], [0, 0, 0], [0, 0, 0], [0, 0, 0], [0, 0, 0], [0, 0, 0], [0, 0, 0], [0, 0, 0], [0, 0, 0], [0, 0, 0], [0, 0, 0], [0, 0, 0], [0, 0, 0], [0, 0, 0], [0, 0, 0], [0, 0, 0], [0, 0, 0], [0, 0, 0], [0, 0, 0], [0, 0, 0], [0, 0, 0], [0, 0, 0], [0, 0, 0], [0, 0, 0], [0, 0, 0], [0, 0, 0], [0, 0, 0], [0, 0, 0], [0, 0, 0], [0, 0, 0], [0, 0, 0], [0, 0, 0], [0, 0, 0], [0, 0, 0], [0, 0, 0], [0, 0, 0], [0, 0, 0], [0, 0, 0]],\n",
        "                         [[0, 0, 0], [0, 0, 0], [0, 0, 0], [0, 0, 0], [0, 0, 0], [0, 0, 0], [0, 0, 0], [0, 0, 0], [0, 0, 0], [0, 0, 0], [0, 0, 0], [0, 0, 0], [0, 0, 0], [0, 0, 0], [0, 0, 0], [0, 0, 0], [0, 0, 0], [0, 0, 0], [0, 0, 0], [0, 0, 0], [0, 0, 0], [0, 0, 0], [0, 0, 0], [0, 0, 0], [0, 0, 0], [0, 0, 0], [0, 0, 0], [0, 0, 0], [0, 0, 0], [0, 0, 0], [0, 0, 0], [0, 0, 0], [0, 0, 0], [0, 0, 0], [0, 0, 0], [0, 0, 0], [0, 0, 0], [0, 0, 0], [0, 0, 0], [0, 0, 0], [0, 0, 0], [0, 0, 0], [0, 0, 0], [0, 0, 0], [0, 0, 0], [0, 0, 0], [0, 0, 0], [0, 0, 0], [0, 0, 0], [0, 0, 0]],\n",
        "                         [[0, 0, 0], [0, 0, 0], [0, 0, 0], [0, 0, 0], [0, 0, 0], [0, 0, 0], [0, 0, 0], [0, 0, 0], [0, 0, 0], [0, 0, 0], [0, 0, 0], [0, 0, 0], [0, 0, 0], [0, 0, 0], [0, 0, 0], [0, 0, 0], [0, 0, 0], [0, 0, 0], [0, 0, 0], [0, 0, 0], [0, 0, 0], [0, 0, 0], [0, 0, 0], [0, 0, 0], [0, 0, 0], [0, 0, 0], [0, 0, 0], [0, 0, 0], [0, 0, 0], [0, 0, 0], [0, 0, 0], [0, 0, 0], [0, 0, 0], [0, 0, 0], [0, 0, 0], [0, 0, 0], [0, 0, 0], [0, 0, 0], [0, 0, 0], [0, 0, 0], [0, 0, 0], [0, 0, 0], [0, 0, 0], [0, 0, 0], [0, 0, 0], [0, 0, 0], [0, 0, 0], [0, 0, 0], [0, 0, 0], [0, 0, 0]],\n",
        "                         [[0, 0, 0], [0, 0, 0], [0, 0, 0], [0, 0, 0], [0, 0, 0], [0, 0, 0], [0, 0, 0], [0, 0, 0], [0, 0, 0], [0, 0, 0], [0, 0, 0], [0, 0, 0], [0, 0, 0], [0, 0, 0], [0, 0, 0], [0, 0, 0], [0, 0, 0], [0, 0, 0], [0, 0, 0], [0, 0, 0], [0, 0, 0], [0, 0, 0], [0, 0, 0], [0, 0, 0], [0, 0, 0], [0, 0, 0], [0, 0, 0], [0, 0, 0], [0, 0, 0], [0, 0, 0], [0, 0, 0], [0, 0, 0], [0, 0, 0], [0, 0, 0], [0, 0, 0], [0, 0, 0], [0, 0, 0], [0, 0, 0], [0, 0, 0], [0, 0, 0], [0, 0, 0], [0, 0, 0], [0, 0, 0], [0, 0, 0], [0, 0, 0], [0, 0, 0], [0, 0, 0], [0, 0, 0], [0, 0, 0], [0, 0, 0]], \n",
        "                         [[0, 0, 0], [0, 0, 0], [0, 0, 0], [0, 0, 0], [0, 0, 0], [0, 0, 0], [0, 0, 0], [0, 0, 0], [0, 0, 0], [0, 0, 0], [0, 0, 0], [0, 0, 0], [0, 0, 0], [0, 0, 0], [0, 0, 0], [0, 0, 0], [0, 0, 0], [0, 0, 0], [0, 0, 0], [0, 0, 0], [0, 0, 0], [0, 0, 0], [0, 0, 0], [0, 0, 0], [0, 0, 0], [0, 0, 0], [0, 0, 0], [0, 0, 0], [0, 0, 0], [0, 0, 0], [0, 0, 0], [0, 0, 0], [0, 0, 0], [0, 0, 0], [0, 0, 0], [0, 0, 0], [0, 0, 0], [0, 0, 0], [0, 0, 0], [0, 0, 0], [0, 0, 0], [0, 0, 0], [0, 0, 0], [0, 0, 0], [0, 0, 0], [0, 0, 0], [0, 0, 0], [0, 0, 0], [0, 0, 0], [0, 0, 0]],\n",
        "                         [[0, 0, 0], [0, 0, 0], [0, 0, 0], [0, 0, 0], [0, 0, 0], [0, 0, 0], [0, 0, 0], [0, 0, 0], [0, 0, 0], [0, 0, 0], [0, 0, 0], [0, 0, 0], [0, 0, 0], [0, 0, 0], [0, 0, 0], [0, 0, 0], [0, 0, 0], [0, 0, 0], [0, 0, 0], [0, 0, 0], [0, 0, 0], [0, 0, 0], [0, 0, 0], [0, 0, 0], [0, 0, 0], [0, 0, 0], [0, 0, 0], [0, 0, 0], [0, 0, 0], [0, 0, 0], [0, 0, 0], [0, 0, 0], [0, 0, 0], [0, 0, 0], [0, 0, 0], [0, 0, 0], [0, 0, 0], [0, 0, 0], [0, 0, 0], [0, 0, 0], [0, 0, 0], [0, 0, 0], [0, 0, 0], [0, 0, 0], [0, 0, 0], [0, 0, 0], [0, 0, 0], [0, 0, 0], [0, 0, 0], [0, 0, 0]],\n",
        "                         [[0, 0, 0], [0, 0, 0], [0, 0, 0], [0, 0, 0], [0, 0, 0], [0, 0, 0], [0, 0, 0], [0, 0, 0], [0, 0, 0], [0, 0, 0], [0, 0, 0], [0, 0, 0], [0, 0, 0], [0, 0, 0], [0, 0, 0], [0, 0, 0], [0, 0, 0], [0, 0, 0], [0, 0, 0], [0, 0, 0], [0, 0, 0], [0, 0, 0], [0, 0, 0], [0, 0, 0], [0, 0, 0], [0, 0, 0], [0, 0, 0], [0, 0, 0], [0, 0, 0], [0, 0, 0], [0, 0, 0], [0, 0, 0], [0, 0, 0], [0, 0, 0], [0, 0, 0], [0, 0, 0], [0, 0, 0], [0, 0, 0], [0, 0, 0], [0, 0, 0], [0, 0, 0], [0, 0, 0], [0, 0, 0], [0, 0, 0], [0, 0, 0], [0, 0, 0], [0, 0, 0], [0, 0, 0], [0, 0, 0], [0, 0, 0]],\n",
        "                         [[0, 0, 0], [0, 0, 0], [0, 0, 0], [0, 0, 0], [0, 0, 0], [0, 0, 0], [0, 0, 0], [0, 0, 0], [0, 0, 0], [0, 0, 0], [0, 0, 0], [0, 0, 0], [0, 0, 0], [0, 0, 0], [0, 0, 0], [0, 0, 0], [0, 0, 0], [0, 0, 0], [0, 0, 0], [0, 0, 0], [0, 0, 0], [0, 0, 0], [0, 0, 0], [0, 0, 0], [0, 0, 0], [0, 0, 0], [0, 0, 0], [0, 0, 0], [0, 0, 0], [0, 0, 0], [0, 0, 0], [0, 0, 0], [0, 0, 0], [0, 0, 0], [0, 0, 0], [0, 0, 0], [0, 0, 0], [0, 0, 0], [0, 0, 0], [0, 0, 0], [0, 0, 0], [0, 0, 0], [0, 0, 0], [0, 0, 0], [0, 0, 0], [0, 0, 0], [0, 0, 0], [0, 0, 0], [0, 0, 0], [0, 0, 0]],\n",
        "                         [[0, 0, 0], [0, 0, 0], [0, 0, 0], [0, 0, 0], [0, 0, 0], [0, 0, 0], [0, 0, 0], [0, 0, 0], [0, 0, 0], [0, 0, 0], [0, 0, 0], [0, 0, 0], [0, 0, 0], [0, 0, 0], [0, 0, 0], [0, 0, 0], [0, 0, 0], [0, 0, 0], [0, 0, 0], [0, 0, 0], [0, 0, 0], [0, 0, 0], [0, 0, 0], [0, 0, 0], [0, 0, 0], [0, 0, 0], [0, 0, 0], [0, 0, 0], [0, 0, 0], [0, 0, 0], [0, 0, 0], [0, 0, 0], [0, 0, 0], [0, 0, 0], [0, 0, 0], [0, 0, 0], [0, 0, 0], [0, 0, 0], [0, 0, 0], [0, 0, 0], [0, 0, 0], [0, 0, 0], [0, 0, 0], [0, 0, 0], [0, 0, 0], [0, 0, 0], [0, 0, 0], [0, 0, 0], [0, 0, 0], [0, 0, 0]]])"
      ],
      "execution_count": 0,
      "outputs": []
    },
    {
      "cell_type": "code",
      "metadata": {
        "id": "WXGyM-HiQcsd",
        "colab_type": "code",
        "outputId": "f9c16129-dd35-4477-9b8e-6e147f2a81bd",
        "colab": {
          "base_uri": "https://localhost:8080/",
          "height": 35
        }
      },
      "source": [
        "len(stroke_input[0])"
      ],
      "execution_count": 0,
      "outputs": [
        {
          "output_type": "execute_result",
          "data": {
            "text/plain": [
              "48"
            ]
          },
          "metadata": {
            "tags": []
          },
          "execution_count": 6
        }
      ]
    },
    {
      "cell_type": "code",
      "metadata": {
        "id": "EiGZfsM-RuT4",
        "colab_type": "code",
        "outputId": "287b7f2b-b713-4714-927b-f95dce538e85",
        "colab": {
          "base_uri": "https://localhost:8080/",
          "height": 35
        }
      },
      "source": [
        "len(stroke_input[3])"
      ],
      "execution_count": 0,
      "outputs": [
        {
          "output_type": "execute_result",
          "data": {
            "text/plain": [
              "50"
            ]
          },
          "metadata": {
            "tags": []
          },
          "execution_count": 9
        }
      ]
    },
    {
      "cell_type": "code",
      "metadata": {
        "id": "Rl75z0GJRuFB",
        "colab_type": "code",
        "colab": {}
      },
      "source": [
        ""
      ],
      "execution_count": 0,
      "outputs": []
    },
    {
      "cell_type": "code",
      "metadata": {
        "id": "8dAdondMRj7y",
        "colab_type": "code",
        "colab": {}
      },
      "source": [
        "stroke_input"
      ],
      "execution_count": 0,
      "outputs": []
    },
    {
      "cell_type": "code",
      "metadata": {
        "id": "3JWXhA21SUOk",
        "colab_type": "code",
        "colab": {}
      },
      "source": [
        "tmp = stroke_input[:, :, 2] == 1"
      ],
      "execution_count": 0,
      "outputs": []
    },
    {
      "cell_type": "code",
      "metadata": {
        "id": "aREsZumySa1G",
        "colab_type": "code",
        "outputId": "f210831d-2727-414e-c0d9-4510246ec250",
        "colab": {
          "base_uri": "https://localhost:8080/",
          "height": 35
        }
      },
      "source": [
        "tmp.shape"
      ],
      "execution_count": 0,
      "outputs": [
        {
          "output_type": "execute_result",
          "data": {
            "text/plain": [
              "(13, 50)"
            ]
          },
          "metadata": {
            "tags": []
          },
          "execution_count": 5
        }
      ]
    },
    {
      "cell_type": "code",
      "metadata": {
        "id": "cMwp1x3xSagK",
        "colab_type": "code",
        "outputId": "a17094f4-3692-4c85-b4c7-d96ff81359f2",
        "colab": {
          "base_uri": "https://localhost:8080/",
          "height": 35
        }
      },
      "source": [
        "stroke_input[tmp].shape"
      ],
      "execution_count": 0,
      "outputs": [
        {
          "output_type": "execute_result",
          "data": {
            "text/plain": [
              "(84, 3)"
            ]
          },
          "metadata": {
            "tags": []
          },
          "execution_count": 7
        }
      ]
    },
    {
      "cell_type": "code",
      "metadata": {
        "id": "QI585QpGa9gR",
        "colab_type": "code",
        "outputId": "8419d371-93f5-4a6b-ea8d-7fbba8ff4c9a",
        "colab": {
          "base_uri": "https://localhost:8080/",
          "height": 35
        }
      },
      "source": [
        "stroke_input.shape"
      ],
      "execution_count": 0,
      "outputs": [
        {
          "output_type": "execute_result",
          "data": {
            "text/plain": [
              "(13, 50, 3)"
            ]
          },
          "metadata": {
            "tags": []
          },
          "execution_count": 8
        }
      ]
    },
    {
      "cell_type": "code",
      "metadata": {
        "id": "vblBJejkStWp",
        "colab_type": "code",
        "outputId": "24b3e3b3-d98e-4494-ce6b-5c2fe4a256bf",
        "colab": {
          "base_uri": "https://localhost:8080/",
          "height": 35
        }
      },
      "source": [
        "tmp.dtype"
      ],
      "execution_count": 0,
      "outputs": [
        {
          "output_type": "execute_result",
          "data": {
            "text/plain": [
              "dtype('bool')"
            ]
          },
          "metadata": {
            "tags": []
          },
          "execution_count": 9
        }
      ]
    },
    {
      "cell_type": "code",
      "metadata": {
        "id": "yowmKIRVStIc",
        "colab_type": "code",
        "colab": {}
      },
      "source": [
        "import numpy as np"
      ],
      "execution_count": 0,
      "outputs": []
    },
    {
      "cell_type": "code",
      "metadata": {
        "id": "e_Ph6_sOfFHC",
        "colab_type": "code",
        "outputId": "8a3c863f-22ca-43e0-e5a4-fe2b4e36a440",
        "colab": {
          "base_uri": "https://localhost:8080/",
          "height": 72
        }
      },
      "source": [
        "np.array(range(15)).reshape([3, 5])"
      ],
      "execution_count": 0,
      "outputs": [
        {
          "output_type": "execute_result",
          "data": {
            "text/plain": [
              "array([[ 0,  1,  2,  3,  4],\n",
              "       [ 5,  6,  7,  8,  9],\n",
              "       [10, 11, 12, 13, 14]])"
            ]
          },
          "metadata": {
            "tags": []
          },
          "execution_count": 14
        }
      ]
    },
    {
      "cell_type": "code",
      "metadata": {
        "id": "yWrPFnkXse73",
        "colab_type": "code",
        "colab": {}
      },
      "source": [
        "res = np.arange(10).reshape([2, 5])"
      ],
      "execution_count": 0,
      "outputs": []
    },
    {
      "cell_type": "code",
      "metadata": {
        "id": "ySDNkeCrshny",
        "colab_type": "code",
        "outputId": "9551ed5d-b00c-460a-9fd5-d7bdf980644b",
        "colab": {
          "base_uri": "https://localhost:8080/",
          "height": 35
        }
      },
      "source": [
        "res[1, 4]"
      ],
      "execution_count": 0,
      "outputs": [
        {
          "output_type": "execute_result",
          "data": {
            "text/plain": [
              "9"
            ]
          },
          "metadata": {
            "tags": []
          },
          "execution_count": 25
        }
      ]
    },
    {
      "cell_type": "code",
      "metadata": {
        "id": "LqKf002bgGHx",
        "colab_type": "code",
        "colab": {}
      },
      "source": [
        "res = np.array(range(15)).reshape([3, 5])"
      ],
      "execution_count": 0,
      "outputs": []
    },
    {
      "cell_type": "code",
      "metadata": {
        "id": "iJ686LFkiFDq",
        "colab_type": "code",
        "outputId": "4bffe5ab-6b6c-48c9-85df-d7526b6065f7",
        "colab": {
          "base_uri": "https://localhost:8080/",
          "height": 54
        }
      },
      "source": [
        "res[0:2, 1:4]"
      ],
      "execution_count": 0,
      "outputs": [
        {
          "output_type": "execute_result",
          "data": {
            "text/plain": [
              "array([[1, 2, 3],\n",
              "       [6, 7, 8]])"
            ]
          },
          "metadata": {
            "tags": []
          },
          "execution_count": 20
        }
      ]
    },
    {
      "cell_type": "code",
      "metadata": {
        "id": "4e1Z-XC4icyH",
        "colab_type": "code",
        "outputId": "6999fc05-ca80-41a9-a21e-4a05365bc4e2",
        "colab": {
          "base_uri": "https://localhost:8080/",
          "height": 35
        }
      },
      "source": [
        "res[1, 2:4]"
      ],
      "execution_count": 0,
      "outputs": [
        {
          "output_type": "execute_result",
          "data": {
            "text/plain": [
              "array([7, 8])"
            ]
          },
          "metadata": {
            "tags": []
          },
          "execution_count": 17
        }
      ]
    },
    {
      "cell_type": "code",
      "metadata": {
        "id": "dZQmR3R3fEzK",
        "colab_type": "code",
        "outputId": "8aceedce-8e66-4b17-b2fe-102b5ca7ff33",
        "colab": {
          "base_uri": "https://localhost:8080/",
          "height": 35
        }
      },
      "source": [
        "res.shape"
      ],
      "execution_count": 0,
      "outputs": [
        {
          "output_type": "execute_result",
          "data": {
            "text/plain": [
              "(3, 5)"
            ]
          },
          "metadata": {
            "tags": []
          },
          "execution_count": 7
        }
      ]
    },
    {
      "cell_type": "code",
      "metadata": {
        "id": "nsaXyXZagHwJ",
        "colab_type": "code",
        "outputId": "eebd4efd-d28d-4760-f882-3c15c1f27ece",
        "colab": {
          "base_uri": "https://localhost:8080/",
          "height": 35
        }
      },
      "source": [
        "res[2, 4]"
      ],
      "execution_count": 0,
      "outputs": [
        {
          "output_type": "execute_result",
          "data": {
            "text/plain": [
              "14"
            ]
          },
          "metadata": {
            "tags": []
          },
          "execution_count": 8
        }
      ]
    },
    {
      "cell_type": "code",
      "metadata": {
        "id": "GajJys57g-gn",
        "colab_type": "code",
        "colab": {}
      },
      "source": [
        "res = np.arange(30).reshape([2, 3, 5])"
      ],
      "execution_count": 0,
      "outputs": []
    },
    {
      "cell_type": "code",
      "metadata": {
        "id": "djh0dwMLhD4O",
        "colab_type": "code",
        "outputId": "eb8d625a-a80d-4755-b534-6ef28fda6e3b",
        "colab": {
          "base_uri": "https://localhost:8080/",
          "height": 35
        }
      },
      "source": [
        "res.shape"
      ],
      "execution_count": 0,
      "outputs": [
        {
          "output_type": "execute_result",
          "data": {
            "text/plain": [
              "(2, 3, 5)"
            ]
          },
          "metadata": {
            "tags": []
          },
          "execution_count": 28
        }
      ]
    },
    {
      "cell_type": "code",
      "metadata": {
        "id": "jw3_0PrQhE8v",
        "colab_type": "code",
        "outputId": "2abbe583-26cd-4816-b7b2-831be5f9f7ce",
        "colab": {
          "base_uri": "https://localhost:8080/",
          "height": 72
        }
      },
      "source": [
        "res[0]"
      ],
      "execution_count": 0,
      "outputs": [
        {
          "output_type": "execute_result",
          "data": {
            "text/plain": [
              "array([[ 0,  1,  2,  3,  4],\n",
              "       [ 5,  6,  7,  8,  9],\n",
              "       [10, 11, 12, 13, 14]])"
            ]
          },
          "metadata": {
            "tags": []
          },
          "execution_count": 13
        }
      ]
    },
    {
      "cell_type": "code",
      "metadata": {
        "id": "WNDbZ12dgHe4",
        "colab_type": "code",
        "outputId": "22a86636-3f89-4d5a-e46d-b54f1e252a81",
        "colab": {
          "base_uri": "https://localhost:8080/",
          "height": 54
        }
      },
      "source": [
        "res[1, 0:2, 1:4]"
      ],
      "execution_count": 0,
      "outputs": [
        {
          "output_type": "execute_result",
          "data": {
            "text/plain": [
              "array([[16, 17, 18],\n",
              "       [21, 22, 23]])"
            ]
          },
          "metadata": {
            "tags": []
          },
          "execution_count": 30
        }
      ]
    },
    {
      "cell_type": "code",
      "metadata": {
        "id": "ShZNS6a93qDy",
        "colab_type": "code",
        "outputId": "6d0aab22-8510-4197-bcf2-23aeec7b8dee",
        "colab": {
          "base_uri": "https://localhost:8080/",
          "height": 35
        }
      },
      "source": [
        "!ls -l *.tflite"
      ],
      "execution_count": 0,
      "outputs": [
        {
          "output_type": "stream",
          "text": [
            "-rw-r--r-- 1 root root 357832 Jun 19 08:33 convencdec_myembed2.tflite\n"
          ],
          "name": "stdout"
        }
      ]
    },
    {
      "cell_type": "code",
      "metadata": {
        "id": "dPVVBWyg2-zy",
        "colab_type": "code",
        "colab": {}
      },
      "source": [
        "patch_file = \"/usr/local/lib/python3.6/dist-packages/tensorflow/python/framework/graph_util_impl.py\""
      ],
      "execution_count": 0,
      "outputs": []
    },
    {
      "cell_type": "code",
      "metadata": {
        "id": "jZfzA4jLN6o5",
        "colab_type": "code",
        "colab": {}
      },
      "source": [
        "import os"
      ],
      "execution_count": 0,
      "outputs": []
    },
    {
      "cell_type": "code",
      "metadata": {
        "id": "wsW3udpwOBsv",
        "colab_type": "code",
        "colab": {}
      },
      "source": [
        "org_file = patch_file + \"_org\""
      ],
      "execution_count": 0,
      "outputs": []
    },
    {
      "cell_type": "code",
      "metadata": {
        "id": "xLkNvDUeN00x",
        "colab_type": "code",
        "colab": {}
      },
      "source": [
        "if not os.path.exists(org_file):\n",
        "  !cp {patch_file} {org_file}"
      ],
      "execution_count": 0,
      "outputs": []
    },
    {
      "cell_type": "code",
      "metadata": {
        "id": "yzs8F9c8O40d",
        "colab_type": "code",
        "colab": {}
      },
      "source": [
        "%pycat {patch_file}"
      ],
      "execution_count": 0,
      "outputs": []
    },
    {
      "cell_type": "code",
      "metadata": {
        "id": "wyb3O-Tye0Y3",
        "colab_type": "code",
        "colab": {}
      },
      "source": [
        "%%writefile {patch_file}\n"
      ],
      "execution_count": 0,
      "outputs": []
    },
    {
      "cell_type": "code",
      "metadata": {
        "id": "1M1f15KsScRo",
        "colab_type": "code",
        "outputId": "29d338db-8f5f-4627-a1d9-2fd4743b6111",
        "colab": {
          "base_uri": "https://localhost:8080/",
          "height": 55
        }
      },
      "source": [
        "%%writefile {patch_file}\n",
        "rewrite content here"
      ],
      "execution_count": 0,
      "outputs": [
        {
          "output_type": "stream",
          "text": [
            "Overwriting /usr/local/lib/python3.6/dist-packages/tensorflow/python/framework/graph_util_impl.py\n"
          ],
          "name": "stdout"
        }
      ]
    },
    {
      "cell_type": "code",
      "metadata": {
        "id": "k2GGD_KDOOiI",
        "colab_type": "code",
        "colab": {}
      },
      "source": [
        "patch_fname = os.path.basename(patch_file)"
      ],
      "execution_count": 0,
      "outputs": []
    },
    {
      "cell_type": "code",
      "metadata": {
        "id": "VtsnEnYHOORB",
        "colab_type": "code",
        "colab": {}
      },
      "source": [
        "!cp {patch_file} ./{patch_fname}"
      ],
      "execution_count": 0,
      "outputs": []
    },
    {
      "cell_type": "code",
      "metadata": {
        "id": "egC-KiH5Q458",
        "colab_type": "code",
        "outputId": "8c7c312e-129f-4e39-d094-b8bf8a567e66",
        "colab": {
          "base_uri": "https://localhost:8080/",
          "height": 35
        }
      },
      "source": [
        "!echo ./{patch_fname}"
      ],
      "execution_count": 0,
      "outputs": [
        {
          "output_type": "stream",
          "text": [
            "./graph_util_impl.py\n"
          ],
          "name": "stdout"
        }
      ]
    },
    {
      "cell_type": "code",
      "metadata": {
        "id": "c0EQHpucRkjt",
        "colab_type": "code",
        "outputId": "0f1e0d70-c377-49cc-95e6-9de42605aabd",
        "colab": {
          "base_uri": "https://localhost:8080/",
          "height": 35
        }
      },
      "source": [
        "%%writefile {temp}\n",
        "\n",
        "Hello, Hy This is test.\n",
        "\"\"\"triple quote here.\"\"\""
      ],
      "execution_count": 0,
      "outputs": [
        {
          "output_type": "stream",
          "text": [
            "Overwriting test.txt\n"
          ],
          "name": "stdout"
        }
      ]
    },
    {
      "cell_type": "code",
      "metadata": {
        "id": "-vUSXeMeO4nM",
        "colab_type": "code",
        "colab": {}
      },
      "source": [
        ""
      ],
      "execution_count": 0,
      "outputs": []
    },
    {
      "cell_type": "code",
      "metadata": {
        "id": "27Fy4ZI10AqT",
        "colab_type": "code",
        "colab": {}
      },
      "source": [
        "converter = tf.lite.TFLiteConverter.from_saved_model(saved_model_dir)\n",
        "tflite_model = converter.convert()\n",
        "open(\"model.tflite\", \"wb\").write(tflite_model)\n",
        "#converter.optimizations = [tf.lite.Optimize.OPTIMIZE_FOR_SIZE]\n",
        "converter.post_training_quantize=True\n",
        "tflite_quantized_model=converter.convert()\n",
        "open(\"quantized_model.tflite\", \"wb\").write(tflite_quantized_model)"
      ],
      "execution_count": 0,
      "outputs": []
    },
    {
      "cell_type": "code",
      "metadata": {
        "id": "7r7jBTlDKDgs",
        "colab_type": "code",
        "outputId": "63562139-6bc5-4e8c-d303-7e34a13bb4ae",
        "colab": {
          "base_uri": "https://localhost:8080/",
          "height": 90
        }
      },
      "source": [
        "!gsutil ls {MODEL_DIR}"
      ],
      "execution_count": 0,
      "outputs": [
        {
          "output_type": "stream",
          "text": [
            "gs://karino2-tegashiki/models/exports/export_expgen_rnn_small_dropout05_fixshape/\n",
            "gs://karino2-tegashiki/models/exports/export_expgen_rnn_small_dropout05_fixshape/1560480405/\n",
            "gs://karino2-tegashiki/models/exports/export_expgen_rnn_small_dropout05_fixshape/temp-b'1560480340'/\n",
            "gs://karino2-tegashiki/models/exports/export_expgen_rnn_small_dropout05_fixshape/temp-b'1560480363'/\n"
          ],
          "name": "stdout"
        }
      ]
    },
    {
      "cell_type": "code",
      "metadata": {
        "id": "jiWBjXPOJbZk",
        "colab_type": "code",
        "colab": {}
      },
      "source": [
        ""
      ],
      "execution_count": 0,
      "outputs": []
    }
  ]
}