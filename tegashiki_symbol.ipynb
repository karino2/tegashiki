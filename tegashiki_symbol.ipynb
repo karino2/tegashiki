{
  "nbformat": 4,
  "nbformat_minor": 0,
  "metadata": {
    "colab": {
      "name": "tegashiki_symbol.ipynb",
      "version": "0.3.2",
      "provenance": [],
      "collapsed_sections": [],
      "toc_visible": true,
      "include_colab_link": true
    },
    "kernelspec": {
      "name": "python3",
      "display_name": "Python 3"
    },
    "accelerator": "TPU"
  },
  "cells": [
    {
      "cell_type": "markdown",
      "metadata": {
        "id": "view-in-github",
        "colab_type": "text"
      },
      "source": [
        "<a href=\"https://colab.research.google.com/github/karino2/tegashiki/blob/master/tegashiki_symbol.ipynb\" target=\"_parent\"><img src=\"https://colab.research.google.com/assets/colab-badge.svg\" alt=\"Open In Colab\"/></a>"
      ]
    },
    {
      "cell_type": "markdown",
      "metadata": {
        "id": "rQph610BeO4I",
        "colab_type": "text"
      },
      "source": [
        "# Tegashiki one symbol training\n",
        "\n",
        "Training for feature extractor"
      ]
    },
    {
      "cell_type": "code",
      "metadata": {
        "id": "3Cv0EJiZ8vi6",
        "colab_type": "code",
        "colab": {}
      },
      "source": [
        "import os\n",
        "import datetime\n",
        "import pickle\n",
        "import gzip\n",
        "import pandas as pd\n",
        "import numpy as np\n",
        "import matplotlib.pyplot as plt\n",
        "import tensorflow as tf\n",
        "from tensorflow.keras import preprocessing\n"
      ],
      "execution_count": 0,
      "outputs": []
    },
    {
      "cell_type": "code",
      "metadata": {
        "id": "G7hqbhF8N4A2",
        "colab_type": "code",
        "outputId": "df6e13ec-6910-4002-d24b-e5bf59aa944b",
        "colab": {
          "base_uri": "https://localhost:8080/",
          "height": 182
        }
      },
      "source": [
        "from google.colab import auth\n",
        "auth.authenticate_user()"
      ],
      "execution_count": 0,
      "outputs": [
        {
          "output_type": "stream",
          "text": [
            "WARNING: Logging before flag parsing goes to stderr.\n",
            "W0709 10:03:13.240982 140250003937152 lazy_loader.py:50] \n",
            "The TensorFlow contrib module will not be included in TensorFlow 2.0.\n",
            "For more information, please see:\n",
            "  * https://github.com/tensorflow/community/blob/master/rfcs/20180907-contrib-sunset.md\n",
            "  * https://github.com/tensorflow/addons\n",
            "  * https://github.com/tensorflow/io (for I/O related ops)\n",
            "If you depend on functionality not listed there, please file an issue.\n",
            "\n"
          ],
          "name": "stderr"
        }
      ]
    },
    {
      "cell_type": "code",
      "metadata": {
        "id": "EktQKNqKGeHX",
        "colab_type": "code",
        "colab": {}
      },
      "source": [
        ""
      ],
      "execution_count": 0,
      "outputs": []
    },
    {
      "cell_type": "code",
      "metadata": {
        "id": "xhmJFiLPE4Mw",
        "colab_type": "code",
        "colab": {}
      },
      "source": [
        "BEGIN_OF_SEQ = 113\n",
        "END_OF_SEQ=0\n",
        "VOCAB_SIZE=114\n",
        "\n",
        "\n",
        "NORMALIZE_MAX=2000\n",
        "\n",
        "\n",
        "MAX_ONE_STROKE_LEN=50\n",
        "MAX_STROKE_NUM=10\n",
        "\n",
        "\n",
        "INPUT_TYPE_POINT=1\n",
        "INPUT_TYPE_END=0\n",
        "\n",
        "# (x, y, TYPE)\n",
        "INPUT_TYPE_DIM=3"
      ],
      "execution_count": 0,
      "outputs": []
    },
    {
      "cell_type": "code",
      "metadata": {
        "id": "UJeqauPyU1nR",
        "colab_type": "code",
        "outputId": "8c5b4bf5-3d81-49b6-b98e-807b730e76d6",
        "colab": {
          "base_uri": "https://localhost:8080/",
          "height": 35
        }
      },
      "source": [
        "tf.VERSION"
      ],
      "execution_count": 0,
      "outputs": [
        {
          "output_type": "execute_result",
          "data": {
            "text/plain": [
              "'1.14.0'"
            ]
          },
          "metadata": {
            "tags": []
          },
          "execution_count": 4
        }
      ]
    },
    {
      "cell_type": "code",
      "metadata": {
        "id": "QPuAypELXP_r",
        "colab_type": "code",
        "colab": {}
      },
      "source": [
        ""
      ],
      "execution_count": 0,
      "outputs": []
    },
    {
      "cell_type": "markdown",
      "metadata": {
        "id": "CtRd8JqDqaig",
        "colab_type": "text"
      },
      "source": [
        "### Model"
      ]
    },
    {
      "cell_type": "code",
      "metadata": {
        "id": "8yO0Z_kZHeVi",
        "colab_type": "code",
        "colab": {}
      },
      "source": [
        "import tensorflow as tf\n",
        "from tensorflow.keras.layers import GRU, Dense, RepeatVector, Reshape, Concatenate\n",
        "from tensorflow.keras.layers import TimeDistributed, Flatten, Lambda, Add, Activation, Masking, Embedding\n",
        "from tensorflow.keras.layers import AveragePooling1D, Conv1D, MaxPooling1D, SpatialDropout1D\n",
        "from tensorflow.keras.layers import Dropout, GlobalMaxPooling1D\n",
        "from tensorflow.keras import regularizers\n",
        "import  tensorflow.keras.layers as layers\n",
        "# from tensorflow.keras.layers.embeddings import Embedding\n",
        "import tensorflow.keras.backend as K"
      ],
      "execution_count": 0,
      "outputs": []
    },
    {
      "cell_type": "code",
      "metadata": {
        "id": "1qCvUYX-Rh_-",
        "colab_type": "code",
        "colab": {}
      },
      "source": [
        "DROPOUT_RATE=0.5\n",
        "L2_REGULARIZATION_RATE=0.1\n",
        "\n",
        "# DROPOUT_RATE=0.9\n",
        "#L2_REGULARIZATION_RATE=0.1\n",
        "\n",
        "# EXTRACTED_FETURE_DIM=512\n",
        "EXTRACTED_FETURE_DIM=256\n",
        "FEATURE_EXTRACTER_KERNEL_SIZE=7\n",
        "\n",
        "\n",
        "\n",
        "# large, \n",
        "GRU_HIDDEN=256\n",
        "\n",
        "# model_small\n",
        "# GRU_HIDDEN=128\n",
        "\n"
      ],
      "execution_count": 0,
      "outputs": []
    },
    {
      "cell_type": "code",
      "metadata": {
        "id": "7ILfiioL2pVQ",
        "colab_type": "code",
        "colab": {}
      },
      "source": [
        ""
      ],
      "execution_count": 0,
      "outputs": []
    },
    {
      "cell_type": "markdown",
      "metadata": {
        "id": "qEpUtX8FtTW0",
        "colab_type": "text"
      },
      "source": [
        " https://arxiv.org/abs/1803.01271\n",
        "\n",
        "try to cover 500 len. and attention will handle larger case.\n",
        "As paper noted, best kernel size depend on task.\n",
        "I start from k=8 because our task is somewhat similar to P-MNIST, and k=8 is best for that task."
      ]
    },
    {
      "cell_type": "code",
      "metadata": {
        "id": "ZhfURWmWrPOa",
        "colab_type": "code",
        "colab": {}
      },
      "source": [
        "# TCN residual block in paper\n",
        "# filter_size must be the same as out_channels?\n",
        "\n",
        "# filter_size=32\n",
        "# filter_size=25\n",
        "def TCNResBlock(input, layer_depth, filter_size=10, kernel_size=8, dropout_rate=0.2):\n",
        "  d = 2**layer_depth\n",
        "  def conv(x):\n",
        "    if L2_REGULARIZATION_RATE == 0.0:\n",
        "      return Conv1D(filter_size, kernel_size, activation='relu', dilation_rate=d, padding='causal')(x)\n",
        "    else:\n",
        "      return Conv1D(filter_size, kernel_size, activation='relu', dilation_rate=d, padding='causal', kernel_regularizer=regularizers.l2(L2_REGULARIZATION_RATE), bias_regularizer=regularizers.l2(L2_REGULARIZATION_RATE), activity_regularizer=regularizers.l2(L2_REGULARIZATION_RATE))(x)\n",
        "    \n",
        "  x = conv(input)\n",
        "  \n",
        "  # https://github.com/ychfan/tf_estimator_barebone/blob/master/common/layers.py\n",
        "  # weight norm implementation. But I use layer_norm for first trial.\n",
        "  x = tf.contrib.layers.layer_norm(x)\n",
        "  x = SpatialDropout1D(dropout_rate)(x)\n",
        "\n",
        "  x = conv(x)\n",
        "  x = tf.contrib.layers.layer_norm(x)\n",
        "  x = SpatialDropout1D(dropout_rate)(x)\n",
        "  \n",
        "  res_input = input\n",
        "  if filter_size != 3:\n",
        "    # 1 by 1 conv to match inupt dim.\n",
        "    res_input = Conv1D(filter_size, 1, padding='same')(input)\n",
        "  res_input = res_input\n",
        "  return tf.nn.relu(x + res_input)\n",
        "\n",
        "def TCN(input, depth=8):\n",
        "  x = input\n",
        "  for i in range(depth):\n",
        "    x = TCNResBlock(x, i, dropout_rate=DROPOUT_RATE)\n",
        "  return x\n"
      ],
      "execution_count": 0,
      "outputs": []
    },
    {
      "cell_type": "code",
      "metadata": {
        "id": "by6J4SkXzHOF",
        "colab_type": "code",
        "colab": {}
      },
      "source": [
        "def crnn_base(input_stroke_t):\n",
        "  conved = Conv1D(32, 7, activation='relu', kernel_regularizer=regularizers.l2(L2_REGULARIZATION_RATE), bias_regularizer=regularizers.l2(L2_REGULARIZATION_RATE), activity_regularizer=regularizers.l2(L2_REGULARIZATION_RATE))(input_stroke_t)\n",
        "  last = GRU(GRU_HIDDEN, dropout=DROPOUT_RATE, recurrent_dropout=DROPOUT_RATE, kernel_regularizer=regularizers.l2(L2_REGULARIZATION_RATE), bias_regularizer=regularizers.l2(L2_REGULARIZATION_RATE), activity_regularizer=regularizers.l2(L2_REGULARIZATION_RATE), recurrent_regularizer=regularizers.l2(L2_REGULARIZATION_RATE))(conved)\n",
        "  return last\n",
        "\n",
        "def tcn_base(input_stroke_t):\n",
        "  tcn = TCN(input_stroke_t, 5)\n",
        "  last = tcn[:, -1, :]\n",
        "  return last"
      ],
      "execution_count": 0,
      "outputs": []
    },
    {
      "cell_type": "code",
      "metadata": {
        "id": "0tibm3TxSZuy",
        "colab_type": "code",
        "colab": {}
      },
      "source": [
        "# input_stroke_t = tf.placeholder(tf.float32, shape=[None, MAX_STROKE_NUM, MAX_ONE_STROKE_LEN, INPUT_TYPE_DIM])\n",
        "# x = create_model(input_stroke_t)\n",
        "# x = feature_extractor(input_stroke_t)\n",
        "# x.shape"
      ],
      "execution_count": 0,
      "outputs": []
    },
    {
      "cell_type": "code",
      "metadata": {
        "id": "98HJdTEpOeJr",
        "colab_type": "code",
        "colab": {}
      },
      "source": [
        "def fe_conv1d(filternum, kernelsize, x):\n",
        "    return Conv1D(filternum, kernelsize, kernel_regularizer=regularizers.l2(L2_REGULARIZATION_RATE), bias_regularizer=regularizers.l2(L2_REGULARIZATION_RATE), activity_regularizer=regularizers.l2(L2_REGULARIZATION_RATE))(x)\n",
        "  \n",
        "\n",
        "def feature_extractor(input_stroke_t, is_training):\n",
        "  \"\"\"input_stroke_t shape (batch, MAX_STROKE_NUM, MAX_ONE_STROKE_LEN, INPUT_TYPE_DIM)\"\"\"\n",
        "  with tf.variable_scope(\"feature_extractor\"):\n",
        "    inpshape = input_stroke_t.shape\n",
        "    x = tf.reshape(input_stroke_t, [-1, inpshape[2], inpshape[3]])\n",
        "    # (batch*MAX_STROKE_NUM, MAX_ONE_STROKE_LEN, INPUT_TYPE_DIM)\n",
        "\n",
        "    x = fe_conv1d(32, FEATURE_EXTRACTER_KERNEL_SIZE, x)\n",
        "    x = tf.layers.BatchNormalization()(x, training=is_training)\n",
        "    x = Activation('relu')(x)\n",
        "    # (batch*MAX_STROKE_NUM, MAX_ONE_STROKE_LEN, 32)\n",
        "    x = MaxPooling1D(pool_size=2)(x)\n",
        "    x = Dropout(DROPOUT_RATE)(x, training=is_training)\n",
        "    # (batch*MAX_STROKE_NUM, MAX_ONE_STROKE_LEN/2, 32)\n",
        "\n",
        "    x = fe_conv1d(64, FEATURE_EXTRACTER_KERNEL_SIZE, x)\n",
        "    x = tf.layers.BatchNormalization()(x, training=is_training)\n",
        "    x = Activation('relu')(x)\n",
        "    x = MaxPooling1D(pool_size=2)(x)\n",
        "    x = Dropout(DROPOUT_RATE)(x, training=is_training)\n",
        "    # (batch*MAX_STROKE_NUM, MAX_ONE_STROKE_LEN/4, 64)\n",
        "\n",
        "    x = fe_conv1d(EXTRACTED_FETURE_DIM, FEATURE_EXTRACTER_KERNEL_SIZE, x)\n",
        "    x = tf.layers.BatchNormalization()(x, training=is_training)\n",
        "    x = Activation('relu')(x)\n",
        "    x = Dropout(DROPOUT_RATE)(x, training=is_training)\n",
        "    x = GlobalMaxPooling1D()(x)\n",
        "    x = tf.reshape(x, [-1, inpshape[1], EXTRACTED_FETURE_DIM])\n",
        "    return x\n",
        "  \n",
        "  \n",
        "\n",
        "    "
      ],
      "execution_count": 0,
      "outputs": []
    },
    {
      "cell_type": "code",
      "metadata": {
        "id": "vm7C5MYV3AF0",
        "colab_type": "code",
        "colab": {}
      },
      "source": [
        "def create_model(input_stroke_t, is_training):\n",
        "  features = feature_extractor(input_stroke_t, is_training)\n",
        "  # (batch, MAX_STROKE_NUM, EXTRACTED_FETURE_DIM)\n",
        "  last = GRU(GRU_HIDDEN, dropout=DROPOUT_RATE, recurrent_dropout=DROPOUT_RATE, kernel_regularizer=regularizers.l2(L2_REGULARIZATION_RATE), bias_regularizer=regularizers.l2(L2_REGULARIZATION_RATE), activity_regularizer=regularizers.l2(L2_REGULARIZATION_RATE), recurrent_regularizer=regularizers.l2(L2_REGULARIZATION_RATE))(features, training=is_training)\n",
        "\n",
        "  \n",
        "  # last = crnn_base(input_stroke_t)\n",
        "  # last = tcn_base(input_stroke_t)\n",
        "\n",
        "  if L2_REGULARIZATION_RATE == 0.0:\n",
        "    logit = Dense(VOCAB_SIZE)(last)\n",
        "  else:\n",
        "    logit = Dense(VOCAB_SIZE, kernel_regularizer=regularizers.l2(L2_REGULARIZATION_RATE), bias_regularizer=regularizers.l2(L2_REGULARIZATION_RATE), activity_regularizer=regularizers.l2(L2_REGULARIZATION_RATE))(last)\n",
        " \n",
        "  return logit\n"
      ],
      "execution_count": 0,
      "outputs": []
    },
    {
      "cell_type": "markdown",
      "metadata": {
        "id": "mOVte5fcikPw",
        "colab_type": "text"
      },
      "source": [
        "## TPUEstimator"
      ]
    },
    {
      "cell_type": "code",
      "metadata": {
        "id": "PoUxOXax_Q3H",
        "colab_type": "code",
        "outputId": "c494665c-6c12-449c-dbcd-2037ff76ad00",
        "colab": {
          "base_uri": "https://localhost:8080/",
          "height": 74
        }
      },
      "source": [
        "from tqdm.autonotebook import tqdm as tqdmn"
      ],
      "execution_count": 0,
      "outputs": [
        {
          "output_type": "stream",
          "text": [
            "/usr/local/lib/python3.6/dist-packages/tqdm/autonotebook/__init__.py:14: TqdmExperimentalWarning: Using `tqdm.autonotebook.tqdm` in notebook mode. Use `tqdm.tqdm` instead to force console mode (e.g. in jupyter console)\n",
            "  \" (e.g. in jupyter console)\", TqdmExperimentalWarning)\n"
          ],
          "name": "stderr"
        }
      ]
    },
    {
      "cell_type": "code",
      "metadata": {
        "id": "YmD31-JuP5Ie",
        "colab_type": "code",
        "colab": {}
      },
      "source": [
        "DATA_DIR=\"gs://karino2-tegashiki/dataset\"\n",
        "TF_RECORD_FILE=\"{}/crohme2019_sym_50arr.tfrecord.gz\".format(DATA_DIR)\n",
        "TF_VALID_RECORD_FILE=\"{}/crohme2019_sym_50arr_valid.tfrecord.gz\".format(DATA_DIR)"
      ],
      "execution_count": 0,
      "outputs": []
    },
    {
      "cell_type": "code",
      "metadata": {
        "id": "-hDy2QGe01Xn",
        "colab_type": "code",
        "colab": {}
      },
      "source": [
        "# MODEL_DIR=\"gs://karino2-tegashiki/sym_models/rnn_small_dropout05\"\n",
        "# MODEL_DIR=\"gs://karino2-tegashiki/sym_models/tcn_large_nonreg\"\n",
        "# MODEL_DIR=\"gs://karino2-tegashiki/sym_models/tcn_large_nonreg_filter25\"\n",
        "# MODEL_DIR=\"gs://karino2-tegashiki/sym_models/tcn_large_nonreg_filter25_fix\"\n",
        "# MODEL_DIR=\"gs://karino2-tegashiki/sym_models/tcn_large_dropout05\"\n",
        "\n",
        "# MODEL_DIR=\"gs://karino2-tegashiki/sym_models/rnn_large_nonreg\"\n",
        "# MODEL_DIR=\"gs://karino2-tegashiki/sym_models/tcn_filter25_dropout09\"\n",
        "# MODEL_DIR=\"gs://karino2-tegashiki/sym_models/tcn_filter25_dropout09_datanormalize\"\n",
        "# MODEL_DIR=\"gs://karino2-tegashiki/sym_models/tcn_pad_valid\"\n",
        "# MODEL_DIR=\"gs://karino2-tegashiki/sym_models/tcn_filter10\"\n",
        "\n",
        "# MODEL_DIR=\"gs://karino2-tegashiki/sym_models/rnn_dropout05_pad\"\n",
        "# MODEL_DIR=\"gs://karino2-tegashiki/sym_models/rnn_fdim256\"\n",
        "\n",
        "# MODEL_DIR=\"gs://karino2-tegashiki/sym_models/fe_trainifix_v1_14\"\n",
        "# MODEL_DIR=\"gs://karino2-tegashiki/sym_models/fe_trainifix_batch8x256\"\n",
        "\n",
        "# MODEL_DIR=\"gs://karino2-tegashiki/sym_models/fe_movingavg_fix\"\n",
        "MODEL_DIR=\"gs://karino2-tegashiki/sym_models/fe_layersbatchnorm\""
      ],
      "execution_count": 0,
      "outputs": []
    },
    {
      "cell_type": "code",
      "metadata": {
        "id": "PJ_bYHSDGU2x",
        "colab_type": "code",
        "colab": {}
      },
      "source": [
        ""
      ],
      "execution_count": 0,
      "outputs": []
    },
    {
      "cell_type": "code",
      "metadata": {
        "id": "1DGOshq6HaxK",
        "colab_type": "code",
        "outputId": "4d62155e-762c-4fbb-cf02-e4685d33d0c4",
        "colab": {
          "base_uri": "https://localhost:8080/",
          "height": 275
        }
      },
      "source": [
        "import datetime\n",
        "import json\n",
        "import os\n",
        "import pprint\n",
        "import random\n",
        "import string\n",
        "import sys\n",
        "import tensorflow as tf\n",
        "\n",
        "assert 'COLAB_TPU_ADDR' in os.environ, 'ERROR: Not connected to a TPU runtime; please see the first cell in this notebook for instructions!'\n",
        "TPU_ADDRESS = 'grpc://' + os.environ['COLAB_TPU_ADDR']\n",
        "print('TPU address is', TPU_ADDRESS)\n",
        "\n",
        "with tf.Session(TPU_ADDRESS) as session:\n",
        "  print('TPU devices:')\n",
        "  pprint.pprint(session.list_devices())\n",
        "\n",
        "  # Upload credentials to TPU.\n",
        "  with open('/content/adc.json', 'r') as f:\n",
        "    auth_info = json.load(f)\n",
        "  tf.contrib.cloud.configure_gcs(session, credentials=auth_info)\n",
        "  # Now credentials are set for all future sessions on this TPU."
      ],
      "execution_count": 0,
      "outputs": [
        {
          "output_type": "stream",
          "text": [
            "TPU address is grpc://10.127.205.194:8470\n",
            "TPU devices:\n",
            "[_DeviceAttributes(/job:tpu_worker/replica:0/task:0/device:CPU:0, CPU, -1, 16877991905234623012),\n",
            " _DeviceAttributes(/job:tpu_worker/replica:0/task:0/device:XLA_CPU:0, XLA_CPU, 17179869184, 2386136422821470208),\n",
            " _DeviceAttributes(/job:tpu_worker/replica:0/task:0/device:TPU:0, TPU, 17179869184, 6085890531861965010),\n",
            " _DeviceAttributes(/job:tpu_worker/replica:0/task:0/device:TPU:1, TPU, 17179869184, 8176900991778660416),\n",
            " _DeviceAttributes(/job:tpu_worker/replica:0/task:0/device:TPU:2, TPU, 17179869184, 7088486485206163817),\n",
            " _DeviceAttributes(/job:tpu_worker/replica:0/task:0/device:TPU:3, TPU, 17179869184, 13850533938513974826),\n",
            " _DeviceAttributes(/job:tpu_worker/replica:0/task:0/device:TPU:4, TPU, 17179869184, 14322764921635201157),\n",
            " _DeviceAttributes(/job:tpu_worker/replica:0/task:0/device:TPU:5, TPU, 17179869184, 11172012000168160484),\n",
            " _DeviceAttributes(/job:tpu_worker/replica:0/task:0/device:TPU:6, TPU, 17179869184, 11343416680672054653),\n",
            " _DeviceAttributes(/job:tpu_worker/replica:0/task:0/device:TPU:7, TPU, 17179869184, 3081684555001867072),\n",
            " _DeviceAttributes(/job:tpu_worker/replica:0/task:0/device:TPU_SYSTEM:0, TPU_SYSTEM, 8589934592, 16612536575438224556)]\n"
          ],
          "name": "stdout"
        }
      ]
    },
    {
      "cell_type": "code",
      "metadata": {
        "id": "vTI75WK93GNX",
        "colab_type": "code",
        "colab": {}
      },
      "source": [
        ""
      ],
      "execution_count": 0,
      "outputs": []
    },
    {
      "cell_type": "code",
      "metadata": {
        "id": "vEuaIiuzRA0K",
        "colab_type": "code",
        "colab": {}
      },
      "source": [
        "VALID_SAMPLE_NUM=10019 # len(valid_sym_labels)\n",
        "TRAIN_STEP_PER_ONCE=1000\n",
        "EVAL_BATCH_SIZE=8"
      ],
      "execution_count": 0,
      "outputs": []
    },
    {
      "cell_type": "code",
      "metadata": {
        "id": "Mrhnw7yyIJIS",
        "colab_type": "code",
        "colab": {}
      },
      "source": [
        "def parser(serialized_example):\n",
        "  featurelen = MAX_STROKE_NUM*MAX_ONE_STROKE_LEN\n",
        "  features = tf.parse_single_example(\n",
        "      serialized_example,\n",
        "      features={\n",
        "      'input_x': tf.FixedLenFeature([featurelen], tf.int64),\n",
        "      'input_y': tf.FixedLenFeature([featurelen], tf.int64),\n",
        "      'input_type': tf.FixedLenFeature([featurelen], tf.int64),\n",
        "      'label':tf.FixedLenFeature([], tf.int64)\n",
        "      })\n",
        "\n",
        "  input_x, input_y, input_type = [tf.reshape(tf.cast(features[fname], tf.int32), [MAX_STROKE_NUM, MAX_ONE_STROKE_LEN]) for fname in ['input_x', 'input_y', 'input_type']]\n",
        "  # input_x = tf.reshape(tf.cast(features['input_x'], tf.int32), [MAX_STROKE_NUM, MAX_ONE_STROKE_LEN])\n",
        "  # input_y = tf.reshape(tf.cast(features['input_y'], tf.int32)\n",
        "  # input_type = tf.cast(features['input_type'], tf.int32)\n",
        "  one_sample_stroke = tf.stack([input_x, input_y, input_type], 2)\n",
        "  labels = tf.cast(features[\"label\"], tf.int32)\n",
        "  \n",
        "  return {\"stroke\": one_sample_stroke}, labels\n",
        "\n"
      ],
      "execution_count": 0,
      "outputs": []
    },
    {
      "cell_type": "code",
      "metadata": {
        "id": "hDXo3R2RGsCc",
        "colab_type": "code",
        "colab": {}
      },
      "source": [
        "\n",
        "def tpu_input_fn(params):\n",
        "  dataset = tf.data.TFRecordDataset(TF_RECORD_FILE, \"GZIP\")\n",
        "  dataset = dataset.map(parser)\n",
        "  dataset = dataset.shuffle(1000).repeat()\n",
        "  dataset = dataset.batch(params['batch_size'], drop_remainder=True)\n",
        "  return dataset\n",
        "\n",
        "def tpu_input_fn_valid(params):\n",
        "  dataset = tf.data.TFRecordDataset(TF_VALID_RECORD_FILE, \"GZIP\")\n",
        "  dataset = dataset.map(parser)\n",
        "  # dataset = dataset.padded_batch(params['batch_size'],({'stroke': [MAX_STROKE_SEQ_LEN, INPUT_TYPE_DIM]}, []), drop_remainder=True)\n",
        "  dataset = dataset.batch(params['batch_size'], drop_remainder=True)\n",
        "  return dataset\n",
        "\n"
      ],
      "execution_count": 0,
      "outputs": []
    },
    {
      "cell_type": "code",
      "metadata": {
        "id": "l8g3R419ZLKA",
        "colab_type": "code",
        "colab": {}
      },
      "source": [
        "\n",
        "def metric_fn(labels, predicted_classes):\n",
        "    \"\"\"Function to return metrics for evaluation.\"\"\"\n",
        "    accuracy = tf.metrics.accuracy(labels=labels,\n",
        "                                   predictions=predicted_classes,\n",
        "                                   name=\"acc_op\")\n",
        "      \n",
        "    return {\"accuracy\": accuracy}\n",
        "\n",
        "def extract_params(features, mode, params):  \n",
        "  input_stroke = tf.feature_column.input_layer(features, params['input_stroke'])\n",
        "\n",
        "  #[MAX_STROKE_NUM, MAX_ONE_STROKE_LEN]\n",
        "  input_stroke = tf.reshape(input_stroke, shape=(-1,MAX_STROKE_NUM, MAX_ONE_STROKE_LEN, INPUT_TYPE_DIM))\n",
        "  return input_stroke\n",
        "\n",
        "def extract_params_always_train(features, mode, params):\n",
        "  return extract_params(features, tf.estimator.ModeKeys.TRAIN, params)\n",
        "  \n",
        "def tpu_model_fn(features, labels, mode, params):\n",
        "  input_stroke = extract_params(features, mode, params)\n",
        "  # input_stroke, input_for_dec, maxtklen = extract_params_always_train(features, mode, params)\n",
        "  \n",
        "  logit = create_model(input_stroke, mode==tf.estimator.ModeKeys.TRAIN)\n",
        "  \n",
        "  predicted_classes = tf.math.argmax(logit,axis=1)\n",
        "  \n",
        "  if mode == tf.estimator.ModeKeys.PREDICT:\n",
        "    predictions = {\n",
        "        \"class_ids\": predicted_classes[:, tf.newaxis],\n",
        "        \"logits\": logit,\n",
        "    }\n",
        "    return tf.contrib.tpu.TPUEstimatorSpec(mode, predictions=predictions)  \n",
        "  \n",
        "  loss = tf.losses.sparse_softmax_cross_entropy(labels, logit)\n",
        "\n",
        "  if mode == tf.estimator.ModeKeys.EVAL:\n",
        "    return tf.contrib.tpu.TPUEstimatorSpec(\n",
        "        mode=mode, loss=loss, eval_metrics=(metric_fn, [labels, predicted_classes]))\n",
        "  \n",
        "  optimizer = tf.train.AdamOptimizer(params['learning_rate'])  \n",
        "  optimizer = tf.contrib.tpu.CrossShardOptimizer(optimizer)  \n",
        "  \n",
        "  train_op = tf.contrib.training.create_train_op(loss, optimizer)\n",
        "  \n",
        "  # train_op = optimizer.minimize(loss, global_step=tf.train.get_global_step())\n",
        "  return tf.contrib.tpu.TPUEstimatorSpec(mode, loss=loss, train_op=train_op)\n"
      ],
      "execution_count": 0,
      "outputs": []
    },
    {
      "cell_type": "code",
      "metadata": {
        "id": "xi2PuIbgHkRI",
        "colab_type": "code",
        "colab": {}
      },
      "source": [
        "def get_global_step(estimator):\n",
        "  try:\n",
        "    return int(estimator.get_variable_value(\"global_step\"))\n",
        "  except ValueError:\n",
        "    return 0\n",
        "      \n",
        "def train_tpu_estimator(tpu_estimator, max_steps):\n",
        "  step = get_global_step(tpu_estimator)+TRAIN_STEP_PER_ONCE\n",
        "  while step < max_steps:\n",
        "    tpu_estimator.train(\n",
        "      input_fn = tpu_input_fn,\n",
        "      max_steps=step)\n",
        "    eval_results = tpu_estimator.evaluate(\n",
        "      input_fn=tpu_input_fn_valid,\n",
        "      steps= VALID_SAMPLE_NUM// EVAL_BATCH_SIZE)\n",
        "    print(step)\n",
        "    print(eval_results)\n",
        "    step += TRAIN_STEP_PER_ONCE\n",
        "  tpu_estimator.train(\n",
        "    input_fn = tpu_input_fn,\n",
        "    max_steps=max_steps)\n",
        "  eval_results = tpu_estimator.evaluate(\n",
        "    input_fn=tpu_input_fn_valid,\n",
        "    steps= VALID_SAMPLE_NUM// EVAL_BATCH_SIZE)\n"
      ],
      "execution_count": 0,
      "outputs": []
    },
    {
      "cell_type": "code",
      "metadata": {
        "id": "9K5QT7TUKGBX",
        "colab_type": "code",
        "colab": {}
      },
      "source": [
        "cluster_resolver = tf.contrib.cluster_resolver.TPUClusterResolver(tpu=TPU_ADDRESS)\n",
        "is_per_host = tf.contrib.tpu.InputPipelineConfig.PER_HOST_V2\n"
      ],
      "execution_count": 0,
      "outputs": []
    },
    {
      "cell_type": "markdown",
      "metadata": {
        "id": "Cegj2L0MHcnb",
        "colab_type": "text"
      },
      "source": [
        "### TPUEstimator instantiation"
      ]
    },
    {
      "cell_type": "code",
      "metadata": {
        "id": "UnSsVYTBKdJW",
        "colab_type": "code",
        "colab": {}
      },
      "source": [
        "run_config = tf.contrib.tpu.RunConfig(\n",
        "    cluster=cluster_resolver,\n",
        "    master=None,\n",
        "    model_dir=MODEL_DIR,\n",
        "    save_checkpoints_steps=100,\n",
        "    tpu_config=tf.contrib.tpu.TPUConfig(\n",
        "        iterations_per_loop=1000,\n",
        "        num_shards=8,\n",
        "        per_host_input_for_training=is_per_host\n",
        "        # per_host_input_for_training=False\n",
        "    ))\n",
        "\n",
        "tpu_estimator = tf.contrib.tpu.TPUEstimator(\n",
        "    use_tpu=True,\n",
        "    model_fn=tpu_model_fn,\n",
        "    config=run_config,\n",
        "    export_to_tpu=False, # Conv1D cause error for TPU graph with ReadVariableOp. why?\n",
        "    params={\n",
        "        'learning_rate': 0.00009,\n",
        "#        'learning_rate': 0.001,\n",
        "        'input_stroke':tf.feature_column.numeric_column(key=\"stroke\", shape=(MAX_STROKE_NUM, MAX_ONE_STROKE_LEN, INPUT_TYPE_DIM)),\n",
        "        # 'input_stroke_valid':tf.feature_column.numeric_column(key=\"stroke\", shape=(MAX_VALID_STROKE_LEN, INPUT_TYPE_DIM)),\n",
        "    },\n",
        "    train_batch_size=8*256,\n",
        "    eval_batch_size=EVAL_BATCH_SIZE,\n",
        "    predict_batch_size=8)"
      ],
      "execution_count": 0,
      "outputs": []
    },
    {
      "cell_type": "markdown",
      "metadata": {
        "id": "lOG5sJ6mzYHt",
        "colab_type": "text"
      },
      "source": [
        "### TPUEstimator train"
      ]
    },
    {
      "cell_type": "code",
      "metadata": {
        "id": "CnJ5rJWuNGFS",
        "colab_type": "code",
        "colab": {}
      },
      "source": [
        "tf.logging.set_verbosity(tf.logging.ERROR)"
      ],
      "execution_count": 0,
      "outputs": []
    },
    {
      "cell_type": "code",
      "metadata": {
        "id": "tcm62tehKt0Y",
        "colab_type": "code",
        "outputId": "ff9aeeee-8ab2-4ac9-d690-150dca7d156a",
        "colab": {
          "base_uri": "https://localhost:8080/",
          "height": 1000
        }
      },
      "source": [
        "train_tpu_estimator(tpu_estimator, 200000)"
      ],
      "execution_count": 28,
      "outputs": [
        {
          "output_type": "stream",
          "text": [
            "115000\n",
            "{'accuracy': 0.85682905, 'loss': 0.57964367, 'global_step': 115000}\n",
            "116000\n",
            "{'accuracy': 0.85603034, 'loss': 0.58546287, 'global_step': 116000}\n",
            "117000\n",
            "{'accuracy': 0.85623, 'loss': 0.5854276, 'global_step': 117000}\n",
            "118000\n",
            "{'accuracy': 0.8564297, 'loss': 0.59066033, 'global_step': 118000}\n",
            "119000\n",
            "{'accuracy': 0.85652953, 'loss': 0.5822454, 'global_step': 119000}\n",
            "120000\n",
            "{'accuracy': 0.85652953, 'loss': 0.5839621, 'global_step': 120000}\n",
            "121000\n",
            "{'accuracy': 0.85573083, 'loss': 0.5894563, 'global_step': 121000}\n",
            "122000\n",
            "{'accuracy': 0.8554313, 'loss': 0.58321273, 'global_step': 122000}\n",
            "123000\n",
            "{'accuracy': 0.85573083, 'loss': 0.5822993, 'global_step': 123000}\n",
            "124000\n",
            "{'accuracy': 0.8571286, 'loss': 0.5830142, 'global_step': 124000}\n",
            "125000\n",
            "{'accuracy': 0.8569289, 'loss': 0.5765861, 'global_step': 125000}\n",
            "126000\n",
            "{'accuracy': 0.8571286, 'loss': 0.58785826, 'global_step': 126000}\n",
            "127000\n",
            "{'accuracy': 0.85722846, 'loss': 0.5827239, 'global_step': 127000}\n",
            "128000\n",
            "{'accuracy': 0.8567292, 'loss': 0.5819067, 'global_step': 128000}\n",
            "129000\n",
            "{'accuracy': 0.85682905, 'loss': 0.5751046, 'global_step': 129000}\n",
            "130000\n",
            "{'accuracy': 0.85553116, 'loss': 0.58153427, 'global_step': 130000}\n",
            "131000\n",
            "{'accuracy': 0.85503197, 'loss': 0.5864946, 'global_step': 131000}\n",
            "132000\n",
            "{'accuracy': 0.85603034, 'loss': 0.58516157, 'global_step': 132000}\n",
            "133000\n",
            "{'accuracy': 0.8567292, 'loss': 0.5840327, 'global_step': 133000}\n",
            "134000\n",
            "{'accuracy': 0.8545327, 'loss': 0.5842022, 'global_step': 134000}\n",
            "135000\n",
            "{'accuracy': 0.8576278, 'loss': 0.58028114, 'global_step': 135000}\n",
            "136000\n",
            "{'accuracy': 0.8571286, 'loss': 0.58119684, 'global_step': 136000}\n",
            "137000\n",
            "{'accuracy': 0.85652953, 'loss': 0.5816819, 'global_step': 137000}\n",
            "138000\n",
            "{'accuracy': 0.85682905, 'loss': 0.5821687, 'global_step': 138000}\n",
            "139000\n",
            "{'accuracy': 0.8559305, 'loss': 0.5798359, 'global_step': 139000}\n",
            "140000\n",
            "{'accuracy': 0.85623, 'loss': 0.580543, 'global_step': 140000}\n",
            "141000\n",
            "{'accuracy': 0.8559305, 'loss': 0.57818186, 'global_step': 141000}\n",
            "142000\n",
            "{'accuracy': 0.85722846, 'loss': 0.58033395, 'global_step': 142000}\n",
            "143000\n",
            "{'accuracy': 0.8571286, 'loss': 0.5754483, 'global_step': 143000}\n",
            "144000\n",
            "{'accuracy': 0.8583267, 'loss': 0.5738599, 'global_step': 144000}\n",
            "145000\n",
            "{'accuracy': 0.85682905, 'loss': 0.5815084, 'global_step': 145000}\n",
            "146000\n",
            "{'accuracy': 0.85772765, 'loss': 0.5774206, 'global_step': 146000}\n",
            "147000\n",
            "{'accuracy': 0.85772765, 'loss': 0.5751982, 'global_step': 147000}\n",
            "148000\n",
            "{'accuracy': 0.8571286, 'loss': 0.5772859, 'global_step': 148000}\n",
            "149000\n",
            "{'accuracy': 0.8564297, 'loss': 0.57877576, 'global_step': 149000}\n",
            "150000\n",
            "{'accuracy': 0.8583267, 'loss': 0.57513106, 'global_step': 150000}\n",
            "151000\n",
            "{'accuracy': 0.8571286, 'loss': 0.5759495, 'global_step': 151000}\n",
            "152000\n",
            "{'accuracy': 0.85623, 'loss': 0.5817281, 'global_step': 152000}\n",
            "153000\n",
            "{'accuracy': 0.8579273, 'loss': 0.5734998, 'global_step': 153000}\n",
            "154000\n",
            "{'accuracy': 0.85722846, 'loss': 0.5743599, 'global_step': 154000}\n",
            "155000\n",
            "{'accuracy': 0.8570288, 'loss': 0.5727138, 'global_step': 155000}\n",
            "156000\n",
            "{'accuracy': 0.8566294, 'loss': 0.57669705, 'global_step': 156000}\n",
            "157000\n",
            "{'accuracy': 0.8546326, 'loss': 0.58076787, 'global_step': 157000}\n",
            "158000\n",
            "{'accuracy': 0.8569289, 'loss': 0.573094, 'global_step': 158000}\n",
            "159000\n",
            "{'accuracy': 0.8564297, 'loss': 0.57684135, 'global_step': 159000}\n",
            "160000\n",
            "{'accuracy': 0.8559305, 'loss': 0.57623947, 'global_step': 160000}\n",
            "161000\n",
            "{'accuracy': 0.8578275, 'loss': 0.5742166, 'global_step': 161000}\n",
            "162000\n",
            "{'accuracy': 0.85632986, 'loss': 0.5738299, 'global_step': 162000}\n",
            "163000\n",
            "{'accuracy': 0.8559305, 'loss': 0.57202256, 'global_step': 163000}\n",
            "164000\n",
            "{'accuracy': 0.8564297, 'loss': 0.57827663, 'global_step': 164000}\n",
            "165000\n",
            "{'accuracy': 0.8570288, 'loss': 0.57195765, 'global_step': 165000}\n",
            "166000\n",
            "{'accuracy': 0.858726, 'loss': 0.5704916, 'global_step': 166000}\n",
            "167000\n",
            "{'accuracy': 0.8576278, 'loss': 0.5752614, 'global_step': 167000}\n",
            "168000\n",
            "{'accuracy': 0.8569289, 'loss': 0.5758181, 'global_step': 168000}\n",
            "169000\n",
            "{'accuracy': 0.8571286, 'loss': 0.57258123, 'global_step': 169000}\n",
            "170000\n",
            "{'accuracy': 0.855631, 'loss': 0.5773724, 'global_step': 170000}\n",
            "171000\n",
            "{'accuracy': 0.858127, 'loss': 0.5683186, 'global_step': 171000}\n",
            "172000\n",
            "{'accuracy': 0.858726, 'loss': 0.57426876, 'global_step': 172000}\n",
            "173000\n",
            "{'accuracy': 0.85852635, 'loss': 0.5729983, 'global_step': 173000}\n",
            "174000\n",
            "{'accuracy': 0.8566294, 'loss': 0.5730984, 'global_step': 174000}\n",
            "175000\n",
            "{'accuracy': 0.8596246, 'loss': 0.56625056, 'global_step': 175000}\n",
            "176000\n",
            "{'accuracy': 0.85852635, 'loss': 0.5740673, 'global_step': 176000}\n",
            "177000\n",
            "{'accuracy': 0.8598243, 'loss': 0.56961423, 'global_step': 177000}\n",
            "178000\n",
            "{'accuracy': 0.85822684, 'loss': 0.569916, 'global_step': 178000}\n",
            "179000\n",
            "{'accuracy': 0.858127, 'loss': 0.5677045, 'global_step': 179000}\n",
            "180000\n",
            "{'accuracy': 0.85742813, 'loss': 0.56933707, 'global_step': 180000}\n",
            "181000\n",
            "{'accuracy': 0.85852635, 'loss': 0.56651264, 'global_step': 181000}\n",
            "182000\n",
            "{'accuracy': 0.85932505, 'loss': 0.56731576, 'global_step': 182000}\n",
            "183000\n",
            "{'accuracy': 0.85882586, 'loss': 0.56412286, 'global_step': 183000}\n",
            "184000\n",
            "{'accuracy': 0.85722846, 'loss': 0.5687584, 'global_step': 184000}\n",
            "185000\n",
            "{'accuracy': 0.85802716, 'loss': 0.56583446, 'global_step': 185000}\n",
            "186000\n",
            "{'accuracy': 0.85932505, 'loss': 0.5633382, 'global_step': 186000}\n",
            "187000\n",
            "{'accuracy': 0.860024, 'loss': 0.5636259, 'global_step': 187000}\n",
            "188000\n",
            "{'accuracy': 0.8578275, 'loss': 0.565862, 'global_step': 188000}\n",
            "189000\n",
            "{'accuracy': 0.8596246, 'loss': 0.5593876, 'global_step': 189000}\n",
            "190000\n",
            "{'accuracy': 0.85772765, 'loss': 0.56417215, 'global_step': 190000}\n",
            "191000\n",
            "{'accuracy': 0.85882586, 'loss': 0.56634915, 'global_step': 191000}\n",
            "192000\n",
            "{'accuracy': 0.85902554, 'loss': 0.56563526, 'global_step': 192000}\n",
            "193000\n",
            "{'accuracy': 0.8592252, 'loss': 0.5662621, 'global_step': 193000}\n",
            "194000\n",
            "{'accuracy': 0.85882586, 'loss': 0.5644124, 'global_step': 194000}\n",
            "195000\n",
            "{'accuracy': 0.8595248, 'loss': 0.5664877, 'global_step': 195000}\n",
            "196000\n",
            "{'accuracy': 0.8578275, 'loss': 0.56553555, 'global_step': 196000}\n",
            "197000\n",
            "{'accuracy': 0.86022365, 'loss': 0.5649471, 'global_step': 197000}\n",
            "198000\n",
            "{'accuracy': 0.8583267, 'loss': 0.5680929, 'global_step': 198000}\n",
            "199000\n",
            "{'accuracy': 0.8573283, 'loss': 0.5690936, 'global_step': 199000}\n"
          ],
          "name": "stdout"
        }
      ]
    },
    {
      "cell_type": "markdown",
      "metadata": {
        "id": "DsvmzrmRWH4l",
        "colab_type": "text"
      },
      "source": [
        "### Evaluate result"
      ]
    },
    {
      "cell_type": "code",
      "metadata": {
        "id": "JKLsVzZ7gl-q",
        "colab_type": "code",
        "colab": {}
      },
      "source": [
        "predictions = tpu_estimator.predict(input_fn=tpu_input_fn_valid)\n",
        "pred_res = list(predictions)"
      ],
      "execution_count": 0,
      "outputs": []
    },
    {
      "cell_type": "code",
      "metadata": {
        "id": "Qte-wvP8hcxw",
        "colab_type": "code",
        "colab": {}
      },
      "source": [
        "id2sym = {value:key for key,value in sym2id.items() }"
      ],
      "execution_count": 0,
      "outputs": []
    },
    {
      "cell_type": "code",
      "metadata": {
        "id": "pSv-0g5DjrIy",
        "colab_type": "code",
        "colab": {}
      },
      "source": [
        "def tosym(ids):\n",
        "  return [id2sym[id] for id in ids]"
      ],
      "execution_count": 0,
      "outputs": []
    },
    {
      "cell_type": "code",
      "metadata": {
        "id": "Oj2OsqmJjx7K",
        "colab_type": "code",
        "outputId": "daf0a6b4-7f17-406b-86a3-02a81d5dfef4",
        "colab": {
          "base_uri": "https://localhost:8080/",
          "height": 35
        }
      },
      "source": [
        "tosym(pred_res[0]['class_ids'][0][0:13])"
      ],
      "execution_count": 0,
      "outputs": [
        {
          "output_type": "execute_result",
          "data": {
            "text/plain": [
              "['n', 'n', '{', '(', 'r', 'o', 'S', 'M', 'n', 'm', '<eol>', '<eol>', '<eol>']"
            ]
          },
          "metadata": {
            "tags": []
          },
          "execution_count": 68
        }
      ]
    },
    {
      "cell_type": "code",
      "metadata": {
        "id": "s3lCutjrS3mG",
        "colab_type": "code",
        "outputId": "c86824db-ba25-470b-98f3-e15680c00f9f",
        "colab": {
          "base_uri": "https://localhost:8080/",
          "height": 35
        }
      },
      "source": [
        "tosym(sparse_label_dec[0][0:13])"
      ],
      "execution_count": 0,
      "outputs": [
        {
          "output_type": "execute_result",
          "data": {
            "text/plain": [
              "['C', '_', 't', '=', 'C', '+', 'C', '=', '2', 'C', '<eol>', '<eol>', '<eol>']"
            ]
          },
          "metadata": {
            "tags": []
          },
          "execution_count": 75
        }
      ]
    },
    {
      "cell_type": "code",
      "metadata": {
        "id": "xhdcmKanTHXS",
        "colab_type": "code",
        "outputId": "a33d2de7-f887-4aaf-96b7-8942bee5d2f2",
        "colab": {
          "base_uri": "https://localhost:8080/",
          "height": 346
        }
      },
      "source": [
        "tosym(pred_res[1]['class_ids'][0][0:18])"
      ],
      "execution_count": 0,
      "outputs": [
        {
          "output_type": "execute_result",
          "data": {
            "text/plain": [
              "['\\\\frac',\n",
              " '{',\n",
              " '{',\n",
              " '2',\n",
              " '{',\n",
              " '2',\n",
              " '}',\n",
              " '}',\n",
              " '}',\n",
              " '{',\n",
              " 'a',\n",
              " '_',\n",
              " '{',\n",
              " 'n',\n",
              " '_',\n",
              " '(',\n",
              " '\\\\limits',\n",
              " '<eol>']"
            ]
          },
          "metadata": {
            "tags": []
          },
          "execution_count": 80
        }
      ]
    },
    {
      "cell_type": "code",
      "metadata": {
        "id": "-229J1v6THBZ",
        "colab_type": "code",
        "outputId": "68f96075-159a-4a78-e0ea-d5db1d33dbce",
        "colab": {
          "base_uri": "https://localhost:8080/",
          "height": 346
        }
      },
      "source": [
        "tosym(sparse_label_dec[1][0:18])"
      ],
      "execution_count": 0,
      "outputs": [
        {
          "output_type": "execute_result",
          "data": {
            "text/plain": [
              "['\\\\frac',\n",
              " '{',\n",
              " '\\\\log',\n",
              " '_',\n",
              " '{',\n",
              " 'b',\n",
              " '}',\n",
              " 'x',\n",
              " '}',\n",
              " '{',\n",
              " '\\\\log',\n",
              " '_',\n",
              " '{',\n",
              " 'b',\n",
              " '}',\n",
              " 'a',\n",
              " '}',\n",
              " '<eol>']"
            ]
          },
          "metadata": {
            "tags": []
          },
          "execution_count": 81
        }
      ]
    },
    {
      "cell_type": "code",
      "metadata": {
        "id": "5Jg0RaEqTSWR",
        "colab_type": "code",
        "outputId": "18439143-c571-43ac-8c2d-98585f5aea52",
        "colab": {
          "base_uri": "https://localhost:8080/",
          "height": 35
        }
      },
      "source": [
        "tosym(pred_res[2]['class_ids'][0][0:13])"
      ],
      "execution_count": 0,
      "outputs": [
        {
          "output_type": "execute_result",
          "data": {
            "text/plain": [
              "['\\\\frac', '{', '\\\\frac', '}', '{', '(', '1', 'y', '^', '{', '}', ')', '{']"
            ]
          },
          "metadata": {
            "tags": []
          },
          "execution_count": 78
        }
      ]
    },
    {
      "cell_type": "code",
      "metadata": {
        "id": "jK4SnA34TSC_",
        "colab_type": "code",
        "outputId": "06084c2b-fbb1-4ff9-e576-a4c872e33461",
        "colab": {
          "base_uri": "https://localhost:8080/",
          "height": 35
        }
      },
      "source": [
        "tosym(sparse_label_dec[2][0:13])"
      ],
      "execution_count": 0,
      "outputs": [
        {
          "output_type": "execute_result",
          "data": {
            "text/plain": [
              "['\\\\sqrt', '{', 'v', '^', '2', '-', '{', 'v', '_', 'v', '}', '^', '2']"
            ]
          },
          "metadata": {
            "tags": []
          },
          "execution_count": 79
        }
      ]
    },
    {
      "cell_type": "code",
      "metadata": {
        "id": "YeWtKPMdTGlv",
        "colab_type": "code",
        "colab": {}
      },
      "source": [
        ""
      ],
      "execution_count": 0,
      "outputs": []
    },
    {
      "cell_type": "code",
      "metadata": {
        "id": "hLZ8Y5DVS3MQ",
        "colab_type": "code",
        "colab": {}
      },
      "source": [
        ""
      ],
      "execution_count": 0,
      "outputs": []
    },
    {
      "cell_type": "markdown",
      "metadata": {
        "id": "7F0H3aXdWNwY",
        "colab_type": "text"
      },
      "source": [
        "Model seems overfitting.\n",
        "Confirm by using the same input of training set(need to adjust tpu_model_fn too)"
      ]
    },
    {
      "cell_type": "code",
      "metadata": {
        "id": "cCwYrOzqQAja",
        "colab_type": "code",
        "outputId": "97bce4e9-c9fb-4d74-919d-1dee7fc3aa8e",
        "colab": {
          "base_uri": "https://localhost:8080/",
          "height": 3127
        }
      },
      "source": [
        "predictions = tpu_estimator.predict(input_fn=tpu_input_fn_predict_trainset)\n",
        "pred_res2 = list(predictions)\n"
      ],
      "execution_count": 0,
      "outputs": [
        {
          "output_type": "stream",
          "text": [
            "INFO:tensorflow:Querying Tensorflow master (grpc://10.9.98.162:8470) for TPU system metadata.\n",
            "INFO:tensorflow:Found TPU system:\n",
            "INFO:tensorflow:*** Num TPU Cores: 8\n",
            "INFO:tensorflow:*** Num TPU Workers: 1\n",
            "INFO:tensorflow:*** Num TPU Cores Per Worker: 8\n",
            "INFO:tensorflow:*** Available Device: _DeviceAttributes(/job:worker/replica:0/task:0/device:CPU:0, CPU, -1, 13729412150682042289)\n",
            "INFO:tensorflow:*** Available Device: _DeviceAttributes(/job:worker/replica:0/task:0/device:XLA_CPU:0, XLA_CPU, 17179869184, 3943709997331902754)\n",
            "INFO:tensorflow:*** Available Device: _DeviceAttributes(/job:worker/replica:0/task:0/device:TPU:0, TPU, 17179869184, 9486574995663304763)\n",
            "INFO:tensorflow:*** Available Device: _DeviceAttributes(/job:worker/replica:0/task:0/device:TPU:1, TPU, 17179869184, 319607514878267032)\n",
            "INFO:tensorflow:*** Available Device: _DeviceAttributes(/job:worker/replica:0/task:0/device:TPU:2, TPU, 17179869184, 2382116045830419397)\n",
            "INFO:tensorflow:*** Available Device: _DeviceAttributes(/job:worker/replica:0/task:0/device:TPU:3, TPU, 17179869184, 1390010916397598587)\n",
            "INFO:tensorflow:*** Available Device: _DeviceAttributes(/job:worker/replica:0/task:0/device:TPU:4, TPU, 17179869184, 16345918858424958330)\n",
            "INFO:tensorflow:*** Available Device: _DeviceAttributes(/job:worker/replica:0/task:0/device:TPU:5, TPU, 17179869184, 17052816339434237606)\n",
            "INFO:tensorflow:*** Available Device: _DeviceAttributes(/job:worker/replica:0/task:0/device:TPU:6, TPU, 17179869184, 14856597347691996229)\n",
            "INFO:tensorflow:*** Available Device: _DeviceAttributes(/job:worker/replica:0/task:0/device:TPU:7, TPU, 17179869184, 611376184857864850)\n",
            "INFO:tensorflow:*** Available Device: _DeviceAttributes(/job:worker/replica:0/task:0/device:TPU_SYSTEM:0, TPU_SYSTEM, 17179869184, 11560714348300796685)\n",
            "INFO:tensorflow:Calling model_fn.\n",
            "INFO:tensorflow:Done calling model_fn.\n",
            "INFO:tensorflow:TPU job name worker\n",
            "INFO:tensorflow:Graph was finalized.\n",
            "INFO:tensorflow:Restoring parameters from gs://karino2-tegashiki/models/model_vec_mask3/model.ckpt-20000\n",
            "INFO:tensorflow:Running local_init_op.\n",
            "INFO:tensorflow:Done running local_init_op.\n",
            "INFO:tensorflow:Init TPU system\n",
            "INFO:tensorflow:Initialized TPU in 7 seconds\n",
            "INFO:tensorflow:Starting infeed thread controller.\n",
            "INFO:tensorflow:Starting outfeed thread controller.\n",
            "INFO:tensorflow:Initialized dataset iterators in 0 seconds\n",
            "INFO:tensorflow:Enqueue next (1) batch(es) of data to infeed.\n",
            "INFO:tensorflow:Dequeue next (1) batch(es) of data from outfeed.\n",
            "INFO:tensorflow:Enqueue next (1) batch(es) of data to infeed.\n",
            "INFO:tensorflow:Dequeue next (1) batch(es) of data from outfeed.\n",
            "INFO:tensorflow:Enqueue next (1) batch(es) of data to infeed.\n",
            "INFO:tensorflow:Dequeue next (1) batch(es) of data from outfeed.\n",
            "INFO:tensorflow:Enqueue next (1) batch(es) of data to infeed.\n",
            "INFO:tensorflow:Dequeue next (1) batch(es) of data from outfeed.\n",
            "INFO:tensorflow:Enqueue next (1) batch(es) of data to infeed.\n",
            "INFO:tensorflow:Dequeue next (1) batch(es) of data from outfeed.\n",
            "INFO:tensorflow:Enqueue next (1) batch(es) of data to infeed.\n",
            "INFO:tensorflow:Dequeue next (1) batch(es) of data from outfeed.\n",
            "INFO:tensorflow:Enqueue next (1) batch(es) of data to infeed.\n",
            "INFO:tensorflow:Dequeue next (1) batch(es) of data from outfeed.\n",
            "INFO:tensorflow:Enqueue next (1) batch(es) of data to infeed.\n",
            "INFO:tensorflow:Dequeue next (1) batch(es) of data from outfeed.\n",
            "INFO:tensorflow:Enqueue next (1) batch(es) of data to infeed.\n",
            "INFO:tensorflow:Dequeue next (1) batch(es) of data from outfeed.\n",
            "INFO:tensorflow:Enqueue next (1) batch(es) of data to infeed.\n",
            "INFO:tensorflow:Dequeue next (1) batch(es) of data from outfeed.\n",
            "INFO:tensorflow:Enqueue next (1) batch(es) of data to infeed.\n",
            "INFO:tensorflow:Dequeue next (1) batch(es) of data from outfeed.\n",
            "INFO:tensorflow:Enqueue next (1) batch(es) of data to infeed.\n",
            "INFO:tensorflow:Dequeue next (1) batch(es) of data from outfeed.\n",
            "INFO:tensorflow:Enqueue next (1) batch(es) of data to infeed.\n",
            "INFO:tensorflow:Dequeue next (1) batch(es) of data from outfeed.\n",
            "INFO:tensorflow:Enqueue next (1) batch(es) of data to infeed.\n",
            "INFO:tensorflow:Dequeue next (1) batch(es) of data from outfeed.\n",
            "INFO:tensorflow:Enqueue next (1) batch(es) of data to infeed.\n",
            "INFO:tensorflow:Dequeue next (1) batch(es) of data from outfeed.\n",
            "INFO:tensorflow:Enqueue next (1) batch(es) of data to infeed.\n",
            "INFO:tensorflow:Dequeue next (1) batch(es) of data from outfeed.\n",
            "INFO:tensorflow:Enqueue next (1) batch(es) of data to infeed.\n",
            "INFO:tensorflow:Dequeue next (1) batch(es) of data from outfeed.\n",
            "INFO:tensorflow:Enqueue next (1) batch(es) of data to infeed.\n",
            "INFO:tensorflow:Dequeue next (1) batch(es) of data from outfeed.\n",
            "INFO:tensorflow:Enqueue next (1) batch(es) of data to infeed.\n",
            "INFO:tensorflow:Dequeue next (1) batch(es) of data from outfeed.\n",
            "INFO:tensorflow:Enqueue next (1) batch(es) of data to infeed.\n",
            "INFO:tensorflow:Dequeue next (1) batch(es) of data from outfeed.\n",
            "INFO:tensorflow:Enqueue next (1) batch(es) of data to infeed.\n",
            "INFO:tensorflow:Dequeue next (1) batch(es) of data from outfeed.\n",
            "INFO:tensorflow:Enqueue next (1) batch(es) of data to infeed.\n",
            "INFO:tensorflow:Dequeue next (1) batch(es) of data from outfeed.\n",
            "INFO:tensorflow:Enqueue next (1) batch(es) of data to infeed.\n",
            "INFO:tensorflow:Dequeue next (1) batch(es) of data from outfeed.\n",
            "INFO:tensorflow:Enqueue next (1) batch(es) of data to infeed.\n",
            "INFO:tensorflow:Dequeue next (1) batch(es) of data from outfeed.\n",
            "INFO:tensorflow:Enqueue next (1) batch(es) of data to infeed.\n",
            "INFO:tensorflow:Dequeue next (1) batch(es) of data from outfeed.\n",
            "INFO:tensorflow:Enqueue next (1) batch(es) of data to infeed.\n",
            "INFO:tensorflow:Dequeue next (1) batch(es) of data from outfeed.\n",
            "INFO:tensorflow:Enqueue next (1) batch(es) of data to infeed.\n",
            "INFO:tensorflow:Dequeue next (1) batch(es) of data from outfeed.\n",
            "INFO:tensorflow:Enqueue next (1) batch(es) of data to infeed.\n",
            "INFO:tensorflow:Dequeue next (1) batch(es) of data from outfeed.\n",
            "INFO:tensorflow:Enqueue next (1) batch(es) of data to infeed.\n",
            "INFO:tensorflow:Dequeue next (1) batch(es) of data from outfeed.\n",
            "INFO:tensorflow:Enqueue next (1) batch(es) of data to infeed.\n",
            "INFO:tensorflow:Dequeue next (1) batch(es) of data from outfeed.\n",
            "INFO:tensorflow:Enqueue next (1) batch(es) of data to infeed.\n",
            "INFO:tensorflow:Dequeue next (1) batch(es) of data from outfeed.\n",
            "INFO:tensorflow:Enqueue next (1) batch(es) of data to infeed.\n",
            "INFO:tensorflow:Dequeue next (1) batch(es) of data from outfeed.\n",
            "INFO:tensorflow:Enqueue next (1) batch(es) of data to infeed.\n",
            "INFO:tensorflow:Dequeue next (1) batch(es) of data from outfeed.\n",
            "INFO:tensorflow:Enqueue next (1) batch(es) of data to infeed.\n",
            "INFO:tensorflow:Dequeue next (1) batch(es) of data from outfeed.\n",
            "INFO:tensorflow:Enqueue next (1) batch(es) of data to infeed.\n",
            "INFO:tensorflow:Dequeue next (1) batch(es) of data from outfeed.\n",
            "INFO:tensorflow:Enqueue next (1) batch(es) of data to infeed.\n",
            "INFO:tensorflow:Dequeue next (1) batch(es) of data from outfeed.\n",
            "INFO:tensorflow:Enqueue next (1) batch(es) of data to infeed.\n",
            "INFO:tensorflow:Dequeue next (1) batch(es) of data from outfeed.\n",
            "INFO:tensorflow:Enqueue next (1) batch(es) of data to infeed.\n",
            "INFO:tensorflow:Dequeue next (1) batch(es) of data from outfeed.\n",
            "INFO:tensorflow:Enqueue next (1) batch(es) of data to infeed.\n",
            "INFO:tensorflow:Dequeue next (1) batch(es) of data from outfeed.\n",
            "INFO:tensorflow:Enqueue next (1) batch(es) of data to infeed.\n",
            "INFO:tensorflow:Dequeue next (1) batch(es) of data from outfeed.\n",
            "INFO:tensorflow:Enqueue next (1) batch(es) of data to infeed.\n",
            "INFO:tensorflow:Dequeue next (1) batch(es) of data from outfeed.\n",
            "INFO:tensorflow:Enqueue next (1) batch(es) of data to infeed.\n",
            "INFO:tensorflow:Dequeue next (1) batch(es) of data from outfeed.\n",
            "INFO:tensorflow:Enqueue next (1) batch(es) of data to infeed.\n",
            "INFO:tensorflow:Dequeue next (1) batch(es) of data from outfeed.\n",
            "INFO:tensorflow:Enqueue next (1) batch(es) of data to infeed.\n",
            "INFO:tensorflow:Dequeue next (1) batch(es) of data from outfeed.\n",
            "INFO:tensorflow:Enqueue next (1) batch(es) of data to infeed.\n",
            "INFO:tensorflow:Dequeue next (1) batch(es) of data from outfeed.\n",
            "INFO:tensorflow:Enqueue next (1) batch(es) of data to infeed.\n",
            "INFO:tensorflow:Dequeue next (1) batch(es) of data from outfeed.\n",
            "INFO:tensorflow:Enqueue next (1) batch(es) of data to infeed.\n",
            "INFO:tensorflow:Dequeue next (1) batch(es) of data from outfeed.\n",
            "INFO:tensorflow:Enqueue next (1) batch(es) of data to infeed.\n",
            "INFO:tensorflow:Dequeue next (1) batch(es) of data from outfeed.\n",
            "INFO:tensorflow:Enqueue next (1) batch(es) of data to infeed.\n",
            "INFO:tensorflow:Dequeue next (1) batch(es) of data from outfeed.\n",
            "INFO:tensorflow:Enqueue next (1) batch(es) of data to infeed.\n",
            "INFO:tensorflow:Dequeue next (1) batch(es) of data from outfeed.\n",
            "INFO:tensorflow:Enqueue next (1) batch(es) of data to infeed.\n",
            "INFO:tensorflow:Dequeue next (1) batch(es) of data from outfeed.\n",
            "INFO:tensorflow:Enqueue next (1) batch(es) of data to infeed.\n",
            "INFO:tensorflow:Dequeue next (1) batch(es) of data from outfeed.\n",
            "INFO:tensorflow:Enqueue next (1) batch(es) of data to infeed.\n",
            "INFO:tensorflow:Dequeue next (1) batch(es) of data from outfeed.\n",
            "INFO:tensorflow:Enqueue next (1) batch(es) of data to infeed.\n",
            "INFO:tensorflow:Dequeue next (1) batch(es) of data from outfeed.\n",
            "INFO:tensorflow:Enqueue next (1) batch(es) of data to infeed.\n",
            "INFO:tensorflow:Dequeue next (1) batch(es) of data from outfeed.\n",
            "INFO:tensorflow:Enqueue next (1) batch(es) of data to infeed.\n",
            "INFO:tensorflow:Dequeue next (1) batch(es) of data from outfeed.\n",
            "INFO:tensorflow:Enqueue next (1) batch(es) of data to infeed.\n",
            "INFO:tensorflow:Dequeue next (1) batch(es) of data from outfeed.\n",
            "INFO:tensorflow:Enqueue next (1) batch(es) of data to infeed.\n",
            "INFO:tensorflow:Dequeue next (1) batch(es) of data from outfeed.\n",
            "INFO:tensorflow:Enqueue next (1) batch(es) of data to infeed.\n",
            "INFO:tensorflow:Dequeue next (1) batch(es) of data from outfeed.\n",
            "INFO:tensorflow:Enqueue next (1) batch(es) of data to infeed.\n",
            "INFO:tensorflow:Dequeue next (1) batch(es) of data from outfeed.\n",
            "INFO:tensorflow:Enqueue next (1) batch(es) of data to infeed.\n",
            "INFO:tensorflow:Dequeue next (1) batch(es) of data from outfeed.\n",
            "INFO:tensorflow:Enqueue next (1) batch(es) of data to infeed.\n",
            "INFO:tensorflow:Dequeue next (1) batch(es) of data from outfeed.\n",
            "INFO:tensorflow:Enqueue next (1) batch(es) of data to infeed.\n",
            "INFO:tensorflow:Dequeue next (1) batch(es) of data from outfeed.\n",
            "INFO:tensorflow:Enqueue next (1) batch(es) of data to infeed.\n",
            "INFO:tensorflow:Dequeue next (1) batch(es) of data from outfeed.\n",
            "INFO:tensorflow:Stop infeed thread controller\n",
            "INFO:tensorflow:Shutting down InfeedController thread.\n",
            "INFO:tensorflow:InfeedController received shutdown signal, stopping.\n",
            "INFO:tensorflow:Infeed thread finished, shutting down.\n",
            "INFO:tensorflow:infeed marked as finished\n",
            "INFO:tensorflow:Stop output thread controller\n",
            "INFO:tensorflow:Shutting down OutfeedController thread.\n",
            "INFO:tensorflow:OutfeedController received shutdown signal, stopping.\n",
            "INFO:tensorflow:Outfeed thread finished, shutting down.\n",
            "INFO:tensorflow:outfeed marked as finished\n",
            "INFO:tensorflow:Shutdown TPU system.\n",
            "INFO:tensorflow:prediction_loop marked as finished\n",
            "INFO:tensorflow:prediction_loop marked as finished\n"
          ],
          "name": "stdout"
        }
      ]
    },
    {
      "cell_type": "code",
      "metadata": {
        "id": "KoHuWZCBQAF6",
        "colab_type": "code",
        "outputId": "87b8b665-1902-4cce-aedf-642a23f1f29b",
        "colab": {
          "base_uri": "https://localhost:8080/",
          "height": 35
        }
      },
      "source": [
        "tosym(pred_res2[0]['class_ids'][0][0:10])"
      ],
      "execution_count": 0,
      "outputs": [
        {
          "output_type": "execute_result",
          "data": {
            "text/plain": [
              "['1', '_', '{', '=', '\\\\ldots', '_', '2', '<eol>', '<eol>', '<eol>']"
            ]
          },
          "metadata": {
            "tags": []
          },
          "execution_count": 92
        }
      ]
    },
    {
      "cell_type": "code",
      "metadata": {
        "id": "OhZcG7EgVhj_",
        "colab_type": "code",
        "outputId": "529dba8e-a91b-478e-e65f-98155d4f30ed",
        "colab": {
          "base_uri": "https://localhost:8080/",
          "height": 35
        }
      },
      "source": [
        "tosym(decoder_sparse_target_data[0][0:10])"
      ],
      "execution_count": 0,
      "outputs": [
        {
          "output_type": "execute_result",
          "data": {
            "text/plain": [
              "['f', '_', '2', ',', 'g', '_', '2', '<eol>', '<eol>', '<eol>']"
            ]
          },
          "metadata": {
            "tags": []
          },
          "execution_count": 93
        }
      ]
    },
    {
      "cell_type": "code",
      "metadata": {
        "id": "aONQDOJYVp94",
        "colab_type": "code",
        "outputId": "006d9a0c-b990-446e-8e46-daa3f163ae86",
        "colab": {
          "base_uri": "https://localhost:8080/",
          "height": 35
        }
      },
      "source": [
        "tosym(pred_res2[1]['class_ids'][0][0:10])"
      ],
      "execution_count": 0,
      "outputs": [
        {
          "output_type": "execute_result",
          "data": {
            "text/plain": [
              "['\\\\frac', '{', '1', '^', '2', '2', '}', '+', 'x', '^']"
            ]
          },
          "metadata": {
            "tags": []
          },
          "execution_count": 94
        }
      ]
    },
    {
      "cell_type": "code",
      "metadata": {
        "id": "W8Cu-Q4sVpo-",
        "colab_type": "code",
        "outputId": "336b805a-ced7-4196-9e6b-fa77e615cf8b",
        "colab": {
          "base_uri": "https://localhost:8080/",
          "height": 35
        }
      },
      "source": [
        "tosym(decoder_sparse_target_data[1][0:10])"
      ],
      "execution_count": 0,
      "outputs": [
        {
          "output_type": "execute_result",
          "data": {
            "text/plain": [
              "['\\\\frac', '{', 'x', '^', '{', '2', '}', '+', 'y', '^']"
            ]
          },
          "metadata": {
            "tags": []
          },
          "execution_count": 95
        }
      ]
    },
    {
      "cell_type": "code",
      "metadata": {
        "id": "30y55gx2V3le",
        "colab_type": "code",
        "outputId": "c826844b-9275-41bc-84ae-7ff3bd93bd7b",
        "colab": {
          "base_uri": "https://localhost:8080/",
          "height": 35
        }
      },
      "source": [
        "tosym(pred_res2[2]['class_ids'][0][0:10])"
      ],
      "execution_count": 0,
      "outputs": [
        {
          "output_type": "execute_result",
          "data": {
            "text/plain": [
              "['{', '.', '7', '<eol>', '<eol>', '<eol>', '<eol>', '<eol>', '<eol>', '<eol>']"
            ]
          },
          "metadata": {
            "tags": []
          },
          "execution_count": 96
        }
      ]
    },
    {
      "cell_type": "code",
      "metadata": {
        "id": "4LKVi3asV3P5",
        "colab_type": "code",
        "outputId": "3d25c8bc-0732-444c-dd3a-c6dea90d9dfb",
        "colab": {
          "base_uri": "https://localhost:8080/",
          "height": 35
        }
      },
      "source": [
        "tosym(decoder_sparse_target_data[2][0:10])"
      ],
      "execution_count": 0,
      "outputs": [
        {
          "output_type": "execute_result",
          "data": {
            "text/plain": [
              "['7', '.', '1', '<eol>', '<eol>', '<eol>', '<eol>', '<eol>', '<eol>', '<eol>']"
            ]
          },
          "metadata": {
            "tags": []
          },
          "execution_count": 97
        }
      ]
    },
    {
      "cell_type": "code",
      "metadata": {
        "id": "D0wsn6MgV26t",
        "colab_type": "code",
        "colab": {}
      },
      "source": [
        ""
      ],
      "execution_count": 0,
      "outputs": []
    },
    {
      "cell_type": "code",
      "metadata": {
        "id": "eegUMwZbVYyl",
        "colab_type": "code",
        "colab": {}
      },
      "source": [
        ""
      ],
      "execution_count": 0,
      "outputs": []
    },
    {
      "cell_type": "code",
      "metadata": {
        "id": "3zzgF4GIj2rY",
        "colab_type": "code",
        "outputId": "5540c16a-bb55-4125-cf7c-14bfe66a4206",
        "colab": {
          "base_uri": "https://localhost:8080/",
          "height": 675
        }
      },
      "source": [
        "decoder_input_data[0:5]"
      ],
      "execution_count": 0,
      "outputs": [
        {
          "output_type": "execute_result",
          "data": {
            "text/plain": [
              "array([[112,  77,  47,  65,   7,  51,  47,  65,   0,   0,   0,   0,   0,\n",
              "          0,   0,   0,   0,   0,   0,   0,   0,   0,   0,   0,   0,   0,\n",
              "          0,   0,   0,   0,   0,   0,   0,   0,   0,   0,   0,   0,   0,\n",
              "          0,   0,   0,   0,   0,   0,   0,   0,   0,   0,   0,   0,   0,\n",
              "          0,   0,   0,   0,   0,   0,   0,   0,   0,   0,   0,   0,   0,\n",
              "          0,   0,   0,   0,   0,   0,   0,   0,   0,   0,   0,   0,   0,\n",
              "          0,   0,   0,   0,   0,   0,   0,   0,   0,   0,   0,   0],\n",
              "       [112,  83,  57,  29,  75,  57,  65, 110,  34, 109,  75,  57,  65,\n",
              "        110, 110,  57, 102,  75,  57,  65, 110, 110,  89,  83,  57,  49,\n",
              "         75,  57,  65, 110, 110,  57,  48,  75,  57,  65, 110, 110,  34,\n",
              "         90,  93,   8,   0,   0,   0,   0,   0,   0,   0,   0,   0,   0,\n",
              "          0,   0,   0,   0,   0,   0,   0,   0,   0,   0,   0,   0,   0,\n",
              "          0,   0,   0,   0,   0,   0,   0,   0,   0,   0,   0,   0,   0,\n",
              "          0,   0,   0,   0,   0,   0,   0,   0,   0,   0,   0,   0],\n",
              "       [112,  38,  64,  90,   0,   0,   0,   0,   0,   0,   0,   0,   0,\n",
              "          0,   0,   0,   0,   0,   0,   0,   0,   0,   0,   0,   0,   0,\n",
              "          0,   0,   0,   0,   0,   0,   0,   0,   0,   0,   0,   0,   0,\n",
              "          0,   0,   0,   0,   0,   0,   0,   0,   0,   0,   0,   0,   0,\n",
              "          0,   0,   0,   0,   0,   0,   0,   0,   0,   0,   0,   0,   0,\n",
              "          0,   0,   0,   0,   0,   0,   0,   0,   0,   0,   0,   0,   0,\n",
              "          0,   0,   0,   0,   0,   0,   0,   0,   0,   0,   0,   0],\n",
              "       [112,  90,  34,  90,  93,  65,   0,   0,   0,   0,   0,   0,   0,\n",
              "          0,   0,   0,   0,   0,   0,   0,   0,   0,   0,   0,   0,   0,\n",
              "          0,   0,   0,   0,   0,   0,   0,   0,   0,   0,   0,   0,   0,\n",
              "          0,   0,   0,   0,   0,   0,   0,   0,   0,   0,   0,   0,   0,\n",
              "          0,   0,   0,   0,   0,   0,   0,   0,   0,   0,   0,   0,   0,\n",
              "          0,   0,   0,   0,   0,   0,   0,   0,   0,   0,   0,   0,   0,\n",
              "          0,   0,   0,   0,   0,   0,   0,   0,   0,   0,   0,   0],\n",
              "       [112, 109,   0,   0,   0,   0,   0,   0,   0,   0,   0,   0,   0,\n",
              "          0,   0,   0,   0,   0,   0,   0,   0,   0,   0,   0,   0,   0,\n",
              "          0,   0,   0,   0,   0,   0,   0,   0,   0,   0,   0,   0,   0,\n",
              "          0,   0,   0,   0,   0,   0,   0,   0,   0,   0,   0,   0,   0,\n",
              "          0,   0,   0,   0,   0,   0,   0,   0,   0,   0,   0,   0,   0,\n",
              "          0,   0,   0,   0,   0,   0,   0,   0,   0,   0,   0,   0,   0,\n",
              "          0,   0,   0,   0,   0,   0,   0,   0,   0,   0,   0,   0]],\n",
              "      dtype=uint8)"
            ]
          },
          "metadata": {
            "tags": []
          },
          "execution_count": 138
        }
      ]
    },
    {
      "cell_type": "code",
      "metadata": {
        "id": "VPkcbex4hoYi",
        "colab_type": "code",
        "outputId": "cdeca23f-91b4-41dd-d755-8cd1b74db948",
        "colab": {
          "base_uri": "https://localhost:8080/",
          "height": 35
        }
      },
      "source": [
        "tosym(sparse_label_dec[0][0:10])"
      ],
      "execution_count": 0,
      "outputs": [
        {
          "output_type": "execute_result",
          "data": {
            "text/plain": [
              "['C', '_', 't', '=', 'C', '+', 'C', '=', '2', 'C']"
            ]
          },
          "metadata": {
            "tags": []
          },
          "execution_count": 290
        }
      ]
    },
    {
      "cell_type": "code",
      "metadata": {
        "id": "2PDZ_BRDkKSl",
        "colab_type": "code",
        "outputId": "70a9d0c9-0ec1-44d0-da5e-691b68082196",
        "colab": {
          "base_uri": "https://localhost:8080/",
          "height": 35
        }
      },
      "source": [
        "tosym(pred_res[1]['class_ids'][0][0:13])"
      ],
      "execution_count": 0,
      "outputs": [
        {
          "output_type": "execute_result",
          "data": {
            "text/plain": [
              "['f', '{', '2', 'x', '2', '2', '-', '}', '}', '{', '2', '_', '{']"
            ]
          },
          "metadata": {
            "tags": []
          },
          "execution_count": 291
        }
      ]
    },
    {
      "cell_type": "code",
      "metadata": {
        "id": "2GPTA5xUkJ5k",
        "colab_type": "code",
        "outputId": "62da35f8-37c8-4b34-d0a1-59b8c5073336",
        "colab": {
          "base_uri": "https://localhost:8080/",
          "height": 35
        }
      },
      "source": [
        "tosym(sparse_label_dec[1][0:10])"
      ],
      "execution_count": 0,
      "outputs": [
        {
          "output_type": "execute_result",
          "data": {
            "text/plain": [
              "['\\\\frac', '{', '\\\\log', '_', '{', 'b', '}', 'x', '}', '{']"
            ]
          },
          "metadata": {
            "tags": []
          },
          "execution_count": 292
        }
      ]
    },
    {
      "cell_type": "code",
      "metadata": {
        "id": "wPr8glUXkgIs",
        "colab_type": "code",
        "outputId": "6303acca-ad01-4b99-b970-c7b2ad6008bc",
        "colab": {
          "base_uri": "https://localhost:8080/",
          "height": 35
        }
      },
      "source": [
        "tosym(pred_res[2]['class_ids'][0][0:13])"
      ],
      "execution_count": 0,
      "outputs": [
        {
          "output_type": "execute_result",
          "data": {
            "text/plain": [
              "['a', 'u', '\\\\int', 't', '2', '2', '+', '2', '+', '2', 'a', '_', '3']"
            ]
          },
          "metadata": {
            "tags": []
          },
          "execution_count": 294
        }
      ]
    },
    {
      "cell_type": "code",
      "metadata": {
        "id": "nK7MnKoAkbaw",
        "colab_type": "code",
        "outputId": "54c0fc84-c944-41fa-988b-b140c53ada8e",
        "colab": {
          "base_uri": "https://localhost:8080/",
          "height": 35
        }
      },
      "source": [
        "tosym(sparse_label_dec[2][0:10])"
      ],
      "execution_count": 0,
      "outputs": [
        {
          "output_type": "execute_result",
          "data": {
            "text/plain": [
              "['s', 'q', 'r', 't', '{', 'v', '^', '2', '-', '{']"
            ]
          },
          "metadata": {
            "tags": []
          },
          "execution_count": 293
        }
      ]
    },
    {
      "cell_type": "code",
      "metadata": {
        "id": "21zL1R8mkXdg",
        "colab_type": "code",
        "outputId": "9e4ee270-f8e8-4576-d8db-e887fb5f2ae2",
        "colab": {
          "base_uri": "https://localhost:8080/",
          "height": 1244
        }
      },
      "source": [
        "valid_raw_list[2]"
      ],
      "execution_count": 0,
      "outputs": [
        {
          "output_type": "execute_result",
          "data": {
            "text/plain": [
              "('valid/TestEM2014GT_INKMLs/502_em_16.inkml',\n",
              " '\\\\sqrt{v^2-{v_v}^2}=\\\\frac {{v_v}^2}{\\\\sqrt{v^2-{v_v}^2}}',\n",
              " ['s',\n",
              "  'q',\n",
              "  'r',\n",
              "  't',\n",
              "  '{',\n",
              "  'v',\n",
              "  '^',\n",
              "  '2',\n",
              "  '-',\n",
              "  '{',\n",
              "  'v',\n",
              "  '_',\n",
              "  'v',\n",
              "  '}',\n",
              "  '^',\n",
              "  '2',\n",
              "  '}',\n",
              "  '=',\n",
              "  '\\\\frac',\n",
              "  '{',\n",
              "  '{',\n",
              "  'v',\n",
              "  '_',\n",
              "  'v',\n",
              "  '}',\n",
              "  '^',\n",
              "  '2',\n",
              "  '}',\n",
              "  '{',\n",
              "  '\\\\sqrt',\n",
              "  '{',\n",
              "  'v',\n",
              "  '^',\n",
              "  '2',\n",
              "  '-',\n",
              "  '{',\n",
              "  'v',\n",
              "  '_',\n",
              "  'v',\n",
              "  '}',\n",
              "  '^',\n",
              "  '2',\n",
              "  '}',\n",
              "  '}'],\n",
              " ['260 181, 260 180, 262 177, 263 175, 264 174, 266 171, 268 170, 269 170, 271 170, 272 171, 273 173, 273 175, 274 178, 274 181, 274 184, 274 187, 276 192, 278 194, 280 194, 282 195, 287 193, 289 191, 291 188, 292 185, 293 182, 293 179, 293 176, 293 174, 292 172, 291 171, 290 170, 289 171, 288 170, 295 174, 297 174, 299 173, 300 172, 301 171, 300 172, 301 171',\n",
              "  '321 137, 320 137, 320 136, 322 132, 323 132, 323 133, 323 137, 322 140, 321 142, 319 144, 317 146, 315 147, 313 148, 312 148, 312 147, 314 145, 316 145, 317 146, 319 146, 320 147, 322 148, 324 149, 326 150, 330 148, 332 147, 333 146',\n",
              "  '366 182, 367 182, 368 182, 367 182, 363 183, 360 183, 356 184, 354 184, 352 185, 350 184, 351 184, 350 184, 348 184',\n",
              "  '393 176, 392 176, 393 176, 393 175, 396 171, 398 170, 399 170, 401 173, 402 176, 403 183, 404 185, 404 187, 407 190, 409 190, 411 190, 413 189, 415 187, 417 186, 418 184, 419 182, 419 180, 419 177, 419 175, 418 174, 417 173, 418 173, 419 173, 426 172, 428 171',\n",
              "  '429 206, 429 205, 432 201, 433 200, 434 199, 437 201, 438 202, 438 204, 438 206, 439 208, 440 209, 441 211, 443 211, 442 211, 443 211, 447 210, 448 209, 449 207, 449 205, 448 201, 447 200, 447 199, 450 199, 452 200, 453 200, 454 200, 455 200',\n",
              "  '467 144, 468 144, 467 144, 469 141, 470 139, 472 138, 475 139, 476 141, 476 143, 476 146, 475 149, 470 157, 468 157, 466 157, 465 156, 465 154, 465 153, 466 152, 470 154, 473 155, 475 157, 478 157, 480 158, 483 158, 488 156',\n",
              "  '239 210, 238 209, 239 207, 238 207, 239 204, 240 203, 240 201, 240 201, 242 201, 242 200, 246 205, 248 207, 249 208, 250 209, 251 209, 251 210, 251 205, 251 202, 250 197, 248 182, 248 177, 247 171, 247 160, 247 154, 247 148, 247 143, 247 138, 248 133, 248 129, 250 122, 251 120, 252 118, 254 116, 256 115, 259 115, 262 114, 266 114, 270 114, 280 113, 286 113, 292 113, 298 112, 305 112, 312 111, 334 110, 342 110, 350 110, 367 109, 375 109, 384 109, 393 109, 410 109, 427 108, 435 108, 443 108, 450 108, 464 107, 492 108, 496 108, 499 108, 503 109, 502 109, 503 109, 504 115, 504 117, 504 119, 505 120',\n",
              "  '564 186, 564 187, 560 188, 552 189, 549 190, 546 190, 540 190, 537 189, 536 189',\n",
              "  '562 177, 555 178, 552 178, 550 178, 547 178, 544 178, 542 178, 541 178, 540 178',\n",
              "  '672 138, 672 137, 672 136, 675 132, 677 131, 681 134, 682 137, 683 140, 683 143, 684 146, 684 148, 687 151, 690 150, 692 149, 694 147, 696 145, 696 142, 697 139, 696 137, 696 134, 696 133, 697 133, 698 133, 699 133, 709 132, 711 131',\n",
              "  '710 162, 710 161, 713 158, 714 157, 717 158, 717 157, 720 165, 720 167, 721 169, 722 170, 723 170, 725 168, 725 166, 725 164, 725 162, 724 161, 727 160, 732 159, 733 158, 733 159',\n",
              "  '738 106, 738 104, 737 104, 740 102, 741 102, 744 101, 745 100, 745 101, 745 107, 744 110, 743 113, 742 116, 739 119, 738 119, 737 119, 737 117, 738 116, 742 118, 744 119, 746 120, 749 121, 751 120, 752 119, 754 119, 753 119',\n",
              "  '595 186, 594 186, 594 185, 593 184, 594 184, 596 184, 597 184, 596 184, 602 184, 605 184, 608 184, 611 184, 615 185, 620 185, 625 185, 636 185, 641 185, 648 184, 655 184, 662 184, 670 184, 678 184, 695 184, 703 183, 711 183, 720 183, 729 183, 739 183, 747 183, 755 182, 763 182, 770 182, 778 182, 791 183, 796 183, 800 183, 803 184, 807 185, 807 184, 807 185',\n",
              "  '642 244, 640 242, 641 240, 641 238, 642 234, 643 233, 644 231, 645 231, 646 231, 648 232, 648 233, 649 239, 650 242, 650 245, 653 251, 654 251, 656 251, 657 249, 659 248, 661 245, 662 238, 662 236, 662 233, 661 232, 662 231, 661 231, 661 230, 664 230, 666 230, 668 230, 669 231, 670 230, 671 231, 671 230',\n",
              "  '686 214, 686 213, 686 212, 687 211, 689 211, 688 210, 692 215, 692 217, 691 220, 689 222, 688 223, 688 221, 688 220, 689 221, 693 223, 697 223, 698 223, 701 223',\n",
              "  '724 243, 723 243, 723 244, 721 244, 714 245, 711 246, 710 246, 710 245, 710 246',\n",
              "  '740 233, 742 230, 744 228, 746 227, 748 227, 749 227, 749 226, 751 230, 752 233, 752 239, 752 243, 753 246, 754 248, 756 251, 758 252, 760 252, 764 249, 766 247, 767 244, 767 241, 768 237, 768 235, 767 233, 767 231, 768 230, 768 229, 772 229, 774 228, 775 228, 777 227',\n",
              "  '771 259, 771 258, 773 254, 774 253, 775 252, 778 252, 780 255, 780 257, 780 259, 781 261, 781 263, 782 265, 783 266, 784 266, 785 266, 786 262, 787 260, 787 258, 787 257, 788 256, 791 255, 793 254, 794 253, 795 252, 796 252',\n",
              "  '803 207, 806 204, 807 203, 807 204, 807 203, 810 204, 811 205, 811 207, 811 210, 809 216, 807 217, 805 218, 805 218, 803 216, 802 216, 803 215, 805 215, 805 214, 811 218, 812 218, 814 218, 816 217, 817 215, 818 215',\n",
              "  '617 271, 617 269, 617 268, 617 269, 618 269, 620 273, 622 276, 622 278, 623 279, 623 278, 622 273, 622 269, 621 265, 621 261, 620 246, 620 240, 620 235, 621 230, 621 225, 621 220, 622 216, 624 208, 625 205, 627 203, 628 201, 630 199, 632 198, 635 198, 637 197, 643 197, 653 196, 656 196, 660 196, 671 195, 675 195, 680 195, 689 194, 693 194, 698 194, 711 193, 716 193, 721 193, 725 193, 731 193, 735 193, 745 193, 750 193, 755 193, 760 193, 770 192, 775 192, 780 192, 791 191, 795 191, 810 190, 814 190, 819 190, 831 190, 835 190, 838 191, 840 192, 842 193, 843 194, 844 198, 845 200, 845 201, 845 203'])"
            ]
          },
          "metadata": {
            "tags": []
          },
          "execution_count": 295
        }
      ]
    },
    {
      "cell_type": "code",
      "metadata": {
        "id": "CTXKE4T_kXAw",
        "colab_type": "code",
        "colab": {}
      },
      "source": [
        ""
      ],
      "execution_count": 0,
      "outputs": []
    },
    {
      "cell_type": "code",
      "metadata": {
        "id": "9Qr5LmklhnUZ",
        "colab_type": "code",
        "colab": {}
      },
      "source": [
        ""
      ],
      "execution_count": 0,
      "outputs": []
    },
    {
      "cell_type": "markdown",
      "metadata": {
        "id": "j3amciLEZcLc",
        "colab_type": "text"
      },
      "source": [
        "### TensorBoard"
      ]
    },
    {
      "cell_type": "code",
      "metadata": {
        "id": "tSYiPGanaeX8",
        "colab_type": "code",
        "outputId": "9d7abb2d-3b64-4422-de42-8a1901dbff89",
        "colab": {
          "base_uri": "https://localhost:8080/",
          "height": 163
        }
      },
      "source": [
        "!ps"
      ],
      "execution_count": 0,
      "outputs": [
        {
          "output_type": "stream",
          "text": [
            "    PID TTY          TIME CMD\n",
            "      1 ?        00:00:00 run.sh\n",
            "      7 ?        00:00:02 node\n",
            "     24 ?        00:00:03 jupyter-noteboo\n",
            "    120 ?        00:00:00 tail\n",
            "    128 ?        00:00:05 python3\n",
            "    188 ?        00:00:00 python3\n",
            "    220 ?        00:00:00 ps\n"
          ],
          "name": "stdout"
        }
      ]
    },
    {
      "cell_type": "code",
      "metadata": {
        "id": "awzPGt0gZ7g4",
        "colab_type": "code",
        "outputId": "e6625f52-8df2-46d8-a15c-0e042a714fc1",
        "colab": {
          "base_uri": "https://localhost:8080/",
          "height": 108
        }
      },
      "source": [
        "!git clone https://github.com/mixuala/colab_utils"
      ],
      "execution_count": 0,
      "outputs": [
        {
          "output_type": "stream",
          "text": [
            "Cloning into 'colab_utils'...\n",
            "remote: Enumerating objects: 243, done.\u001b[K\n",
            "remote: Total 243 (delta 0), reused 0 (delta 0), pack-reused 243\u001b[K\n",
            "Receiving objects: 100% (243/243), 65.93 KiB | 1.69 MiB/s, done.\n",
            "Resolving deltas: 100% (97/97), done.\n"
          ],
          "name": "stdout"
        }
      ]
    },
    {
      "cell_type": "code",
      "metadata": {
        "id": "kbjuldjZCgnk",
        "colab_type": "code",
        "colab": {}
      },
      "source": [
        "kill_tensorboard()"
      ],
      "execution_count": 0,
      "outputs": []
    },
    {
      "cell_type": "code",
      "metadata": {
        "id": "oAIykIDbZa7R",
        "colab_type": "code",
        "outputId": "33f4b182-42fa-4200-b0cd-5200b1dd312a",
        "colab": {
          "base_uri": "https://localhost:8080/",
          "height": 183
        }
      },
      "source": [
        "import os\n",
        "import colab_utils.tboard\n",
        "\n",
        "ROOT = %pwd\n",
        "colab_utils.tboard.launch_tensorboard(bin_dir=ROOT, log_dir=MODEL_DIR)\n",
        "print(MODEL_DIR)"
      ],
      "execution_count": 0,
      "outputs": [
        {
          "output_type": "stream",
          "text": [
            "calling wget https://bin.equinox.io/c/4VmDzA7iaHb/ngrok-stable-linux-amd64.zip ...\n",
            "calling unzip ngrok-stable-linux-amd64.zip ...\n"
          ],
          "name": "stdout"
        },
        {
          "output_type": "stream",
          "text": [
            "W0709 10:04:05.719727 140250003937152 deprecation_wrapper.py:119] From /content/colab_utils/tboard.py:115: The name tf.gfile.Exists is deprecated. Please use tf.io.gfile.exists instead.\n",
            "\n"
          ],
          "name": "stderr"
        },
        {
          "output_type": "stream",
          "text": [
            "ngrok installed. path=/content/ngrok\n",
            "status: tensorboard=False, ngrok=False\n",
            "tensorboard url= https://6fa51247.ngrok.io\n",
            "gs://karino2-tegashiki/sym_models/fe_layersbatchnorm\n"
          ],
          "name": "stdout"
        }
      ]
    },
    {
      "cell_type": "code",
      "metadata": {
        "id": "1ICxlNVNMGD4",
        "colab_type": "code",
        "colab": {}
      },
      "source": [
        "import re\n",
        "\n",
        "def find_one_command(res_arr, word):\n",
        "  return list(filter(lambda arr: arr[4] == word, res_arr))[0]\n",
        "\n",
        "def kill_tensorboard():\n",
        "  ps_res = !ps\n",
        "  res_arr = [re.split(r' +', one) for one in ps_res[1:]]\n",
        "  # pid_ngrok = find_one_command(res_arr, \"ngrok\")[1]\n",
        "  pid_tb = find_one_command(res_arr, \"tensorboard\")[1]\n",
        "  # !kill {pid_ngrok}\n",
        "  !kill {pid_tb}"
      ],
      "execution_count": 0,
      "outputs": []
    },
    {
      "cell_type": "code",
      "metadata": {
        "id": "dn4vHtXyMvdo",
        "colab_type": "code",
        "colab": {}
      },
      "source": [
        "# kill_tensorboard()"
      ],
      "execution_count": 0,
      "outputs": []
    },
    {
      "cell_type": "code",
      "metadata": {
        "id": "LSikVbxGMomn",
        "colab_type": "code",
        "outputId": "4d1319cf-1723-4cef-dfbd-b05a91221afa",
        "colab": {
          "base_uri": "https://localhost:8080/",
          "height": 163
        }
      },
      "source": [
        "!ps"
      ],
      "execution_count": 0,
      "outputs": [
        {
          "output_type": "stream",
          "text": [
            "    PID TTY          TIME CMD\n",
            "      1 ?        00:00:00 run.sh\n",
            "      6 ?        00:00:04 node\n",
            "     23 ?        00:00:05 jupyter-noteboo\n",
            "    124 ?        00:00:00 tail\n",
            "   1568 ?        00:00:04 python3\n",
            "   1622 ?        00:00:00 python3\n",
            "   1634 ?        00:00:00 ps\n"
          ],
          "name": "stdout"
        }
      ]
    },
    {
      "cell_type": "code",
      "metadata": {
        "id": "TJ0tDpA08FWE",
        "colab_type": "code",
        "colab": {}
      },
      "source": [
        "ps_res = !ps"
      ],
      "execution_count": 0,
      "outputs": []
    },
    {
      "cell_type": "code",
      "metadata": {
        "id": "7HFIEvgfLUp_",
        "colab_type": "code",
        "colab": {}
      },
      "source": [
        "res_arr = [re.split(r' +', one) for one in ps_res[1:]]"
      ],
      "execution_count": 0,
      "outputs": []
    },
    {
      "cell_type": "code",
      "metadata": {
        "id": "3uGGM0e-Ltl4",
        "colab_type": "code",
        "colab": {}
      },
      "source": [
        ""
      ],
      "execution_count": 0,
      "outputs": []
    },
    {
      "cell_type": "code",
      "metadata": {
        "id": "qJoaAU-NL4s0",
        "colab_type": "code",
        "outputId": "02a54f2a-cc1c-4d9b-eea7-ece8f0e6a0c0",
        "colab": {
          "base_uri": "https://localhost:8080/",
          "height": 35
        }
      },
      "source": [
        "find_one_command(res_arr, \"ngrok\")"
      ],
      "execution_count": 0,
      "outputs": [
        {
          "output_type": "execute_result",
          "data": {
            "text/plain": [
              "['', '2836', '?', '00:00:10', 'ngrok']"
            ]
          },
          "metadata": {
            "tags": []
          },
          "execution_count": 134
        }
      ]
    },
    {
      "cell_type": "code",
      "metadata": {
        "id": "w4UEB--xL7b9",
        "colab_type": "code",
        "outputId": "20ddf208-703f-4f6e-f0c4-296de148aeb4",
        "colab": {
          "base_uri": "https://localhost:8080/",
          "height": 35
        }
      },
      "source": [
        "find_one_command(res_arr, \"tensorboard\")"
      ],
      "execution_count": 0,
      "outputs": [
        {
          "output_type": "execute_result",
          "data": {
            "text/plain": [
              "['', '2833', '?', '00:01:04', 'tensorboard']"
            ]
          },
          "metadata": {
            "tags": []
          },
          "execution_count": 135
        }
      ]
    },
    {
      "cell_type": "code",
      "metadata": {
        "id": "X2NFCao9Mamy",
        "colab_type": "code",
        "outputId": "90e20807-9b6c-439e-88fa-8a86c0cdab2e",
        "colab": {
          "base_uri": "https://localhost:8080/",
          "height": 35
        }
      },
      "source": [
        "pid_ngrok = find_one_command(res_arr, \"ngrok\")[1]\n",
        "pid_ngrok"
      ],
      "execution_count": 0,
      "outputs": [
        {
          "output_type": "execute_result",
          "data": {
            "text/plain": [
              "'2836'"
            ]
          },
          "metadata": {
            "tags": []
          },
          "execution_count": 136
        }
      ]
    },
    {
      "cell_type": "code",
      "metadata": {
        "id": "BXoARopTMgsO",
        "colab_type": "code",
        "colab": {}
      },
      "source": [
        "!kill 2833"
      ],
      "execution_count": 0,
      "outputs": []
    },
    {
      "cell_type": "code",
      "metadata": {
        "id": "TKUaKylQMaJD",
        "colab_type": "code",
        "outputId": "4f6dcdaf-241a-40b2-c6fb-ab54d953bf8d",
        "colab": {
          "base_uri": "https://localhost:8080/",
          "height": 182
        }
      },
      "source": [
        "!ps"
      ],
      "execution_count": 0,
      "outputs": [
        {
          "output_type": "stream",
          "text": [
            "    PID TTY          TIME CMD\n",
            "      1 ?        00:00:00 run.sh\n",
            "      7 ?        00:00:22 node\n",
            "     24 ?        00:00:51 jupyter-noteboo\n",
            "    116 ?        00:00:00 tail\n",
            "    124 ?        00:26:11 python3\n",
            "    167 ?        00:00:00 python3\n",
            "   2833 ?        00:01:19 tensorboard\n",
            "   3718 ?        00:00:00 ps\n"
          ],
          "name": "stdout"
        }
      ]
    },
    {
      "cell_type": "code",
      "metadata": {
        "id": "ZZqaKP-GK7Hj",
        "colab_type": "code",
        "outputId": "91a879bc-ecf5-47aa-ff79-730500a3c978",
        "colab": {
          "base_uri": "https://localhost:8080/",
          "height": 35
        }
      },
      "source": [
        "list(filter(lambda arr: arr[4] == \"ngrok\", res_arr))"
      ],
      "execution_count": 0,
      "outputs": [
        {
          "output_type": "execute_result",
          "data": {
            "text/plain": [
              "[['', '2836', '?', '00:00:10', 'ngrok']]"
            ]
          },
          "metadata": {
            "tags": []
          },
          "execution_count": 132
        }
      ]
    },
    {
      "cell_type": "code",
      "metadata": {
        "id": "STSovJZ5KdGV",
        "colab_type": "code",
        "outputId": "9c426e4a-49b5-42a2-bc78-8fcad536f1ce",
        "colab": {
          "base_uri": "https://localhost:8080/",
          "height": 35
        }
      },
      "source": [
        "re.split(r' +', ps_res[1])"
      ],
      "execution_count": 0,
      "outputs": [
        {
          "output_type": "execute_result",
          "data": {
            "text/plain": [
              "['', '1', '?', '00:00:00', 'run.sh']"
            ]
          },
          "metadata": {
            "tags": []
          },
          "execution_count": 129
        }
      ]
    },
    {
      "cell_type": "code",
      "metadata": {
        "id": "ZgR8FjBL9EYH",
        "colab_type": "code",
        "colab": {}
      },
      "source": [
        "!kill 10785\n",
        "!kill 10788"
      ],
      "execution_count": 0,
      "outputs": []
    },
    {
      "cell_type": "code",
      "metadata": {
        "id": "Joxmjg5_Q_YQ",
        "colab_type": "code",
        "outputId": "791b5d05-82e2-41f9-bab9-92ae0bc000d4",
        "colab": {
          "base_uri": "https://localhost:8080/",
          "height": 200
        }
      },
      "source": [
        "!ps"
      ],
      "execution_count": 0,
      "outputs": [
        {
          "output_type": "stream",
          "text": [
            "    PID TTY          TIME CMD\n",
            "      1 ?        00:00:00 run.sh\n",
            "      6 ?        00:00:19 node\n",
            "     21 ?        00:00:46 jupyter-noteboo\n",
            "    111 ?        00:00:01 tail\n",
            "    120 ?        00:00:56 python3\n",
            "    400 ?        00:00:00 python3\n",
            "   7345 ?        00:00:47 python3\n",
            "   7406 ?        00:00:00 python3\n",
            "   8279 ?        00:00:00 ps\n"
          ],
          "name": "stdout"
        }
      ]
    },
    {
      "cell_type": "markdown",
      "metadata": {
        "id": "FgMi0svZ8j-a",
        "colab_type": "text"
      },
      "source": [
        "# Try and error"
      ]
    },
    {
      "cell_type": "code",
      "metadata": {
        "id": "z_dEI4UAk9o8",
        "colab_type": "code",
        "colab": {}
      },
      "source": [
        ""
      ],
      "execution_count": 0,
      "outputs": []
    },
    {
      "cell_type": "markdown",
      "metadata": {
        "id": "PHVlNTpHylam",
        "colab_type": "text"
      },
      "source": [
        "### TCN n estimate"
      ]
    },
    {
      "cell_type": "code",
      "metadata": {
        "id": "2JhEcpslu2D5",
        "colab_type": "code",
        "colab": {}
      },
      "source": [
        "import math"
      ],
      "execution_count": 0,
      "outputs": []
    },
    {
      "cell_type": "code",
      "metadata": {
        "id": "WTz_d08BvBMh",
        "colab_type": "code",
        "outputId": "e31badc5-61c6-411a-e70a-64e3caf913ac",
        "colab": {
          "base_uri": "https://localhost:8080/",
          "height": 35
        }
      },
      "source": [
        "1+499/14"
      ],
      "execution_count": 0,
      "outputs": [
        {
          "output_type": "execute_result",
          "data": {
            "text/plain": [
              "36.642857142857146"
            ]
          },
          "metadata": {
            "tags": []
          },
          "execution_count": 196
        }
      ]
    },
    {
      "cell_type": "code",
      "metadata": {
        "id": "dsj_U9AKtxd6",
        "colab_type": "code",
        "outputId": "3b395a63-4d9c-40a4-a9d1-3722cfbde830",
        "colab": {
          "base_uri": "https://localhost:8080/",
          "height": 35
        }
      },
      "source": [
        "# 1+2*(k-1)*(2^n-1) #> 500\n",
        "# 1+2*7*(2^n-1) > 500\n",
        "# 2^n-1 > 499/14\n",
        "# 2^n > 1+499/14\n",
        "math.log2(1+ (499/14.0))"
      ],
      "execution_count": 0,
      "outputs": [
        {
          "output_type": "execute_result",
          "data": {
            "text/plain": [
              "5.19546009354945"
            ]
          },
          "metadata": {
            "tags": []
          },
          "execution_count": 197
        }
      ]
    },
    {
      "cell_type": "markdown",
      "metadata": {
        "id": "ePWMEE2dvL0f",
        "colab_type": "text"
      },
      "source": [
        "I set n = 6"
      ]
    },
    {
      "cell_type": "code",
      "metadata": {
        "id": "15cdXM5tJN6Z",
        "colab_type": "code",
        "outputId": "a67bd7e1-a3d6-49f2-af1b-30d25716731e",
        "colab": {
          "base_uri": "https://localhost:8080/",
          "height": 35
        }
      },
      "source": [
        "# for target == 2000 case\n",
        "math.log2(1+ (1999/14.0))"
      ],
      "execution_count": 0,
      "outputs": [
        {
          "output_type": "execute_result",
          "data": {
            "text/plain": [
              "7.1677765348637354"
            ]
          },
          "metadata": {
            "tags": []
          },
          "execution_count": 8
        }
      ]
    },
    {
      "cell_type": "code",
      "metadata": {
        "id": "f5ctvNRHJNjh",
        "colab_type": "code",
        "outputId": "7410ccbd-54ec-40f0-8097-eebbd176d0c4",
        "colab": {
          "base_uri": "https://localhost:8080/",
          "height": 35
        }
      },
      "source": [
        "# for target == 300 case\n",
        "math.log2(1+ (300/14.0))"
      ],
      "execution_count": 0,
      "outputs": [
        {
          "output_type": "execute_result",
          "data": {
            "text/plain": [
              "4.487265826834022"
            ]
          },
          "metadata": {
            "tags": []
          },
          "execution_count": 10
        }
      ]
    },
    {
      "cell_type": "code",
      "metadata": {
        "id": "ST2TTzYovI5y",
        "colab_type": "code",
        "colab": {}
      },
      "source": [
        ""
      ],
      "execution_count": 0,
      "outputs": []
    },
    {
      "cell_type": "code",
      "metadata": {
        "id": "SnKg7LtXxxWd",
        "colab_type": "code",
        "outputId": "f0094467-fdb4-4488-8723-466f5438b600",
        "colab": {
          "base_uri": "https://localhost:8080/",
          "height": 35
        }
      },
      "source": [
        "2**0"
      ],
      "execution_count": 0,
      "outputs": [
        {
          "output_type": "execute_result",
          "data": {
            "text/plain": [
              "1"
            ]
          },
          "metadata": {
            "tags": []
          },
          "execution_count": 198
        }
      ]
    },
    {
      "cell_type": "code",
      "metadata": {
        "id": "nzZKLcbsF8z2",
        "colab_type": "code",
        "colab": {}
      },
      "source": [
        ""
      ],
      "execution_count": 0,
      "outputs": []
    }
  ]
}